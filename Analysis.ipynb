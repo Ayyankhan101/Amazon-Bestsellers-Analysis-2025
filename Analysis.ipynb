{
  "cells": [
    {
      "cell_type": "markdown",
      "metadata": {},
      "source": [
        "# Amazon Bestsellers Analysis\n",
        "\n",
        "This notebook performs an analysis of the Amazon bestsellers dataset."
      ]
    },
    {
      "cell_type": "markdown",
      "metadata": {},
      "source": [
        "## 1. Importing Libraries\n",
        "\n",
        "This cell imports the necessary Python libraries for data analysis, manipulation, and visualization."
      ]
    },
    {
      "cell_type": "code",
      "execution_count": 4,
      "id": "f3f1bb67",
      "metadata": {},
      "outputs": [],
      "source": [
        "import pandas as pd\n",
        "import numpy as np\n",
        "import matplotlib.pyplot as plt\n",
        "import seaborn as sns\n",
        "import plotly.express as px"
      ]
    },
    {
      "cell_type": "markdown",
      "metadata": {},
      "source": [
        "## 2. Loading the Data\n",
        "\n",
        "The dataset is loaded from the `Amazon_bestsellers_items_2025.csv` file into a pandas DataFrame."
      ]
    },
    {
      "cell_type": "code",
      "execution_count": 5,
      "id": "e55cbc9b",
      "metadata": {},
      "outputs": [],
      "source": [
        "df_bestsellers_2025 = pd.read_csv('Amazon_bestsellers_items_2025.csv', encoding='utf-8')"
      ]
    },
    {
      "cell_type": "markdown",
      "metadata": {},
      "source": [
        "## 3. Data Cleaning and Preprocessing\n",
        "\n",
        "This section focuses on cleaning the data, particularly the price and rating columns, to make them suitable for numerical analysis."
      ]
    },
    {
      "cell_type": "code",
      "execution_count": 6,
      "id": "9f13fc00",
      "metadata": {},
      "outputs": [],
      "source": [
        "# Helper: parse prices for multiple locales/currencies into numeric native currency values\n",
        "price_raw = df_bestsellers_2025['product_price'].astype(str)\n"
      ]
    },
    {
      "cell_type": "markdown",
      "id": "31ac024f",
      "metadata": {},
      "source": [
        "# Map country to expected currency symbol/order for quick parsing"
      ]
    },
    {
      "cell_type": "code",
      "execution_count": null,
      "id": "599c1fa0",
      "metadata": {},
      "outputs": [],
      "source": [
        "currency_symbols = {\n",
        "    'US': '$',\n",
        "    'CA': '$',\n",
        "    'AU': '$',\n",
        "    'DE': '€',\n",
        "    'FR': '€',\n",
        "    'ES': '€',\n",
        "    'IT': '€',\n",
        "    'JP': '¥',\n",
        "    'MX': '$',\n",
        "    'IN': '\\u20b9'\n",
        "}"
      ]
    },
    {
      "cell_type": "markdown",
      "id": "5e1caae0",
      "metadata": {},
      "source": [
        "# Extract numeric characters regardless of symbol, commas, spaces"
      ]
    },
    {
      "cell_type": "code",
      "execution_count": null,
      "id": "c4244ded",
      "metadata": {},
      "outputs": [],
      "source": [
        "price_native = price_raw.str.replace('[^0-9.]+', '', regex=True)"
      ]
    },
    {
      "cell_type": "markdown",
      "id": "4b75b98d",
      "metadata": {},
      "source": [
        "# Apply heuristic function"
      ]
    },
    {
      "cell_type": "code",
      "execution_count": null,
      "id": "828e7eb2",
      "metadata": {},
      "outputs": [],
      "source": [
        "def parse_locale_number(s):\n",
        "    if pd.isna(s) or s == '':\n",
        "        return np.nan\n",
        "    # s currently stripped to digits and dots only by earlier regex; we need original to detect commas\n",
        "    return pd.to_numeric(s, errors='coerce')\n",
        "\n",
        "price_native_num = price_native.apply(parse_locale_number)"
      ]
    },
    {
      "cell_type": "code",
      "execution_count": 10,
      "id": "5ae91948",
      "metadata": {},
      "outputs": [],
      "source": [
        "# Attach\n",
        "if 'price_numeric' not in df_bestsellers_2025.columns:\n",
        "    df_bestsellers_2025['price_numeric'] = price_native_num\n",
        "else:\n",
        "    # fill missing using our new parse\n",
        "    df_bestsellers_2025['price_numeric'] = df_bestsellers_2025['price_numeric'].fillna(price_native_num)"
      ]
    },
    {
      "cell_type": "markdown",
      "id": "e743901b",
      "metadata": {},
      "source": [
        "# Stars and rating counts"
      ]
    },
    {
      "cell_type": "code",
      "execution_count": null,
      "id": "5ffc4f30",
      "metadata": {},
      "outputs": [],
      "source": [
        "\n",
        "if 'star_numeric' not in df_bestsellers_2025.columns:\n",
        "    df_bestsellers_2025['star_numeric'] = pd.to_numeric(df_bestsellers_2025['product_star_rating'], errors='coerce')\n",
        "if 'num_ratings_numeric' not in df_bestsellers_2025.columns:\n",
        "    df_bestsellers_2025['num_ratings_numeric'] = pd.to_numeric(df_bestsellers_2025['product_num_ratings'], errors='coerce')"
      ]
    },
    {
      "cell_type": "markdown",
      "id": "e97297b1",
      "metadata": {},
      "source": [
        "# Country coverage and missingness"
      ]
    },
    {
      "cell_type": "code",
      "execution_count": null,
      "id": "cd5b0fd4",
      "metadata": {},
      "outputs": [
        {
          "name": "stdout",
          "output_type": "stream",
          "text": [
            "Calculated expanded numeric parsing and missingness by country.\n",
            "  country  price_numeric  star_numeric  num_ratings_numeric\n",
            "0      AU           0.22          0.11                 0.11\n",
            "1      CA           0.01          0.02                 0.02\n",
            "2      DE           0.02          0.00                 0.00\n",
            "3      ES           0.03          0.00                 0.00\n",
            "4      FR           0.00          0.04                 0.04\n"
          ]
        }
      ],
      "source": [
        "\n",
        "missing_summary = df_bestsellers_2025[['price_numeric','star_numeric','num_ratings_numeric']].isna().groupby(df_bestsellers_2025['country']).mean().reset_index()\n",
        "\n",
        "print('Calculated expanded numeric parsing and missingness by country.')\n",
        "print(missing_summary.head())\n"
      ]
    },
    {
      "cell_type": "markdown",
      "id": "457aeb6c",
      "metadata": {},
      "source": [
        "# Correlations among numeric fields (overall and by country)"
      ]
    },
    {
      "cell_type": "code",
      "execution_count": null,
      "id": "64362c9a",
      "metadata": {},
      "outputs": [
        {
          "name": "stdout",
          "output_type": "stream",
          "text": [
            "Overall correlations (Pearson):\n",
            "                     price_numeric  star_numeric  num_ratings_numeric  \\\n",
            "price_numeric             1.000000     -0.066710            -0.093276   \n",
            "star_numeric             -0.066710      1.000000             0.126001   \n",
            "num_ratings_numeric      -0.093276      0.126001             1.000000   \n",
            "rank                     -0.010605     -0.095370            -0.187409   \n",
            "\n",
            "                         rank  \n",
            "price_numeric       -0.010605  \n",
            "star_numeric        -0.095370  \n",
            "num_ratings_numeric -0.187409  \n",
            "rank                 1.000000  \n"
          ]
        }
      ],
      "source": [
        "\n",
        "num_cols = ['price_numeric','star_numeric','num_ratings_numeric','rank']\n",
        "num_df = df_bestsellers_2025[num_cols].apply(pd.to_numeric, errors='coerce')\n",
        "print('Overall correlations (Pearson):')\n",
        "print(num_df.corr(method='pearson'))"
      ]
    },
    {
      "cell_type": "markdown",
      "id": "6038f909",
      "metadata": {},
      "source": [
        "# By country correlations for price vs stars and ratings vs stars"
      ]
    },
    {
      "cell_type": "code",
      "execution_count": null,
      "id": "efa60cee",
      "metadata": {},
      "outputs": [
        {
          "name": "stdout",
          "output_type": "stream",
          "text": [
            "By country correlations:\n",
            "  country  corr_price_star  corr_numratings_star\n",
            "0      AU        -0.172445              0.022750\n",
            "1      CA         0.099237              0.020649\n",
            "2      DE        -0.018444              0.175409\n",
            "3      ES         0.122758              0.325196\n",
            "4      FR        -0.016516              0.258244\n",
            "5      IN        -0.061596             -0.030442\n",
            "6      IT        -0.113272              0.288099\n",
            "7      JP         0.051133              0.164397\n",
            "8      MX        -0.215516              0.001452\n",
            "9      US         0.231012              0.240209\n"
          ]
        },
        {
          "name": "stderr",
          "output_type": "stream",
          "text": [
            "/tmp/ipykernel_56789/461302400.py:2: FutureWarning: DataFrameGroupBy.apply operated on the grouping columns. This behavior is deprecated, and in a future version of pandas the grouping columns will be excluded from the operation. Either pass `include_groups=False` to exclude the groupings or explicitly select the grouping columns after groupby to silence this warning.\n",
            "  by_country_corr = df_bestsellers_2025.groupby('country').apply(\n"
          ]
        }
      ],
      "source": [
        "\n",
        "by_country_corr = df_bestsellers_2025.groupby('country').apply(\n",
        "    lambda g: pd.Series({\n",
        "        'corr_price_star': g['price_numeric'].corr(g['star_numeric']),\n",
        "        'corr_numratings_star': g['num_ratings_numeric'].corr(g['star_numeric'])\n",
        "    })\n",
        ").reset_index()\n",
        "print('By country correlations:')\n",
        "print(by_country_corr)"
      ]
    },
    {
      "cell_type": "markdown",
      "id": "abff6e03",
      "metadata": {},
      "source": [
        "# Top products by weighted popularity (rating * log(1+num_ratings))"
      ]
    },
    {
      "cell_type": "code",
      "execution_count": null,
      "id": "da3b25e8",
      "metadata": {},
      "outputs": [
        {
          "name": "stdout",
          "output_type": "stream",
          "text": [
            "Top 15 by popularity score:\n",
            "    country  rank        asin  \\\n",
            "449      DE    51  B0DGSZB3QQ   \n",
            "470      DE    72  B0DFHKKKK2   \n",
            "494      DE    96  B0CKRMN9BP   \n",
            "429      DE    31  B0CFQ2R348   \n",
            "399      DE     1  B0DGTG1BF6   \n",
            "401      DE     3  B0CKWZWYQ6   \n",
            "407      DE     9  B0DCRVR48W   \n",
            "423      DE    25  B0BGKHN43R   \n",
            "140      US    41  B0CJYL7JYV   \n",
            "109      US    10  B0CLBV27N2   \n",
            "30       IN    31  B073VL49H8   \n",
            "33       IN    34  B073VKTK96   \n",
            "27       IN    28  B073VMC9RZ   \n",
            "60       IN    61  B073VMC9S1   \n",
            "5        IN     6  B073VLNGJW   \n",
            "\n",
            "                                         product_title  price_numeric  \\\n",
            "449  WISO Steuer 2025 (für Steuerjahr 2024) Für Win...        3499.00   \n",
            "470  WISO Steuer 2025 (für Steuerjahr 2024)|Für Win...        3154.00   \n",
            "494  WISO Steuer 2024 (für Steuerjahr 2023), Für Wi...        2921.00   \n",
            "429  WISO Steuer 2024 (für Steuerjahr 2023), Für Wi...        2599.00   \n",
            "399  WISO Steuer 2025 (für Steuerjahr 2024) Für Win...        2549.00   \n",
            "401  WISO Steuer 2024 (für Steuerjahr 2023) Für Win...        2599.00   \n",
            "407  WISO Steuer 2025 (für Steuerjahr 2024) | Für W...        2579.00   \n",
            "423  WISO Steuer 2023 (für Steuerjahr 2022) | Aktiv...        2649.00   \n",
            "140  [Old Version] TurboTax Deluxe 2023, Federal & ...          56.69   \n",
            "109  [Old Version] TurboTax Deluxe 2023, Federal & ...          69.99   \n",
            "30   Quick Heal | Total Security | 1 User | 1 Year ...        1182.00   \n",
            "33   Quick Heal | Total Security | 2 Users | 3 Year...        2869.00   \n",
            "27   Quick Heal | Total Security | 1 User | 3 Years...        2292.00   \n",
            "60   Quick Heal Total Security - 2 PCs, 1 Year | AI...        1463.00   \n",
            "5    Bitdefender - 1 Computer,3 Years - Total Secur...         599.00   \n",
            "\n",
            "     star_numeric  num_ratings_numeric  popularity_score  \n",
            "449           4.8              15190.0         46.216600  \n",
            "470           4.8              15190.0         46.216600  \n",
            "494           4.8              15190.0         46.216600  \n",
            "429           4.8              15190.0         46.216600  \n",
            "399           4.8              15190.0         46.216600  \n",
            "401           4.8              15190.0         46.216600  \n",
            "407           4.8              15190.0         46.216600  \n",
            "423           4.7               9050.0         42.819963  \n",
            "140           4.4              16323.0         42.681723  \n",
            "109           4.4              16323.0         42.681723  \n",
            "30            4.4              14912.0         42.283950  \n",
            "33            4.4              14912.0         42.283950  \n",
            "27            4.4              14912.0         42.283950  \n",
            "60            4.4              14912.0         42.283950  \n",
            "5             4.4              12973.0         41.671092  \n"
          ]
        }
      ],
      "source": [
        "\n",
        "df_bestsellers_2025['popularity_score'] = df_bestsellers_2025['star_numeric'] * np.log1p(df_bestsellers_2025['num_ratings_numeric'])\n",
        "\n",
        "top_pop = df_bestsellers_2025.sort_values('popularity_score', ascending=False).head(15)[['country','rank','asin','product_title','price_numeric','star_numeric','num_ratings_numeric','popularity_score']]\n",
        "print('Top 15 by popularity score:')\n",
        "print(top_pop)\n"
      ]
    },
    {
      "cell_type": "markdown",
      "id": "aecbedaf",
      "metadata": {},
      "source": [
        "# Price bands and rating distribution"
      ]
    },
    {
      "cell_type": "code",
      "execution_count": null,
      "id": "a5efbe3a",
      "metadata": {},
      "outputs": [
        {
          "name": "stdout",
          "output_type": "stream",
          "text": [
            "Price band summary (first rows):\n",
            "   country price_band  avg_rating  median_price  count\n",
            "0       AU      0-250    4.250820         66.00     69\n",
            "1       AU    250-500    4.150000        341.44      8\n",
            "2       AU   500-1000         NaN        897.49      1\n",
            "3       AU  1000-2000         NaN           NaN      0\n",
            "4       AU  2000-5000         NaN           NaN      0\n",
            "5       AU      5000+         NaN           NaN      0\n",
            "6       CA      0-250    4.050000         39.99     93\n",
            "7       CA    250-500    3.825000        310.94      4\n",
            "8       CA   500-1000    5.000000        698.50      2\n",
            "9       CA  1000-2000         NaN           NaN      0\n",
            "10      CA  2000-5000         NaN           NaN      0\n",
            "11      CA      5000+         NaN           NaN      0\n",
            "12      DE      0-250         NaN           NaN      0\n",
            "13      DE    250-500         NaN           NaN      0\n",
            "14      DE   500-1000    4.133333        884.00      6\n",
            "15      DE  1000-2000    4.193333       1565.50     30\n",
            "16      DE  2000-5000    4.431818       3299.00     44\n",
            "17      DE      5000+    4.266667       8749.00     18\n",
            "18      ES      0-250         NaN           NaN      0\n",
            "19      ES    250-500         NaN           NaN      0\n"
          ]
        },
        {
          "name": "stderr",
          "output_type": "stream",
          "text": [
            "/tmp/ipykernel_56789/122973034.py:6: FutureWarning: The default of observed=False is deprecated and will be changed to True in a future version of pandas. Pass observed=False to retain current behavior or observed=True to adopt the future default and silence this warning.\n",
            "  band_summary = df_bestsellers_2025.groupby(['country','price_band']).agg(\n"
          ]
        }
      ],
      "source": [
        "\n",
        "bins = [0, 250, 500, 1000, 2000, 5000, np.inf]\n",
        "labels = ['0-250','250-500','500-1000','1000-2000','2000-5000','5000+']\n",
        "df_bestsellers_2025['price_band'] = pd.cut(df_bestsellers_2025['price_numeric'], bins=bins, labels=labels, include_lowest=True)\n",
        "\n",
        "band_summary = df_bestsellers_2025.groupby(['country','price_band']).agg(\n",
        "    avg_rating=('star_numeric','mean'),\n",
        "    median_price=('price_numeric','median'),\n",
        "    count=('asin','count')\n",
        ").reset_index()\n",
        "print('Price band summary (first rows):')\n",
        "print(band_summary.head(20))"
      ]
    },
    {
      "cell_type": "code",
      "execution_count": null,
      "id": "99433c78",
      "metadata": {},
      "outputs": [
        {
          "name": "stderr",
          "output_type": "stream",
          "text": [
            "/tmp/ipykernel_56789/2963393616.py:3: FutureWarning: \n",
            "\n",
            "Passing `palette` without assigning `hue` is deprecated and will be removed in v0.14.0. Assign the `x` variable to `hue` and set `legend=False` for the same effect.\n",
            "\n",
            "  sns.boxenplot(data=df_bestsellers_2025, x='country', y='price_numeric', palette='viridis')\n"
          ]
        },
        {
          "data": {
            "image/png": "[encoded data removed]",
            "text/plain": [
              "<Figure size 1200x500 with 1 Axes>"
            ]
          },
          "metadata": {},
          "output_type": "display_data"
        }
      ],
      "source": [
        "plt.figure(figsize=(12, 5))\n",
        "sns.boxenplot(data=df_bestsellers_2025, x='country', y='price_numeric', palette='viridis')\n",
        "plt.title('Price Distribution by Country (USD/€/¥/₹ converted)', fontsize=14)\n",
        "plt.ylabel('Price (numeric)')\n",
        "plt.xlabel('')\n",
        "plt.xticks(rotation=45)\n",
        "plt.tight_layout()\n",
        "plt.show()"
      ]
    },
    {
      "cell_type": "code",
      "execution_count": 19,
      "id": "6c29ecad",
      "metadata": {},
      "outputs": [
        {
          "name": "stderr",
          "output_type": "stream",
          "text": [
            "/tmp/ipykernel_56789/3433794250.py:2: FutureWarning: \n",
            "\n",
            "Passing `palette` without assigning `hue` is deprecated and will be removed in v0.14.0. Assign the `x` variable to `hue` and set `legend=False` for the same effect.\n",
            "\n",
            "  sns.boxplot(data=df_bestsellers_2025, x='country', y='star_numeric',palette=\"pastel\")\n"
          ]
        },
        {
          "data": {
            "image/png": "[encoded data removed]",
            "text/plain": [
              "<Figure size 1000x500 with 1 Axes>"
            ]
          },
          "metadata": {},
          "output_type": "display_data"
        }
      ],
      "source": [
        "plt.figure(figsize=(10,5))\n",
        "sns.boxplot(data=df_bestsellers_2025, x='country', y='star_numeric',palette=\"pastel\")\n",
        "plt.title('Star Ratings by Country')\n",
        "plt.xlabel('Country')\n",
        "plt.ylabel('Star Rating')\n",
        "plt.xticks(rotation=45)\n",
        "plt.tight_layout()\n",
        "plt.show()"
      ]
    },
    {
      "cell_type": "code",
      "execution_count": 20,
      "id": "7b7cb990",
      "metadata": {},
      "outputs": [
        {
          "name": "stderr",
          "output_type": "stream",
          "text": [
            "/tmp/ipykernel_56789/635582799.py:2: FutureWarning: \n",
            "\n",
            "Passing `palette` without assigning `hue` is deprecated and will be removed in v0.14.0. Assign the `x` variable to `hue` and set `legend=False` for the same effect.\n",
            "\n",
            "  sns.boxplot(data=df_bestsellers_2025, x='country', y='price_numeric',palette=\"viridis\")\n"
          ]
        },
        {
          "data": {
            "image/png": "[encoded data removed]",
            "text/plain": [
              "<Figure size 1000x500 with 1 Axes>"
            ]
          },
          "metadata": {},
          "output_type": "display_data"
        }
      ],
      "source": [
        "plt.figure(figsize=(10,5))\n",
        "sns.boxplot(data=df_bestsellers_2025, x='country', y='price_numeric',palette=\"viridis\")\n",
        "plt.title('Price (native numeric) by Country')\n",
        "plt.xlabel('Country')\n",
        "plt.ylabel('Price (native)')\n",
        "plt.yscale('log')\n",
        "plt.xticks(rotation=45)\n",
        "plt.tight_layout()\n",
        "plt.show()"
      ]
    },
    {
      "cell_type": "code",
      "execution_count": 28,
      "id": "193ca8b1",
      "metadata": {},
      "outputs": [
        {
          "data": {
            "application/vnd.plotly.v1+json": {
              "config": {
                "plotlyServerURL": "https://plot.ly"
              },
              "data": [
                {
                  "hovertemplate": "<b>%{hovertext}</b><br><br>country=IN<br>price_numeric=%{x}<br>star_numeric=%{y}<br>num_ratings_numeric=%{marker.size}<extra></extra>",
                  "hovertext": [
                    "Kaspersky | Premium - Total Security (Ultimate Security) | 1 Device | 1 Year | Email Delivery in 1 Hour",
                    "K7 Security K7, Total Security, 1 User, 1 Year, Email Delivery In 30 Min, No Cd",
                    "Microsoft Office 2021 Professional - Lifetime Validity - Windows only - Email delivery in 2 Hours- no CD - Email Bind Key",
                    "Bitdefender - 1 Device,1 Year - Mobile Security | Android| Latest Version | Email Delivery In 2 Hours- No Cd |",
                    "McAfee Total Protection 2025 | 1 Device, 3 Years | Antivirus Internet Security Software | Scam Protection & Identity Monitori",
                    "Bitdefender - 1 Computer,3 Years - Total Security | Windows | Latest Version | Email Delivery In 2 Hours- No Cd |",
                    "Microsoft Office 2019 Professional - Lifetime Validity - Windows only - Email delivery in 2 Hours- no CD",
                    "McAfee Total Protection 2025 | 1 Device, 1 Year | Antivirus Internet Security Software | Scam Protection & Identity Monitorin",
                    "Apple - App Store Code - For India - Delivered via Email",
                    "Bitdefender 1 User, 3 Years- Total Security | Windows Latest Version | (Single Activation Code)- [Email Delivery in 2 hours -",
                    "Kaspersky | Total Security (Plus) | 1 Device | 3 Years | Email Delivery in 1 Hour",
                    "K7 Security K7 Antivirus Premium- 1 User, 1 Year (Email Delivery In 2 Hours, No Cd)",
                    "McAfee Antivirus 2024 | 1 Device, 1 Year | Antivirus Internet Security Software| Email Delivery",
                    "Quick Heal | Antivirus Pro | 1 user | 1 Year | AI Based Device Security for Laptop | Email and Browsing Protection| (Email De",
                    "McAfee Antivirus 2024 | 1 Device, 3 Year | Antivirus Internet Security Software | Email Delivery",
                    "Win 11/10 Pro Lifetime Activation Retail License Product Key (1 Device, 32/64 Bit) | Permanent Activation | Reinstallation Su",
                    "Kaspersky | Anti-Virus | 1 Device | 1 Year | Email Delivery in 1 Hour",
                    "Quick Heal | Total Security Renewal Upgrade Gold pack | 1 User | 3 years | Email Delivery in 1 Hour - no CD| Existing Quick H",
                    "K7 Total Security - 1 PC's, 3 Years (Email Delivery in 2 hours - No CD)",
                    "Kaspersky Internet Security for Android Mobile Latest Version- 1 Device, 1 Year (Email Delivery in 1 Hour)",
                    "Bitdefender - 1 Computer,1 Year - Total Security | Windows | Latest Version | Email Delivery In 2 Hours- No Cd |",
                    "Microsoft 365 Personal -1 TB of cloud storage - Advanced security - Innovative apps with AI - 12-Month Subscription - Windows",
                    "BitDefender Total Security Latest Version (Windows / Mac / Android / iOS) - 3 Devices, 3 Years (Single Activation Code) (Emai",
                    "McAfee Total Protection 2025 | 1 Device, 3 Years | Antivirus Internet Security Software | Scam Protection & Identity Monitori",
                    "Bitdefender - 1 Computer,1 Year - Antivirus Plus | Windows | Latest Version | Email Delivery In 2 Hours- No Cd |",
                    "Kaspersky | Total Security | 1 Device | 1 Year | Email Delivery in 1 Hour",
                    "Kaspersky | Premium - Total Security (Ultimate Security) | 1 Device | 2 Years | Email Delivery in 1 Hour",
                    "Quick Heal | Total Security | 1 User | 3 Years | AI Based Device Security for PC | Banking Protection | Parental Control| (Em",
                    "Ms 365 Professional Plus with Copilot Ai | Exclusive 2026 Edition | (5 Devices, Lifetime Validity) for Win, iOS, macOS, iPADO",
                    "Kaspersky | Internet Security | 1 Device | 2 Years | Email Delivery in 1 Hour",
                    "Quick Heal | Total Security | 1 User | 1 Year | AI Based Device Security for Windows PC | Banking and Browsing Protection | D",
                    "Microsoft 365 Family – 6 Devices- up to 6 TB of cloud storage (1 TB per person)- Advanced security - Innovative apps with AI ",
                    "Bitdefender - 3 Computer,3 Years - Total Security | Windows | Latest Version | (Single Activation Code) Email Delivery in 2 H",
                    "Quick Heal | Total Security | 2 Users | 3 Years | AI Based Device Security for Windows PC | Banking and Browsing Protection |",
                    "Quick Heal | Antivirus Pro | 1 user | 1 Year | AI Based Device Security for Laptop | Email and Browsing Protection (Email Del",
                    "Quick Heal Total Security Renewal Upgrade Silver Pack - 1 User, 1 Year (Email Delivery In 1 Hour- No Cd) Existing Single User",
                    "Net Protector NPAV Net Protector 2025 Total Security Gold Edition - 1 PC, 1 Year - (Email Delivery in 1 Hour - No CD)",
                    "Kaspersky | Premium - Total Security (Ultimate Security) | 1 Device | 3 Years | Email Delivery in 1 Hour",
                    "MS Professional Plus LTSC 2024 (Complete Suite) | NEW 2025 Released | Retail License Key for Windows 10/11 (1 User/PC, Lifeti",
                    "Quick Heal | Antivirus Pro – Renewal Pack | 1 user | 3 Years | Email Delivery in 1 Hour - no CD | Existing Quick Heal Single ",
                    "Kaspersky | Premium - Total Security (Ultimate Security) | 3 Devices | 1 Year | Email Delivery in 1 Hour",
                    "Ms Pro Plus LTSC 2024 Full Edition (100% Genuine) (New 2025 Updated) Lifetime Retail Key for Win (1 PC/User) | Reinstall Anyt",
                    "Win 11 Pro win 10 pro Product License Key - 1 User Lifetime Validity (Quick Email Delivery) 32 Bit | 64 Bit",
                    "Guardian Antivirus Total Security With Anti-Ransomware- 1Pc/1Year (Email Delivery In 2 Hours- No Cd)",
                    "TECHLOCKER Win 11 Pro Online License Key Motherboard Bind (1 User/PC, Lifetime Validity) 32/64 Bit | Unlimited Reinstallation",
                    "Net Protector Antivirus Pro 2025 - 1 PC 1 Year, (Email delivery in 1 Hour- No CD)",
                    "Quick Heal Total Security Latest Version for Android - 1 Device, 3 Years Email Delivery In 1 Hour- No Cd",
                    "Apple - App Store Code - For India - Delivered via Email",
                    "Win 11 & 10 Pro Retail Product License Key (Latest 2025 Edition) (1 User/PC, Lifetime Validity) 32/64 bit | Unlimited Reinsta",
                    "K7 Security K7 Total Security Latest Version, 3 Pc's, 1 Year (Email Delivery In 2 Hours, No Cd)",
                    "Kaspersky | Internet Security | 1 Device | 3 Years | Email Delivery in 1 Hour",
                    "Kaspersky Standard Security 2025 | 1 Device | 1 Year | Email Delivery in 1 Hour",
                    "Npav | Net Protector | Total Security | Latest Version | 1 Pc | 1 Year | Email Delivery In 1 Hour - No Cd",
                    "Bitdefender 3 Device, 1 Year - Total Mobile Security | Android & iOS | Latest Version |(Single Activation Code) - [Email Deli",
                    "Bitdefender - 1 Device,1 Year - Mobile Security | Android | Latest Version | Email Delivery in 2 Hours- No CD |",
                    "Microsoft Office Home 2024 - Lifetime Validity - Email Delivery in 3 hours",
                    "Quick Heal | Antivirus Pro – Renewal Pack | 1 user | 1 Years | Email Delivery in 1 Hour - no CD | Existing Quick Heal Single ",
                    "Ms Home 2024 for MacOS (New 2025 Updated Edition) | Lifetime License for all Mac (Supports M1, M2, M3, M4) | Pre-Activated | ",
                    "Norton Mobile Security - 1 Device - 1 Year (Email Delivery in 2 Hours - No CD)",
                    "McAfee Total Protection 2024 | 3 Devices, 2 Years | Antivirus Internet Security Software | Password Manager & Dark Web Monito",
                    "Quick Heal Total Security - 2 PCs, 1 Year | AI Based Device Security for Windows PC | Banking and Browsing Protection | Dark ",
                    "Quick Heal Antivirus Pro Latest Version - 2 PCs, 1 Year | AI Based Device Security for Laptop | Email and Browsing Protection",
                    "Norton 360 Standard |1 User 3 Year|Total Security For Pc,Mac, Android Or Ios |Additionally Includes Password Manager, Pc Clou",
                    "K7 Security K7, Total Security, 1 User, 13 Months, Email Delivery In 2 Hours, No Cd",
                    "Quick Heal Antivirus Pro Latest Version - 2 PCs, 3 Years | AI Based Device Security for Laptop | Email and Browsing Protectio",
                    "Norton Antivirus Plus | 1 User 3 Years |Additionally Includes Smart Firewall, Password Manager & PC Cloud Back Up | PC & Mac ",
                    "CCleaner Professional for Windows | 1 Device 3 Year | Boost your PC's performance | Email Delivery in 2 hours.",
                    "TECHLOCKER MSO Professional Plus 2021 Retail Lifetime License Key Only & Updates | Phone Offline Activation | For Win 10 or 1",
                    "Kaspersky | Premium - Total Security (Ultimate Security) | 3 Devices | 3 Years | Email Delivery in 1 Hour",
                    "Bitdefender - 1 Computer,3 Years - Antivirus Plus | Windows | Latest Version | Email Delivery in 2 Hours- No CD |",
                    "MS 2021 Professional Plus Edition | (1 User) Retail License Key | Lifetime Validity for Windows PC | New Version | Lifetime R",
                    "NPAV | Net Protector | Total Security | Latest Version | 1 PC | 3 Years | Email Delivery in 1 Hour - No CD",
                    "eScan Anti-Virus with Total Protection Version 11 - 1 PC, 1 Year (Email Delivery in 2 Hours - No CD)",
                    "Kaspersky Premium Security 2025 | 1 Device | 1 Year | Digital Download | Email Delivery - No CD",
                    "AutoCAD (2026) with Ai Software 5-Year Official Subscription (1 User, 3 Devices) (For Windows, MacOS, Android, iOS, M1, M2, M",
                    "Quick Heal | Total Security | Latest Version | 2 Users | 3 Years (Physical Box)",
                    "MS 365 Enterprise Copilot Edition with Chat Gpt 5.0 intergrated in Apps | New 2025 Exclusive Edition | (5 Devices, Lifetime V",
                    "ESET Home Security Essential (Internet Security) 1 User, 1 Year (Email Delivery - No CD)",
                    "Kaspersky Plus Security 2025 | 1 Device | 1 Year | Email Delivery in 1 Hour",
                    "Quick Heal Total Security Latest Version for Android - 1 Device, 1 Year (Email Delivery In 1 Hour- No CD)",
                    "K7 Ultimate Security Infiniti Antivirus 2025| Lifetime Validity, 5 Devices|Threat Protection,Internet Security,Data Backup,Mo",
                    "Kaspersky | Anti-Virus | 1 Device | 2 Years | Email Delivery in 1 Hour",
                    "K7 Security K7 Antivirus Premium 1 Device 3 Years, Powered By MAT (Artificial Intelligence), Smart Firewall, Real-time Protec",
                    "McAfee Internet Security 2025 | 1 Device, 1 Year | Antivirus Internet Security Software | Email Delivery",
                    "Bitdefender - 5 Devices,3 Years - Total Security | Windows| Mac| Android|iOS | Latest Version |(Single Activation Code) Email",
                    "Guardian Total Security 1 User 1 Year",
                    "Eset Mobile Security for Android Latest Version - 1 Device, 1 Year (Email Delivery in 2 Hours - No CD)",
                    "Win 10 Pro Product License Key - 1 User Lifetime Validity One Pc (Quick Email Delivery)",
                    "CCleaner Professional Plus| 3 Devices 3 Years | Windows PC, Mac & Android | Boost your device performance | Email Delivery in",
                    "Kaspersky Standard Security 2025 | 1 Device | 1 Year | Digital Download | Instant Delivery - No CD",
                    "Quick Heal | Antivirus Pro | 1 user | 3 Years | AI Based Device Security for Laptop | Email and Browsing Protection (Email De",
                    "Ms Home Full Suite 2024 for MacOS (Latest 2026 Updated Edition) | Lifetime License for all Mac (Supports M1, M2, M3, M4) | Pr",
                    "NPAV | Net Protector | Anti-Virus Pro | Latest Version | 1 PC | 1 Year | Email Delivery in 1 Hour - No CD",
                    "Microsoft 365 Family – 6 Users- up to 6 TB of cloud storage (1 TB per person)- Advanced security - Innovative apps with AI - ",
                    "Norton 360 Deluxe |3 Users 3 Years|Total Security for PC, Mac, Android or iOS|Additionally Includes Password Manager,PC Cloud",
                    "Bitdefender - 3 Devices,1 Year - Total Security | Windows| Mac| Android|iOS | Latest Version | (Single Activation Code) Email",
                    "Norton 360 Standard |1 User 1 Year|Total Security for PC, Mac, Android or iOS|Additionally Includes Password Manager, PC Clou",
                    "Bitdefender - 1 Computer,1 Year - Internet Security | Windows | Latest Version | Email Delivery in 2 Hours- No CD |",
                    "Quick Heal Total Security Multi Device 3 Year 3 Devices (SINGLE KEY) (Email Delivery in 1 Hour - No CD)",
                    "McAfee Mobile Security 1 Device, 1 Year- Product Key (Activation Key Card)"
                  ],
                  "legendgroup": "IN",
                  "marker": {
                    "color": "#636efa",
                    "size": {
                      "bdata": "AAAAAAAGykAAAAAAAOahQAAAAAAAQHhAAAAAAADPwkAAAAAAAJe2QAAAAACAVslAAAAAAADgkEAAAAAAAKS9QAAAAAAAcHFAAAAAAAAAVUAAAAAAAIu/QAAAAAAAF7JAAAAAAECL0UAAAAAAAOBtQAAAAADAcdBAAAAAAAAAMkAAAAAAAHaxQAAAAAAAccBAAAAAAADEokAAAAAAAEHHQAAAAACAVslAAAAAAABypEAAAAAAAACGQAAAAAAAlJNAAAAAAABkn0AAAAAAgHDDQAAAAAAAoIlAAAAAAAAgzUAAAAAAAAAQQAAAAAAAoHtAAAAAAAAgzUAAAAAAADuzQAAAAACAVslAAAAAAAAgzUAAAAAAABnJQAAAAAAAccBAAAAAAADckkAAAAAAAGB5QAAAAAAAACZAAAAAAAASrEAAAAAAABB2QAAAAAAAABhAAAAAAAAACEAAAAAAAMiJQAAAAAAAAEFAAAAAAADIjEAAAAAAAABTQAAAAAAAADxAAAAAAAAAFEAAAAAAAMSRQAAAAAAA0KlAAAAAAABgfEAAAAAAAMqjQAAAAAAAgGFAAAAAAAAYjkAAAAAAAMBSQAAAAAAAgEJAAAAAAAAAAEAAAAAAAEBgQAAAAAAAgEpAAAAAAAAgzUAAAAAAABnJQAAAAAAA2KRAAAAAAACmt0AAAAAAABnJQAAAAAAAOIVAAAAAAAAAO0AAAAAAAAAsQAAAAAAAQFpAAAAAAABUsEAAAAAAAAAAQAAAAAAA2IVAAAAAAACoiEAAAAAAAAAAQAAAAAAAABhAAAAAAAAStkAAAAAAAAAIQAAAAAAAfJpAAAAAAADgoUAAAAAAAIBPQAAAAAAASIRAAAAAAABAVEAAAAAAAMBeQAAAAAAAkHxAAAAAAACweEAAAAAAAPCJQAAAAAAAwIJAAAAAAAAACEAAAAAAAABCQAAAAAAArMBAAAAAAAAAGEAAAAAAAAAUQAAAAAAAFJJAAAAAAAAAGEAAAAAAAKBgQAAAAAAACIhAAAAAAAD4jEAAAAAAAOiPQAAAAAAAgH5AAAAAAADgjkA=",
                      "dtype": "f8"
                    },
                    "sizemode": "area",
                    "sizeref": 47.9725,
                    "symbol": "circle"
                  },
                  "mode": "markers",
                  "name": "IN",
                  "orientation": "v",
                  "showlegend": true,
                  "type": "scatter",
                  "x": {
                    "bdata": "AAAAAABQfUAAAAAAACB3QAAAAAAAHJxAAAAAAACAV0AAAAAAAIyaQAAAAAAAuIJAAAAAAAC8kkAAAAAAAEiHQAAAAAAAiLNAAAAAAAC4gkAAAAAAADiPQAAAAAAAIGxAAAAAAADweEAAAAAAAGB8QAAAAAAAcIdAAAAAAAAYjEAAAAAAANByQAAAAAAANJ1AAAAAAACohkAAAAAAAOBoQAAAAAAAAHRAAAAAAADftUAAAAAAABCMQAAAAAAAjJpAAAAAAACgYkAAAAAAAFB9QAAAAAAAaIdAAAAAAADooUAAAAAAAC6hQAAAAAAAQH9AAAAAAAB4kkAAAAAAAIO8QAAAAAAAEIxAAAAAAABqpkAAAAAAAGB8QAAAAAAAWI1AAAAAAADgeEAAAAAAAEyUQAAAAAAAPJ9AAAAAAAA4ikAAAAAAAPiIQAAAAAAAPJ9AAAAAAACQdUAAAAAAAKB0QAAAAAAAqI1AAAAAAACAcUAAAAAAAJB0QAAAAAAAiMNAAAAAAAAYjEAAAAAAAKiGQAAAAAAAiIpAAAAAAACwckAAAAAAAPB4QAAAAAAAoG9AAAAAAACAV0AAAAAAADq+QAAAAAAAsHhAAAAAAAC+okAAAAAAAOBoQAAAAAAArJ1AAAAAAADclkAAAAAAAOiEQAAAAAAAbJdAAAAAAACweEAAAAAAALyUQAAAAAAAeItAAAAAAACwd0AAAAAAAKiNQAAAAAAA9qFAAAAAAACwd0AAAAAAAPyYQAAAAAAAOI9AAAAAAADgZUAAAAAAAOB4QAAAAAAAI7NAAAAAAADupEAAAAAAAMapQAAAAAAAQH9AAAAAAADweEAAAAAAAGBmQAAAAAAANqdAAAAAAABAf0AAAAAAACB/QAAAAAAAMH9AAAAAAACgnkAAAAAAAKB0QAAAAAAAAGRAAAAAAACwdUAAAAAAABiMQAAAAAAA0HJAAAAAAAC0kUAAAAAAAC6hQAAAAAAAgHFAAAAAAABvvEAAAAAAADajQAAAAAAAQINAAAAAAAC4h0AAAAAAAKBwQAAAAAAA1K9AAAAAAADgaEA=",
                    "dtype": "f8"
                  },
                  "xaxis": "x",
                  "y": {
                    "bdata": "MzMzMzMzEUCamZmZmZkRQAAAAAAAABJAZmZmZmZmEECamZmZmZkRQJqZmZmZmRFAMzMzMzMzEUBmZmZmZmYQQM3MzMzMzAxAAAAAAAAAEkCamZmZmZkRQM3MzMzMzBBAZmZmZmZmEEDNzMzMzMwQQM3MzMzMzBBAzczMzMzMEEDNzMzMzMwQQJqZmZmZmRFAmpmZmZmZEUDNzMzMzMwQQJqZmZmZmRFAmpmZmZmZEUBmZmZmZmYSQJqZmZmZmRFAAAAAAAAAEEAzMzMzMzMRQGZmZmZmZhJAmpmZmZmZEUAAAAAAAAAUQJqZmZmZmRFAmpmZmZmZEUAzMzMzMzMRQJqZmZmZmRFAmpmZmZmZEUAzMzMzMzMRQJqZmZmZmRFAzczMzMzMEEBmZmZmZmYSQJqZmZmZmRFAMzMzMzMzEUAzMzMzMzMRQDMzMzMzMwtAzczMzMzMDEAzMzMzMzMRQAAAAAAAABRAzczMzMzMEEBmZmZmZmYQQJqZmZmZmQVAAAAAAAAAFEDNzMzMzMwQQAAAAAAAABJAMzMzMzMzEUDNzMzMzMwQQM3MzMzMzBBAmpmZmZmZEUAAAAAAAAASQGZmZmZmZg5AAAAAAAAAFEBmZmZmZmYQQJqZmZmZmRFAmpmZmZmZEUAzMzMzMzMRQM3MzMzMzBBAzczMzMzMEEAzMzMzMzMRQM3MzMzMzBBAMzMzMzMzEUCamZmZmZkTQJqZmZmZmRFAMzMzMzMzD0AAAAAAAAAUQDMzMzMzMxFAZmZmZmZmEEAAAAAAAAASQM3MzMzMzBJAMzMzMzMzEUAAAAAAAAAUQAAAAAAAABJAZmZmZmZmEEBmZmZmZmYQQDMzMzMzMxFAAAAAAAAAEkDNzMzMzMwQQM3MzMzMzBBAMzMzMzMzEUCamZmZmZkRQDMzMzMzMxFAzczMzMzMDEAAAAAAAAASQDMzMzMzMxFAAAAAAAAAFEAAAAAAAAAQQAAAAAAAABBAMzMzMzMzE0BmZmZmZmYSQM3MzMzMzBBAzczMzMzMEEAzMzMzMzMRQJqZmZmZmRFAAAAAAAAAEEA=",
                    "dtype": "f8"
                  },
                  "yaxis": "y"
                },
                {
                  "hovertemplate": "<b>%{hovertext}</b><br><br>country=US<br>price_numeric=%{x}<br>star_numeric=%{y}<br>num_ratings_numeric=%{marker.size}<extra></extra>",
                  "hovertext": [
                    "Microsoft Office Home 2024 | Classic Apps: Word, Excel, PowerPoint | One-Time Purchase for 1 PC/MAC | Instant Download | Form",
                    "TurboTax Deluxe 2024 Tax Software, Federal & State Tax Return [PC/MAC Download]",
                    "Norton 360 Premium 2025, Antivirus software for 10 Devices with Auto-Renewal – Includes Advanced AI Scam Protection, VPN, Dar",
                    "iFit Train - Monthly Membership",
                    "Microsoft System Builder | Windоws 11 Home | Intended use for new systems | Install on a new PC | Branded by Microsoft",
                    "McAfee Total Protection 5-Device 2025 | Security Software Includes Antivirus, Secure VPN, Scam Protection, Identity Monitorin",
                    "TurboTax Home & Business 2024 Tax Software, Federal & State Tax Return [PC/MAC (MacOS Ventura 13 or Sonoma 14 is required for",
                    "TurboTax Premier 2024 Tax Software, Federal & State Tax Return [PC/MAC Download]",
                    "Norton 360 Deluxe 2025, Antivirus software for 5 Devices with Auto-Renewal – Includes Advanced AI Scam Protection, VPN, Dark ",
                    "[Old Version] TurboTax Deluxe 2023, Federal & State Tax Return [PC/Mac Download]",
                    "McAfee Total Protection 3-Device 2025 Ready |Security Software Includes Antivirus, Secure VPN, Password Manager, Identity Mon",
                    "H&R Block Tax Software Deluxe + State 2024 with Refund Bonus Offer (Amazon Exclusive) Win/Mac [PC/Mac Online Code]",
                    "Microsoft 365 Personal | 12-Month Subscription, 1 person | Word, Excel, PowerPoint | 1TB OneDrive cloud storage | PC/Mac Inst",
                    "Laplink PCmover Ultimate 11 - Migration of your Applications, Files and Settings from an Old PC to a New PC - Data Transfer S",
                    "Windows 11 Pro Upgrade, from Windows 11 Home (Digital Download)",
                    "Wyze Security Plan - Cam Unlimited | Unlimited Cameras | 1 Month Subscription. Full AI features | Facial Recognition for Frie",
                    "TurboTax Business 2024 Tax Software, Federal Tax Return [PC Download]",
                    "Mullvad VPN | 12 Months for 5 Devices | Protect Your Privacy with Easy-To-Use Security VPN Service",
                    "McAfee Total Protection 3-Device 2025 | Security Software Includes Antivirus, Secure VPN, Scam Protection, Identity Monitorin",
                    "TurboTax Deluxe 2024 Tax Software, Federal Tax Return [PC/MAC Download]",
                    "[Old Version] TurboTax Home & Business 2023, Federal & State Tax Return [PC/Mac Download]",
                    "Wyze Security Plan - Cam Plus | 1 Camera | 1 Month Subscription. AI features | Smart Detection for Person, Pet, Package, Vehi",
                    "McAfee Total Protection 5-Device 2025 Ready | Security Software Includes Antivirus, Secure VPN, Password Manager, Identity Mo",
                    "Norton 360 Deluxe 2025, Antivirus software for 3 Devices with Auto-Renewal – Includes Advanced AI Scam Protection, VPN, Dark ",
                    "[Old Version] TurboTax Premier 2023, Federal & State Tax Return [PC/Mac Download]",
                    "Bitdefender Total Security - 5 Devices | 1 year Subscription | PC/Mac | Activation Code by email",
                    "Webroot Internet Security Plus | Antivirus Software 2025 | 3 Device | 1 Year Download for PC/Mac/Chromebook/Android/IOS + Pas",
                    "Quicken Classic Deluxe for New Subscribers| 1 Year [PC/Mac Online Code]",
                    "Microsoft Office Home & Business 2024 | Classic Desktop Apps: Word, Excel, PowerPoint, Outlook and OneNote | One-Time Purchas",
                    "Mullvad VPN | 6 Months for 5 Devices | Protect Your Privacy with Easy-To-Use Security VPN Service",
                    "(Old Version) H&R Block Tax Software Deluxe + State 2023 with Refund Bonus Offer (Amazon Exclusive) (PC/MAC Download)",
                    "Acrobat Pro | 1-Month Subscription | PDF Software |Convert, Edit, E-Sign, Protect |Activation Required [PC/Mac Online Code]",
                    "McAfee Total Protection Unlimited Devices 2025 | Security Software Includes Antivirus, Secure VPN, Scam Protection, Identity ",
                    "Microsoft 365 Family | 12-Month Subscription, Up to 6 People | Word, Excel, PowerPoint | 1TB OneDrive Cloud Storage | PC/MAC ",
                    "Microsoft OEM System Builder | Windоws 11 Pro | Intended use for new systems | Authorized by Microsoft",
                    "Webroot Antivirus Software 2025 | 3 Device | 1 Year Download for PC/Mac",
                    "McAfee AntiVirus 2025 Software | Real-Time PC Protection from New and Evolving Threats | 1-Year Subscription with Auto-Renewa",
                    "Norton 360 Platinum 2025, Antivirus software for 20 Devices with Auto-Renewal – 3 Months FREE - Includes Advanced AI Scam Pro",
                    "PCmover Professional 11 (1 Use) [PC Download]",
                    "Webroot Internet Security Complete | Antivirus Software 2025 | 5 Device | 1 Year Download for PC/Mac/Chromebook/Android/IOS +",
                    "[Old Version] TurboTax Deluxe 2023, Federal & State Tax Return [PC/Mac Disc]",
                    "Adobe Acrobat Pro | PDF Software | Convert, Edit, E-Sign, Protect | PC/Mac Online Code | Activation Required",
                    "Laplink PCmover Ultimate 11 - Migration of your Applications, Files, and Settings from an Old PC to a New PC - Data Transfer ",
                    "Norton Utilities Ultimate for 10 Devices, Keep your devices running like new - for Windows PC, Android and iOS (Download)",
                    "Norton 360 Premium, Antivirus software for 10 Devices with Auto-Renewal – Includes Advanced AI Scam Protection, VPN, Dark Web",
                    "Microsoft Office Home & Business 2021 | Word, Excel, PowerPoint, Outlook | One-time purchase for 1 PC or Mac | Instant Downlo",
                    "Norton 360 Standard 2025, Antivirus software for 1 Device with Auto-Renewal – Includes Advanced AI Scam Protection, VPN, Dark",
                    "Malwarebytes Premium | Amazon Exclusive | 18 Months, 2 Devices | Windows, Mac OS, Android, Apple iOS, Chrome [Online Code]",
                    "Norton AntiVirus Plus 2025, Antivirus software for 1 Device with Auto-Renewal – Includes Advanced AI Scam Protection, Passwor",
                    "Webroot Internet Security Complete | Antivirus Software 2025 | 10 Device | 1 Year Download for PC/Mac/Chromebook/Android/IOS ",
                    "McAfee Total Protection 1-Device 2025 | Security Software Includes Antivirus, Secure VPN, Scam Protection, Identity Monitorin",
                    "[Old Version] TurboTax Deluxe 2023, Federal Tax Return [PC/Mac Download]",
                    "McAfee+ Premium Individual Unlimited Devices 2025 | Cybersecurity Software Includes Antivirus, Secure VPN, Scam Protection, I",
                    "Norton 360 for Amazon, Antivirus software for up to 5 Devices, Includes VPN, Dark Web Monitoring, and PC Cloud Backup, Activa",
                    "Microsoft Office Home 2024 | One time purchase, 1 Device | Windows 10/11, Mac - Key Card",
                    "Norton 360 Deluxe, Antivirus software for 5 Devices with Auto-Renewal – Includes Advanced AI Scam Protection, VPN, Dark Web M",
                    "Bitdefender Total Security - 5 Devices | 2 year Subscription | PC/Mac | Activation Code by email",
                    "H&R Block Tax Software Premium 2024 Win/Mac with Refund Bonus Offer (Amazon Exclusive) [PC/Mac Online Code]",
                    "H&R Block Tax Software Deluxe 2024 Win/Mac with Refund Bonus Offer (Amazon Exclusive) [PC/Mac Online Code]",
                    "McAfee Total Protection 3-Device 2025 |15 Month Subscription with Auto-Renewal |Security Software Includes Antivirus, Secure ",
                    "H&R Block Tax Software Premium & Business 2024 Win with Refund Bonus Offer (Amazon Exclusive) [PC Online code]",
                    "Corel Easy CD & DVD Burning 2 | Disc Burner & Video Capture [PC Disc]",
                    "Bitdefender Total Security – Complete Antivirus and Internet Security Suite – 5 Devices | 2 year Subscription | PC/Mac | Acti",
                    "Corel WordPerfect Office Home & Student 2021 | Office Suite of Word Processor, Spreadsheets & Presentation Software [PC Disc]",
                    "Office Suite 2025 Special Edition for Windows 11-10-8-7-Vista-XP | PC Software and 1.000 New Fonts | Alternative to Microsoft",
                    "Tech-Shop-pro Compatible Key OEM Windo 10 profesional 32/64 Bit USB Installation media onilne activatiation Key C. Install To",
                    "[Old Version] TurboTax Deluxe 2022 Tax Software, Federal and State Tax Return, [Amazon Exclusive] [PC/MAC Download]",
                    "Malwarebytes Premium | 1 Year, 5 Device | Windows, Mac OS, Android, Apple iOS, Chrome [Online Code]",
                    "Roxio Easy VHS to DVD 3 Plus | VHS, Hi8, V8 Video to DVD or Digital Converter | Amazon Exclusive 2 Bonus DVDs [Windows Disc]",
                    "Webroot Antivirus Software 2025 | 3 Device | 2 Year Download for PC/Mac",
                    "Corel WordPerfect Office Home & Student 2021 | Office Suite of Word Processor, Spreadsheets & Presentation Software [PC Downl",
                    "Office Suite 2025 on CD DVD Disc | Compatible with Microsoft Office 2024 2021 365 2019 2016 2013 2010 2007 Word Excel PowerPo",
                    "TrulyOffice 2024 Family Lifetime License for Windows | 4 in 1 All Access TrulyOffice Suite | Words, Sheets, Slides, and Cloud",
                    "NordVPN Standard, 10 Devices, 1-Year, VPN & Cybersecurity, Digital Code",
                    "[Old Version] TurboTax Home & Business 2023, Federal & State Tax Return [PC/Mac Disc]",
                    "Adobe Photoshop Elements 2025 | PC/Mac | Software Download | Photo Editing | 3-year term license | Activation Required",
                    "DVD For Windows Emergency Boot Disk For Windows 98, 2000, XP, Vista, 7, 10 PC Repair DVD All in One Tool (Latest Version)",
                    "TurboTax Basic 2024 Tax Software, Federal Tax Return [PC/MAC Download]",
                    "Norton 360 Deluxe, Antivirus software for 3 Devices with Auto-Renewal – Includes Advanced AI Scam Protection, VPN, Dark Web M",
                    "McAfee Total Protection 5-Device 2025 |15 Month Subscription with Auto-Renewal | Security Software Includes Antivirus, Secure",
                    "NordVPN Plus, 10 Devices, 1-Year, VPN & Password Manager Software Bundle, Digital Code",
                    "Bitdefender Total Security - 10 Devices | 2 year Subscription | PC/MAC |Activation Code by email",
                    "Synology IP Camera License Pack for 1 (CLP1)",
                    "Quicken Classic Premier for New Subscribers| 1 Year [PC/Mac Online Code]",
                    "QBDT Pro 2024 | 3 User's | NO DVD | Lifetime | Amazon Message Delivery(Within 12hrs) | Windows Only | 100% Money Back Guarant",
                    "Recovery, Repair & Re-install disc compatible with MS Win 10 32/64 bit",
                    "(Old Version) H&R Block Tax Software Premium 2023 with Refund Bonus Offer (Amazon Exclusive) (PC/MAC Download)",
                    "Bootable USB For Windows 11 Pro with Activation Key. Recover, Restore, Repair Boot USB, and Install to Factory",
                    "DVD For Password Reset Disk Supports Windows 10,11, 8, 7, Vista, XP",
                    "PC-TECH Compatible with Windows 10 Professional 64 Bit USB With Key. Factory fresh, Recover, Repair and Restore. Key code and",
                    "Hallmark Card Studio Deluxe [PC Download]-- New Version",
                    "Ralix Reinstall DVD Compatible with Windows 11 All Versions 64 bit. Recover, Restore, Repair Boot Disc, and Install to Factor",
                    "(Old Version) H&R Block Tax Software Deluxe 2023 with Refund Bonus Offer (Amazon Exclusive) (PC/MAC Download)",
                    "Ralix Reinstall DVD For Windows 7 All Versions 32/64 bit. Recover, Restore, Repair Boot Disc, and Install to Factory Default ",
                    "[Old Version] TurboTax Home & Business 2022 Tax Software, Federal and State Tax Return, [Amazon Exclusive] [PC/MAC Download]",
                    "Nero Burning ROM 2025 | The original burning software | CD DVD BluRay | Burn | Copy | Rip | BackUp | Windows 11/10/8/7 | 1 PC"
                  ],
                  "legendgroup": "US",
                  "marker": {
                    "color": "#EF553B",
                    "size": {
                      "bdata": "AAAAAAC0kEAAAAAAgFnKQAAAAAAAo7RAAAAAAABAg0AAAAAAAGifQAAAAAAAwJtAAAAAAADKq0AAAAAAAAKzQAAAAAAAeM5AAAAAAIDhz0AAAAAAANS2QAAAAAAAkKpAAAAAAADIxUAAAAAAAHu2QAAAAAAAkIVAAAAAAADAc0AAAAAAAOCMQAAAAAAAFJJAAAAAAADUtkAAAAAAABymQAAAAAAAL7NAAAAAAADAc0AAAAAAAMCbQAAAAAAAArdAAAAAAABTuUAAAAAAAMajQAAAAAAA3JNAAAAAAABQeUAAAAAAAIBBQAAAAAAAFJJAAAAAAAAXskAAAAAAAISWQAAAAAAAYqZAAAAAAABMpkAAAAAAAGifQAAAAAAA6KdAAAAAAAAgjkAAAAAAACahQAAAAAAA0JJAAAAAAABonUAAAAAAgOHPQAAAAAAA+JFAAAAAAAB7tkAAAAAAAPCJQAAAAAAAi8VAAAAAAADYjkAAAAAAAMiRQAAAAAAAdJNAAAAAAAAoqEAAAAAAAFBzQAAAAAAAkHpAAAAAAADMnUAAAAAAANB9QAAAAAAAqIVAAAAAAADAWkAAAAAAAIvFQAAAAAAAxqNAAAAAAACghEAAAAAAAECHQAAAAAAA8H1AAAAAAABQe0AAAAAAAEqgQAAAAAAAuKxAAAAAAAAYk0AAAAAAAGCaQAAAAAAAQF9AAAAAAICcxUAAAAAAAHSTQAAAAAAAuq1AAAAAAAB4jkAAAAAAABiTQAAAAAAAPKNAAAAAAACgY0AAAAAAANiIQAAAAAAAL7NAAAAAAADAaUAAAAAAAKBgQAAAAAAA8HNAAAAAAADSpkAAAAAAADByQAAAAAAA2IhAAAAAAADAekAAAAAAACiTQAAAAAAAwFRAAAAAAAAARUAAAAAAAKiKQAAAAAAAQIxAAAAAAAAAM0AAAAAAAEBjQAAAAAAAQGZAAAAAAADQf0AAAAAAACBrQAAAAAAAKIxAAAAAAAAwlkAAAAAAAKCrQAAAAAAAAEdA",
                      "dtype": "f8"
                    },
                    "sizemode": "area",
                    "sizeref": 47.9725,
                    "symbol": "circle"
                  },
                  "mode": "markers",
                  "name": "US",
                  "orientation": "v",
                  "showlegend": true,
                  "type": "scatter",
                  "x": {
                    "bdata": "SOF6FK6/YkCPwvUoXP9TQD0K16Nw/T1AAAAAAAAALkCPwvUoXP9dQD0K16Nw/TNASOF6FK4/YECPwvUoXL9cQD0K16Nw/ThAj8L1KFx/UUA9CtejcP04QB+F61G4/k1Aj8L1KFz/WECamZmZmflEQAAAAAAAwFhAexSuR+H6I0BI4XoUrr9nQAAAAAAAgExAPQrXo3D9NUCPwvUoXH9RQI/C9Shc/11A7FG4HoXrB0A9CtejcP04QD0K16Nw/T1Aj8L1KFw/WkAfhetRuH5GQD0K16Nw/TNAH4XrUbj+REBI4XoUrj9vQAAAAAAAAD1AH4XrUbj+SEA9CtejcP09QD0K16Nw/T1ASOF6FK4/YED2KFyPwkViQD0K16Nw/TFAexSuR+H6KUAfhetRuP5DQDMzMzMz8z1APQrXo3D9PUC4HoXrUVhMQFyPwvUo/G1AmpmZmZn5T0AfhetRuP5DQD0K16Nw/T1ASOF6FK6/bEA9CtejcP0zQB+F61G4/kNAPQrXo3D9M0AfhetRuH5AQD0K16Nw/TNAH4XrUbj+TUAfhetRuP5DQB+F61G4fkFASOF6FK4fYkA9CtejcP04QI/C9Shcv1JAj8L1KFy/U0AfhetRuP5JQD0K16Nw/TpAj8L1KFz/WEB7FK5H4fotQI/C9Shcv1JAH4XrUbj+T0B7FK5H4fotQAAAAAAAgE1Aj8L1KFx/UUAfhetRuP5DQB+F61G4/kNAH4XrUbj+Q0CPwvUoXP9YQD0K16Nw/TNAj8L1KFx/UUCPwvUoXH9RQI/C9Shc/11AH4XrUbj+TUDD9Shcj8IrQB+F61G4/khAPQrXo3D9PUA9CtejcP04QI/C9ShcP1VAj8L1KFw/VUApXI/C9RhQQB+F61G4fkxApHA9Ctdvd0AAAAAAAAAwQI/C9Shcv1JAH4XrUbj+Q0B7FK5H4forQFK4HoXr8U1AH4XrUbj+SEB7FK5H4fonQB+F61G4/kNAexSuR+H6J0CPwvUoXP9dQDMzMzMz8z1A",
                    "dtype": "f8"
                  },
                  "xaxis": "x",
                  "y": {
                    "bdata": "AAAAAAAAEEAzMzMzMzMRQGZmZmZmZhBAMzMzMzMzC0AAAAAAAAAQQDMzMzMzMxFAMzMzMzMzEUDNzMzMzMwQQAAAAAAAABBAmpmZmZmZEUBmZmZmZmYQQM3MzMzMzBBAMzMzMzMzEUBmZmZmZmYQQGZmZmZmZg5AAAAAAAAAEEDNzMzMzMwQQM3MzMzMzBJAZmZmZmZmEEAzMzMzMzMRQJqZmZmZmRFAAAAAAAAAEEAzMzMzMzMRQDMzMzMzMw9AmpmZmZmZEUDNzMzMzMwQQDMzMzMzMxFAmpmZmZmZDUAzMzMzMzMPQM3MzMzMzBJAzczMzMzMEEDNzMzMzMwMQM3MzMzMzBBAmpmZmZmZEUAAAAAAAAAQQDMzMzMzMxFAZmZmZmZmEEDNzMzMzMwQQJqZmZmZmQ1AzczMzMzMEECamZmZmZkRQM3MzMzMzBBAZmZmZmZmEEBmZmZmZmYQQM3MzMzMzBBAZmZmZmZmEEAzMzMzMzMPQJqZmZmZmRFAmpmZmZmZDUAAAAAAAAASQDMzMzMzMxFAmpmZmZmZEUBmZmZmZmYQQM3MzMzMzBBAMzMzMzMzEUDNzMzMzMwQQM3MzMzMzBBAzczMzMzMEEAzMzMzMzMRQM3MzMzMzBBAmpmZmZmZDUAAAAAAAAAQQJqZmZmZmRFAzczMzMzMEEBmZmZmZmYQQM3MzMzMzBBAmpmZmZmZEUCamZmZmZkRQGZmZmZmZg5AmpmZmZmZEUDNzMzMzMwQQAAAAAAAABBAmpmZmZmZDUAAAAAAAAAQQJqZmZmZmRFAzczMzMzMDECamZmZmZkJQGZmZmZmZhBAZmZmZmZmEEDNzMzMzMwQQAAAAAAAABBAAAAAAAAAEkCamZmZmZkRQGZmZmZmZgpAAAAAAAAAEkCamZmZmZkNQGZmZmZmZhBAAAAAAAAAEkCamZmZmZkJQM3MzMzMzBBAzczMzMzMEEBmZmZmZmYKQDMzMzMzMxFAMzMzMzMzC0CamZmZmZkRQGZmZmZmZg5A",
                    "dtype": "f8"
                  },
                  "yaxis": "y"
                },
                {
                  "hovertemplate": "<b>%{hovertext}</b><br><br>country=CA<br>price_numeric=%{x}<br>star_numeric=%{y}<br>num_ratings_numeric=%{marker.size}<extra></extra>",
                  "hovertext": [
                    "Microsoft Office Home 2024 | Classic Apps: Word, Excel, PowerPoint | One-Time purchase for 1 PC/MAC | Instant Download | Form",
                    "Norton 360 2025, Antivirus software for 10 Devices, 1-Year Subscription - Includes VPN, Password Manager and PC Cloud Backup ",
                    "Bitdefender Total Security 2025 - 5 Devices | 1 year Subscription | PC/Mac | Activation Code by Mail",
                    "Norton 360 2025, Antivirus software for 3 Devices, 1-Year Subscription - Includes VPN, Password Manager and PC Cloud Backup [",
                    "Microsoft 365 Personal | 12-Month Subscription | 1 Person | Office Word, Excel, PowerPoint | 1TB OneDrive Cloud Storage | PC/",
                    "McAfee Total Protection 2025 | 5 Devices | 15 Month Subscription with Auto-Renewal| Cybersecurity software includes Antivirus",
                    "Mullvad VPN | 5 Devices for 6 Months | Protect Your Privacy with Easy-To-Use Security VPN Service",
                    "Mullvad VPN | 12 Months for 5 Devices | Protect Your Privacy with Easy-To-Use Security VPN Service",
                    "Norton 360 2025, Antivirus software for 5 Devices, 1-Year Subscription - Includes VPN, Password Manager and PC Cloud Backup [",
                    "TurboTax Standard 2024 - 8 Returns - English - Windows - Digital Download [PC Online code]",
                    "Windows 11 Home [PC Online code]",
                    "Bitdefender Premium Unlimited VPN - 10 Devices | 1 year Subscription | PC/Mac/Android/iOS",
                    "OfficeSuite365, 12 Months Subscription, For Windows, Mac, and Mobile Devices [Instant Online Delivery]",
                    "McAfee Total Protection 2025 | 3 Devices | 15 Month Subscription with Auto-Renewal| Cybersecurity software includes Antivirus",
                    "McAfee AntiVirus Protection 2025 | 1 PC (Windows)| Cybersecurity software includes Antivirus Protection, Internet Security So",
                    "Norton 360 2025, Antivirus software for 1 Device, 1-Year Subscription - Includes VPN, Password Manager and PC Cloud Backup [D",
                    "Windows 11 Pro Upgrade, from Windows 11 Home [PC Online code]",
                    "Laplink PCmover Ultimate 11 - Migration of your Applications, Files and Settings from an Old PC to a New PC - Data Transfer S",
                    "McAfee+ Premium Individual 2025 Unlimited Devices | All-In-One Cybersecurity Software includes Unlimited VPN, Identity Monito",
                    "McAfee Total Protection 2025 | 3 Device | Cybersecurity Software Includes Antivirus, Secure VPN, Password Manager, Dark Web M",
                    "Microsoft 365 Family | 12-Month Subscription | Up to 6 People | Office Word, Excel, PowerPoint | 1TB OneDriveCloud Storage | ",
                    "Windows 11 Pro [PC Online code]",
                    "McAfee+ Premium Family 2025 Unlimited Devices | All-In-One Cybersecurity Software includes Unlimited VPN, Identity Monitoring",
                    "Antidote+ Personnel 12",
                    "Norton 360 Platinum 2025, Antivirus software for 20 Devices, 1-Year Subscription - Includes VPN, Dark Web Monitoring and PC C",
                    "Windows Password Reset Recovery Disk Windows 10, 8.1, 7, Vista, XP Rated #1 Best Unlocker Remove Software CD DVD For All Wind",
                    "NordVPN Standard, 10 Devices, 1-Year, VPN & Cybersecurity, Digital Code",
                    "NordVPN Basic, 10 Devices, 1-Year, Premium VPN Software, Digital Code",
                    "PDF Pro 3 - PDF editor to create, edit, convert and merge PDFs - 100% Compatible with Adobe Acrobat - compatible with Windows",
                    "McAfee Total Protection 2025 Ready | 5 Device | Cybersecurity Software Includes Antivirus, Secure VPN, Password Manager, Dark",
                    "McAfee Total Protection 2025 | 5 Device | Cybersecurity Software Includes Antivirus, Secure VPN, Password Manager, Dark Web M",
                    "Nero Burn Express 4 - Burn | Copy | Rip | Convert | Backup | Protect for movies, photos, music and data | 1 PC | Windows 11 /",
                    "Microsoft Office Home & Student 2019 | One-time purchase, 1 person | PC/Mac Keycard",
                    "VIDBOX Video Conversion for PC",
                    "Microsoft Windows 11 Pro (USB)",
                    "Office Suite 2025 Compatible with Microsoft Office 2024 365 2021 2019 2016 2013 Powered by Apache OpenOffice on USB with Life",
                    "Norton Utiltities Ultimate - cleans and speeds up your PC, Windows PCs only [PC Online code]",
                    "NFS Unbound Playstation 5",
                    "Adobe Photoshop Elements 2025 | PC/Mac | Software Download | Photo Editing | 3-year term license | Activation Required [PC/Ma",
                    "Norton AntiVirus Plus 2025, Antivirus software for 1 Device, 1-Year Subscription -Includes Password Manager, Smart Firewall, ",
                    "Ralix Windows Emergency Boot Disk - For Windows 98, 2000, XP, Vista, 7, 10 PC Repair DVD All in One Tool (Latest Version)",
                    "TurboTax Deluxe Online Edition 2024 - 8 Returns - English - Online Version [PC/Mac Online Code]",
                    "Microsoft Office Home and Business 2024",
                    "TurboImpôt De luxe 2024 - 8 déclarations - Français - Windows - Téléchargement [PC Online code]",
                    "Stubbs the Zombie in Rebel Without a Pulse - Nintendo Switch",
                    "Quick Books Desktop Pro 2021 | NO DVD | Lifetime Version | Amazon Message Delivery(Within 24hrs) | Only PC, Not for Mac |",
                    "McAfee Total Protection 2025 | 10 Device | Cybersecurity Software Includes Antivirus, Secure VPN, Password Manager, Dark Web ",
                    "Microsoft Windows 11 Pro",
                    "TurboTax Business Incorporated 2024 - English - Windows - Digital Download [PC Online code]",
                    "Kaspersky Internet Security 2021 (2022 Ready) | 1 Device | 1 Year | PC/Mac/Android | Activation Key Card by Post Mail | Antiv",
                    "K7 Antivirus PremiumSoftware 2025 for Windows laptop/pc|1 User,3 Year| Antivirus,Internet Protection,Threat protection |2hr E",
                    "NordVPN Standard - 1-Year VPN & Cybersecurity Software Subscription for 6 Devices - Block Malware, Malicious Links & Ads, Pro",
                    "Kaspersky Total Security 2021 (2022 Ready) | 5 Devices | 1 Year | PC/Mac/Android | Activation Key Card by Post with Antivirus",
                    "GIMP Photo Editor 2025 Premium Professional Image Editing Software CD Compatible with Windows 11 10 8.1 8 7 Vista XP 32 & 64-",
                    "Microsoft Office Home 2024 | One time purchase, 1 Device | Windows 10/11, Mac - Key Card",
                    "Microsoft Office 2021 Home & Business - Box Pack - 1 PC/Mac",
                    "Video and Audio Downloader PRO 2 software for YouTube – download your favorite YouTube videos as MP4 video or MP3 audio – com",
                    "Laplink PCmover Ultimate 11 - Migration of your Applications, Files and Settings from an Old PC to a New PC - Data Transfer S",
                    "Exclusive Bundle: Norton 360 Standard 1 Device with Norton Utilities Ultimate (for 10 Windows PCs), 1-Year Subscription [Down",
                    "LibreOffice 2025 Home and Student 2024 Professional Plus Business Compatible with Microsoft Office Word Excel PowerPoint Adob",
                    "MICROSOFT OEM SOFTWARE KW9-00633 Windows 11 Home 64 Bit 1Pack",
                    "Aksys Games Fitness Boxing ft. HATSUNE MIKU-Nintendo Switch",
                    "Slay The Spire Nintendo Switch Games and Software",
                    "Roxio Easy CD and DVD Burning 2, Disc Burner and Video Capture [PC Disc]",
                    "Office Suite 2023 Home & Student Premium | Open Word Processor, Spreadsheet, Presentation, Accounting, and Professional Softw",
                    "Moho Pro 13.5 | The all-in-one animation tool for professionals and digital artists | Software for PC and Mac OS",
                    "Maverick (Widescreen/Full Screen)",
                    "NordVPN Basic, 10 Devices, 2-Year, Premium VPN Software, Digital Code",
                    "NordVPN Standard, 10 Devices, 1-Month, VPN & Cybersecurity, Digital Code",
                    "Nero Platinum Suite - multilingual | Video Editing | Backup | Manage & Play Media | 8K | Photos | Music | PC Tuning | 1 PC | ",
                    "QuickBooks Pro 2016",
                    "Microsoft Server 2019 Standard 16 Core",
                    "Individual Software Business Planmaker Professional 12",
                    "Microsoft 365 Personal | 12-Month Subscription, 1 person | Premium Office apps | 1TB OneDrive cloud storage | PC/Mac/iOS/Andr",
                    "Office Suite 2025 Compatible with Microsoft Office 2024 2021 365 2019 2016 2013 2010 2007 Word Excel PowerPoint on CD DVD Pow",
                    "Windows Password Reset USB Recovery For Windows 10, 8.1, 7, Vista, XP | Rated #1 Best Reset Recovery USB Unlocker Remove Soft",
                    "NordVPN Plus, 10 Devices, 1-Year, VPN & Password Manager Software Bundle, Digital Code",
                    "Anno 1800 Console Edition - PlayStation 5",
                    "Evercade Tomb Raider Collection 2",
                    "Adobe Creative Cloud All Apps | Student & Teacher Discount |PC/MAC Online Code",
                    "Blaze Evercade Indie Heroes Collection 3 - Nintendo DS",
                    "Nero Burning ROM 2025 | The original burning software | CD DVD BluRay | Burn | Copy | Rip | BackUp | 1 PC",
                    "Lemon Cake - Nintendo Switch",
                    "The Crew Motorfest Replen (English/French) for Playstation 5",
                    "Hiren's Boot CD DVD Latest 2024 Edition Windows PC Repair Virus Removal Clone Recovery Windows Password Reset And More by IMP",
                    "Individual Software Family Tree Heritage Gold 16 - Genealogy Software - Includes Free Searches to FamilySearch, the World's L",
                    "NordVPN Basic, 10 Devices, 6-Month, Premium VPN Software, Digital Code",
                    "Microsoft Software Microsoft Office Home & Student 2019 | 1 person, Windows 10 PC/Mac Key Card, English",
                    "Adobe Lightroom 1TB | 12-month Subscription | Photo Editing & Storage Software |Activation Required [PC/Mac Online Code]",
                    "Tetris Effect: Connected - PlayStation 5",
                    "System Rescue CD System Recovery Disk for Windows 10, 8.1, 8, 7, Vista, XP and Linux. System Recovery Disk. Repair, Rescue An",
                    "TurboTax Home & Business 2024 - 12 Returns - English - Windows - Digital Download [PC Online code]",
                    "AVG Secure VPN 2020, 5 Devices 1 Year [Key Card in Sealed Retail Box]",
                    "Nova Development US Hallmark Card Studio Deluxe 2019",
                    "Audacity® Newest Version Professional Pro Audio Music Editing Recording Software Win 10,8,7,*Vista* And XP Mac OS X Linux",
                    "Truth Or Dare (Widescreen/Full Screen)",
                    "MsWindows10Pro Operating System, Retail License, Lifetime Digital Key [Instant Online Delivery]"
                  ],
                  "legendgroup": "CA",
                  "marker": {
                    "color": "#00cc96",
                    "size": {
                      "bdata": "AAAAAADQgUAAAAAAADB4QAAAAAAA5JpAAAAAAAAYg0AAAAAAANCBQAAAAAAAIGhAAAAAAADYkUAAAAAAANiRQAAAAAAAUIBAAAAAAACAbEAAAAAAAABJQAAAAAAAAFxAAAAAAAAAKEAAAAAAAIB6QAAAAAAAQF5AAAAAAABgZkAAAAAAAABCQAAAAAAAfLJAAAAAAADgZEAAAAAAAIB6QAAAAAAAoGJAAAAAAAAANEAAAAAAAOBkQAAAAAAAAChAAAAAAAAAMUAAAAAAAMBeQAAAAAAAQFNAAAAAAABAU0AAAAAAADCAQAAAAAAAADVAAAAAAAAgaEAAAAAAAIBPQAAAAAAA0HFAAAAAAAAInUAAAAAAAJB3QAAAAAAAAFdAAAAAAAAAWkAAAAAAAMCBQAAAAAAAAC5AAAAAAADgakAAAAAAAGaiQAAAAAAAQFdAAAAAAAAACEAAAAAAAIBWQAAAAAAAAENAAAAAAAAA8D8AAAAAAIBCQAAAAAAAIGZAAAAAAAAAFEAAAAAAAMBSQAAAAAAAQFZAAAAAAAAgaUAAAAAAAIBTQAAAAAAAQFdAAAAAAABAWkAAAAAAAABeQAAAAAAA4G9AAAAAAAB8skAAAAAAAABaQAAAAAAAgFhAAAAAAACUnkAAAAAAAIBcQAAAAAAAUHxAAAAAAADgnkAAAAAAAOiBQAAAAAAAQFBAAAAAAABAYkAAAAAAAEBTQAAAAAAAQFNAAAAAAAAAQUAAAAAAAABHQAAAAAAAAChAAAAAAAAAOEAAAAAAAABDQAAAAAAAAG5AAAAAAADAVEAAAAAAAEBTQAAAAAAAoGRAAAAAAACAQ0AAAAAAAAAQQAAAAAAAwFpAAAAAAAAAR0AAAAAAAKBtQAAAAAAAACJAAAAAAAAAPUAAAAAAABB6QAAAAAAAQFNAAAAAAABohUAAAAAAAAAcQAAAAAAAAEtAAAAAAAAAXUAAAAAAAAAsQAAAAAAAACxAAAAAAACAa0AAAAAAAABJQAAAAAAAYIZAAAAAAAAAGEA=",
                      "dtype": "f8"
                    },
                    "sizemode": "area",
                    "sizeref": 47.9725,
                    "symbol": "circle"
                  },
                  "mode": "markers",
                  "name": "CA",
                  "orientation": "v",
                  "showlegend": true,
                  "type": "scatter",
                  "x": {
                    "bdata": "SOF6FK4/ZUAfhetRuH5BQB+F61G4fkZAPQrXo3D9PUCPwvUoXH9bQD0K16Nw/ThAAAAAAAAAQ0AAAAAAAMBSQB+F61G4fkFAAAAAAAAAREBI4XoUrr9nQD0K16Nw/ThAAAAAAAAAPUA9CtejcP06QHsUrkfh+i1APQrXo3D9M0BI4XoUrh9iQJqZmZmZeUtAH4XrUbj+Q0A9CtejcP04QNejcD0KH2JApHA9Ctc/cEAfhetRuP5IQJqZmZmZ+U1AH4XrUbj+SEAzMzMzM/M1QI/C9Shcv1JAH4XrUbj+SEAfhetRuP5DQD0K16Nw/ThAPQrXo3D9OEAzMzMzM/M4QAAAAAAAAFlAj8L1KFz/WEAAAAAAAOBqQD0K16Nw/ThAH4XrUbj+Q0B7FK5H4Xo/QI/C9Shc/1VAPQrXo3D9M0CF61G4HsUzQAAAAAAAAERApHA9Ctf/c0AAAAAAAABEQM3MzMzMjD1AAAAAAACwgkA9CtejcP09QAAAAAAAgGZAAAAAAABgc0B7FK5H4fo1QOF6FK5HYSdAH4XrUbj+TUAfhetRuP5QQD0K16Nw/ThAFK5H4Xo0aUBI4XoUrv9tQOxRuB6Fy0lAzczMzMx8VkAfhetRuP5DQD0K16Nw/ThAexSuR+EaZ0DD9Shcj1JRQAAAAAAAgE1AKVyPwvUIQ0A9CtejcP04QI/C9ShcP2BAPQrXo3D9NkCPwvUoXL9cQD0K16Nw/TBAzczMzMz8WEDNzMzMzPxoQAAAAAAAAGlAexSuR+E6QUDXo3A9ChdYQD0K16Nw/ThAuB6F61H4OECPwvUoXD9VQPYoXI/CtT1AzczMzMxsQUCuR+F6FH5zQB+F61G4fkFAmpmZmZn5Q0Bcj8L1KPxDQHsUrkfhGkNAcT0K16PwLUB7FK5H4apQQB+F61G4fkZAzczMzMxMWEBcj8L1KHxjQI/C9ShcT0xA9ihcj8L1NUAAAAAAAMBiQK5H4XoU7jNA4XoUrkcBWEDNzMzMzMwoQDMzMzMz8zVAAAAAAADAWEA=",
                    "dtype": "f8"
                  },
                  "xaxis": "x",
                  "y": {
                    "bdata": "ZmZmZmZmEEBmZmZmZmYQQGZmZmZmZhJAZmZmZmZmEEBmZmZmZmYQQDMzMzMzMw9AzczMzMzMEkDNzMzMzMwSQAAAAAAAABBAzczMzMzMEEAAAAAAAAAQQM3MzMzMzBBAMzMzMzMzE0AAAAAAAAAQQDMzMzMzMw9AMzMzMzMzD0DNzMzMzMwQQGZmZmZmZhBAmpmZmZmZEUAAAAAAAAAQQDMzMzMzMxFAzczMzMzMBECamZmZmZkRQGZmZmZmZhJAmpmZmZmZEUAzMzMzMzMRQDMzMzMzMw9AMzMzMzMzD0DNzMzMzMwMQDMzMzMzMxFAMzMzMzMzD0AzMzMzMzMLQJqZmZmZmQ1AzczMzMzMEEAAAAAAAAAQQGZmZmZmZhBAAAAAAAAAEECamZmZmZkRQAAAAAAAAAhAAAAAAAAADEBmZmZmZmYKQAAAAAAAAAhAAAAAAAAADEBmZmZmZmYOQJqZmZmZmRFAAAAAAAAAFEAzMzMzMzMRQM3MzMzMzAxAzczMzMzMEEAAAAAAAAAQQDMzMzMzMxFAzczMzMzMEECamZmZmZkRQGZmZmZmZgpAMzMzMzMzEUDNzMzMzMwQQM3MzMzMzAxAZmZmZmZmEEAAAAAAAAAQQDMzMzMzMw9AZmZmZmZmEEAzMzMzMzMTQAAAAAAAABBAMzMzMzMzD0AAAAAAAAAQQM3MzMzMzBJAAAAAAAAAEkAzMzMzMzMPQDMzMzMzMw9AAAAAAAAADEDNzMzMzMwIQAAAAAAAABJAzczMzMzMCEDNzMzMzMwQQM3MzMzMzAxAzczMzMzMDEAzMzMzMzMPQGZmZmZmZhBAmpmZmZmZEUAAAAAAAAAUQGZmZmZmZhJAZmZmZmZmDkAAAAAAAAASQAAAAAAAABRAZmZmZmZmDkAzMzMzMzMPQDMzMzMzMw9AzczMzMzMDEBmZmZmZmYOQGZmZmZmZhJAmpmZmZmZDUDNzMzMzMwQQAAAAAAAABBAzczMzMzMDEDNzMzMzMwMQGZmZmZmZhJAAAAAAAAAFEA=",
                    "dtype": "f8"
                  },
                  "yaxis": "y"
                },
                {
                  "hovertemplate": "<b>%{hovertext}</b><br><br>country=AU<br>price_numeric=%{x}<br>star_numeric=%{y}<br>num_ratings_numeric=%{marker.size}<extra></extra>",
                  "hovertext": [
                    "Microsoft 365 Family - 1 Year Subscription [Digital Download]",
                    "Microsoft 365 Personal - 1 Year Subscription [Digital Download]",
                    "Microsoft Windows 11 Pro",
                    "Microsoft 365 Personal + McAfee® Total Protection for 3 Devices - 1 Year Subscription Bundle [Digital Download]",
                    "Microsoft Windows 11 Home",
                    "Kaspersky Plus Internet Security 2025 3 Device 1 Year [Digital Download]",
                    "Adobe Lightroom + Lightroom-Classic 1 TB storage - AI-assisted photo editor - 1 User - 1 Year Subscription [Digital Download]",
                    "NordVPN Basic - 1 Month - 10 Devices - Premium VPN [Digital Download]",
                    "Retro Games Commodore 64 Mini C64 and Commodore 64 Game Console",
                    "Office Suite 2025 Compatible with Microsoft Office 2024 365 2021 2019 2016 2013 2010 2007 Word Excel PowerPoint on CD DVD Pow",
                    "Kaspersky Premium Total Security 2025 1 Device 1 Year [Digital Download]",
                    "McAfee® Total Protection Antivirus & Internet Security - 1 Devices, 1-Year - Windows/Mac/Android/iOS [Digital Download]",
                    "NordVPN Basic - 2 Year - 10 Devices - Premium VPN [Digital Download]",
                    "Adobe Creative Cloud All Apps Student & Teacher - 20+ Desktop & Mobile Apps - Gen AI Features - 1 User - Validation Required ",
                    "Microsoft Office Home & Business 2021 [Digital Download]",
                    "NordVPN Basic - 1 Year - 10 Devices - Premium VPN [Digital Download]",
                    "Kaspersky Plus Total Security 3 Devices 1 Year Software License, Antivirus for PC, MAC | Same day Digital Delivery",
                    "NordVPN Standard - 1 Year - 10 Devices - VPN & Cybersecurity Software [Digital Download]",
                    "Adobe Creative Cloud Photography Plan 1TB storage (Photoshop + Lightroom included) - 1 User - 1 Year Subscription [Digital Do",
                    "Microsoft Office Home & Student 2021 [Digital Download]",
                    "LibreOffice 2025 Home and Student 2024 Professional Plus Business Compatible with Microsoft Office Word Excel PowerPoint Adob",
                    "McAfee®+ Premium Individual Antivirus & Internet Security - Unlimited Devices, 1-Year - Windows/Mac/Android/iOS [Digital Down",
                    "Office Suite 2025 Compatible with Microsoft Office 2024 365 2021 2019 2016 2013 Powered by Apache OpenOffice on USB with Life",
                    "DVD For Windows Emergency Boot Disk For Windows 98, 2000, XP, Vista, 7, 10 PC Repair DVD All in One Tool (Latest Version)",
                    "ARC Studio",
                    "McAfee® Total Protection Antivirus & Internet Security - 3 Devices, 1-Year - Windows/Mac/Android/iOS [Digital Download]",
                    "BXI Flashing Roll Tape Membrane - Waterproof Patch & Seal Tape - Modified Bitumen Rubberized Asphalt - Self-Adhesive - Multip",
                    "Kaspersky Standard Anti-Virus 2025 10 Device 2 Year [Digital Download]",
                    "TrulyOffice 2024 Family Lifetime License | 4 in 1 All Access TrulyOffice Suite | Words, Sheets, Slides, and Cloud. (Mac)",
                    "Kaspersky Standard Anti-Virus 2025 3 Device 2 Year [Digital Download]",
                    "Kaspersky Premium Total Security 2025 5 Device 1 Year [Digital Download]",
                    "Kaspersky Plus 5 Devices 2 Years Licese key card",
                    "Kaspersky Premium Total Security 2025 3 Device 1 Year [Digital Download]",
                    "Kaspersky Plus Internet Security 2025 5 Device 2 Year [Digital Download]",
                    "NordVPN Basic - 6 Month - 10 Devices - Premium VPN [Digital Download]",
                    "Kaspersky Plus Internet Security 2025 1 Device 1 Year [Digital Download]",
                    "Office Suite & LibreOffice 2025 on CD Disc Compatible with Microsoft Office + GIMP Photo Editing Software Compatible with Ado",
                    "Norton 360 Deluxe 2022, Antivirus software for 3 Devices and 1-year subscription with automatic renewal, Includes Secure VPN ",
                    "K7 Ultimate Security Infiniti Lifetime Validity Antivirus 2022 | 5 Devices | Threat Protection ,Internet Security,Data Backup",
                    "K7 Antivirus Premium Antivirus Software 2025 for laptop/pc|1 Users, 3 Year| Antivirus, Internet Protection,Threat protection",
                    "NordVPN Plus - 1 Year - 10 Devices - VPN & Cybersecurity Software Bundle [Digital Download]",
                    "K7 Antivirus Premium Antivirus Software 2025 for laptop/pc|1 User,1 Year| Antivirus, Internet Protection,Threat protection -N",
                    "Kaspersky Premium Total Security 2025 10 Device 1 Year [Digital Download]",
                    "Synology Surveillance Device License Pack for NAS with 1 Additional License",
                    "Microsoft Office 2016 Home & Student for Windows, One Time Purchase 1 User",
                    "Microsoft 365 Business Standard - 1 Year Subscription [Digital Download]",
                    "Kaspersky Plus Internet Security 2025 5 Device 1 Year [Digital Download]",
                    "Kenwood STZ-RF200WD Dual Camera Recording System",
                    "NordVPN Standard - 1 Month - 10 Devices - VPN & Cybersecurity Software [Digital Download]",
                    "LET THERE BE ROCK",
                    "NordVPN Standard - 2 Year - 10 Devices - VPN & Cybersecurity Software [Digital Download]",
                    "Windows 10 Professional | USB Flash Drive",
                    "ROLAND AIRA Compact J-6 CHORD SYNTH | Portable song creation machine with professional Roland sound and features | JUNO-60 Sy",
                    "PDF Director Pro – Comprehensive PDF Editor Software compatible with Windows 11, 10, 8 and 7 – Edit, Create, Scan and Convert",
                    "Bitdefender Total Security - 10 Device,1 Year Subscription, PC/Mac, Activation Code by Mail",
                    "BeckerCAD 15 3D PRO - for Printing, Home Design, Floor Plan, Architecture, Engineering, Electric and more software compatible",
                    "Systweak Antivirus for Windows 1 PC, 1 Year | Real-Time Protection | Exploit & Malware Protection | USB Protection | Firewall",
                    "Bitdefender Total Security - 5 Devices | 2 year Subscription | PC/Mac | Activation Code by Mail",
                    "Windows 10 Pro 64 bit OEM DVD - English - Full Version - OEM Windows 10 Professional 64 bit",
                    "Roland AIRA Compact E-4 VOICE TWEAKER | Vocal Performance Tool with Powerful Voice Transformer Effects | Vocoder | Looper | H",
                    "Systweak PDF Editor - Software for Windows - 1 PC, 1 Year | View, Create, Edit, Protect and Sign PDFs | Merge & Split (Via Em",
                    "Laplink PCmover Professional 11 mit High-Speed Kabel (1 Nutzung) - Der einfachste Weg, auf einen neuen PC umzuziehen!",
                    "Kaspersky Plus Internet Security 2025 3 Device 2 Year [Digital Download]",
                    "Latest New Release FreeCAD Design Software App for Windows on DVD",
                    "Microsoft Office 2016 Home and Business for Mac, One Time Purchase 1 User",
                    "CLIP STUDIO PAINT PRO - Version 4 | Perpetual License | for Windows and macOS",
                    "IK Multimedia ARC 4. Advanced Room Correction Software Plug-in and Measurement Microphone"
                  ],
                  "legendgroup": "AU",
                  "marker": {
                    "color": "#ab63fa",
                    "size": {
                      "bdata": "AAAAAACAUkAAAAAAAIBOQAAAAAAAAGZAAAAAAACATkAAAAAAAIBpQAAAAAAAABBAAAAAAAAA8D8AAAAAAAAAQAAAAAAAUJpAAAAAAAAAM0AAAAAAAAAQQAAAAAAAACJAAAAAAAAAAEAAAAAAAADwPwAAAAAAAPA/AAAAAAAAAEAAAAAAAAAUQAAAAAAAAABAAAAAAAAAAEAAAAAAAAA0QAAAAAAAACBAAAAAAAAAHEAAAAAAAAAYQAAAAAAAAAhAAAAAAABAXkAAAAAAAAAgQAAAAAAAAIVAAAAAAAAAEEAAAAAAAAAqQAAAAAAAABBAAAAAAAAAEEAAAAAAAAAQQAAAAAAAABBAAAAAAAAAEEAAAAAAAAAAQAAAAAAAABBAAAAAAAAA8D8AAAAAAIB/QAAAAAAAKINAAAAAAABAVkAAAAAAAAAAQAAAAAAACItAAAAAAAAAEEAAAAAAAJSSQAAAAAAA4GBAAAAAAAAAAEAAAAAAAAAQQAAAAAAAAFJAAAAAAAAAAEAAAAAAAKSVQAAAAAAAAABAAAAAAAC0kEAAAAAAACBgQAAAAAAA4GBAAAAAAADwc0AAAAAAAAAUQAAAAAAAACBAAAAAAABUoUAAAAAAAIBSQAAAAAAAgFlAAAAAAACAQUAAAAAAAHB1QAAAAAAAABBAAAAAAAAA8D8AAAAAAAAqQAAAAAAAAABAAAAAAAAACEA=",
                      "dtype": "f8"
                    },
                    "sizemode": "area",
                    "sizeref": 47.9725,
                    "symbol": "circle"
                  },
                  "mode": "markers",
                  "name": "AU",
                  "orientation": "v",
                  "showlegend": true,
                  "type": "scatter",
                  "x": {
                    "bdata": "AAAAAABgY0AAAAAAAOBgQAAAAAAAgFZAFK5H4Xq0ZEAAAAAAAEBVQDMzMzMz8z5AFK5H4XpkZEB7FK5H4fovQArXo3A9ClxAPQrXo3D9PEAzMzMzM/M+QM3MzMzMPFBAj8L1KFz/XUAfhetRuJZuQAAAAAAAoHdAj8L1KFx/UUAAAAAAAABJQI/C9Shcf1FAuB6F61EMdEAAAAAAAGBrQD0K16Nw/TlAzczMzMy8V0A9CtejcP08QAAAAAAAADNASOF6FK7Le0DNzMzMzLxSQGZmZmZmpk1AmpmZmZl5T0CPwvUoXP9aQJqZmZmZeUtAmpmZmZn5QEAAAAAAAEBRQDMzMzMz8z9AzczMzMw8UEAfhetRuP5DQDMzMzMz8z1AH4XrUbj+TUAAAAAAAIBFQB+F61G4/khAexSuR+H6I0CPwvUoXP9YQPYoXI/C9RtAmpmZmZl5QkC4HoXrUXhXQAAAAAAAwFJAAAAAAAAgb0AzMzMzM/M/QJqZmZmZ8XlAPQrXo3D9MUA9CtejcP1IQEjhehSuv2JAAAAAAABgZkAAAAAAAPBzQOxRuB6FC1VAzczMzMx8VkA9CtejcM1oQAAAAAAAADFAZmZmZmb+Y0AAAAAAAGBmQAAAAAAA8HNAAAAAAACASUBSuB6F62FYQJqZmZmZeU9AZmZmZmbmIUAAAAAAAIBQQLgehetRuFhAj8L1KFxfakA=",
                    "dtype": "f8"
                  },
                  "xaxis": "x",
                  "y": {
                    "bdata": "ZmZmZmZmEkDNzMzMzMwQQM3MzMzMzAxAzczMzMzMEEBmZmZmZmYOQM3MzMzMzBJAAAAAAAAA8D8AAAAAAAAUQDMzMzMzMxFAmpmZmZmZDUDNzMzMzMwSQGZmZmZmZg5AAAAAAAAAFEAAAAAAAAAUQAAAAAAAABRAAAAAAAAAFEDNzMzMzMwSQAAAAAAAABRAAAAAAAAACEBmZmZmZmYSQAAAAAAAAAxAAAAAAAAAFECamZmZmZkNQM3MzMzMzBBAZmZmZmZmEkAzMzMzMzMPQAAAAAAAABJAzczMzMzMEkBmZmZmZmYKQM3MzMzMzBJAzczMzMzMEkAzMzMzMzMPQM3MzMzMzBJAzczMzMzMEkAAAAAAAAAUQM3MzMzMzBJAAAAAAAAAFECamZmZmZkNQM3MzMzMzBBAMzMzMzMzEUAAAAAAAAAUQGZmZmZmZhBAzczMzMzMEkDNzMzMzMwSQJqZmZmZmQlAAAAAAAAA8D/NzMzMzMwSQJqZmZmZmQ1AAAAAAAAAFEAzMzMzMzMTQAAAAAAAABRAAAAAAAAAEEBmZmZmZmYSQJqZmZmZmQ1AzczMzMzMEEBmZmZmZmYOQAAAAAAAABBAMzMzMzMzEUAAAAAAAAAQQAAAAAAAABBAMzMzMzMzC0BmZmZmZmYOQM3MzMzMzBJAAAAAAAAAFEBmZmZmZmYKQAAAAAAAABRAZmZmZmZmEkA=",
                    "dtype": "f8"
                  },
                  "yaxis": "y"
                },
                {
                  "hovertemplate": "<b>%{hovertext}</b><br><br>country=DE<br>price_numeric=%{x}<br>star_numeric=%{y}<br>num_ratings_numeric=%{marker.size}<extra></extra>",
                  "hovertext": [
                    "WISO Steuer 2025 (für Steuerjahr 2024) Für Windows, Mac, Smartphones und Tablets | Digitaler Download",
                    "Microsoft Office Home 2024 | Aktivierungscode per E-Mail",
                    "WISO Steuer 2024 (für Steuerjahr 2023) Für Windows, Mac, Smartphones und Tablets | Aktivierungscode per Email",
                    "Microsoft 365 Family | 1 Jahr | bis zu 6 Personen | Office Apps mit KI | bis zu 6 TB Cloudspeicher | Amazon Abonnement mit au",
                    "tax 2025 (für Steuerjahr 2024) | Digitaler Download",
                    "Norton 360 Deluxe 2025 | 3 Geräte | 1 Jahr | Aktivierungscode per Email",
                    "Adobe Lightroom inkl. Lightroom Classic 1 TB |KI-gestützter Foto-Editor |1 Jahr | PC/Mac | Digital Download",
                    "Microsoft 365 Single | 1 Jahr | 1 Person | Office Apps mit KI | 1 TB Cloudspeicher | Abo mit automatischer Verlängerung",
                    "WISO Steuer 2025 (für Steuerjahr 2024) | Für Windows, Mac, Smartphones und Tablets | Standardverpackung",
                    "Kaspersky Plus Internet Security 2025 | 3 Geräte | 1 Jahr | Anti-Phishing und Firewall | Unbegrenzter VPN | Passwort-Manager ",
                    "McAfee Total Protection (3 Geräte) 2025 | 15 Monate | Secure VPN, Sicherheitssoftware mit Virenschutz, Kennwort-Manager, Iden",
                    "Norton 360 Premium + Utilities Ultimate 2025 | 10 Geräte | 1 Jahr |Aktivierungscode per Email",
                    "QuickSteuer 2025 (für Steuerjahr 2024) Private und gewerbliche Steuererklärung PC Aktivierungscode per Email",
                    "McAfee Total Protection (5 Geräte) 2025 | 15 Monate | Secure VPN, Sicherheitssoftware mit Virenschutz, Kennwort-Manager, Iden",
                    "Norton 360 Premium 2025 | 10 Geräte | 1 Jahr | Aktivierungscode per Email",
                    "Norton 360 Standard 2025 | 1 Gerät | 1 Jahr | Aktivierungscode per Email",
                    "McAfee Total Protection (1 Geräte) 2025 | 12 Monate|Secure VPN, Sicherheitssoftware mit Virenschutz, Kennwort-Manager, Identi",
                    "Norton 360 Deluxe 2025 | 3 Geräte | 1 Jahr | Aktivierungscode per Email",
                    "TAXMAN 2025 (für Steuerjahr 2024)Download Steuererklärungs-Software für Arbeitnehmer, Rentner u. Pensionäre, Familien, Studen",
                    "Kaspersky Premium Total Security 2025 | 3 Geräte | 1 Jahr | Anti-Phishing und Firewall | Unbegrenzter VPN | Passwort-Manager ",
                    "Kaspersky Standard Anti-Virus 2025 | 1 Gerät | 1 Jahr | Umfassender Schutz | Online-Banking Schutz | Leistungsoptimierung | P",
                    "SteuerSparErklärung 2025 I Einfache Steuererklärung für das Steuerjahr 2024 mit ELSTER & Datenimport | Inkl. 3 Abgaben & digi",
                    "ALDI STEUER 2024 am PC. ELSTER Klare Strukturiert Steuerprogramm Download Code Inklusive. Neu und OVP",
                    "Norton 360 Deluxe inkl. Utilities Ultimate 2025 | 5 Geräte | 1 Jahr | Aktivierungscode per Email",
                    "WISO Steuer 2023 (für Steuerjahr 2022) | Aktivierungscode per Email",
                    "Microsoft Windows 11 Pro | 1 Gerät | 1 Benutzer | PC Aktivierungscode per Email",
                    "Microsoft Windows 11 Home | 1 Gerät | 1 Benutzer | PC Aktivierungscode per Email",
                    "NordVPN Basis, 10 Geräte, 1 Jahr, Premium-VPN-Software, Digitaler Code",
                    "Adobe Creative Cloud|Grafik Design|Gen KI||PC/Mac/Digital Download",
                    "NordVPN Standard, 10 Geräte, 1 Jahr, VPN & Cybersicherheit, Digitaler Code",
                    "WISO Steuer 2024 (für Steuerjahr 2023), Für Windows, Mac, Smartphones und Tablets, Standardverpackung",
                    "McAfee Total Protection (10 Geräte) 2025 | 15 Monate | Secure VPN, Sicherheitssoftware mit Virenschutz, Kennwort-Manager, Ide",
                    "Norton 360 Deluxe 2025 │ 5 Geräte │2 Jahre │ Aktivierungscode per Email",
                    "Norton 360 Deluxe 2025 | 5 Geräte | 1 Jahr | Aktivierungscode per Email",
                    "McAfee Total Protection (5 Geräte) 2025 | 2 Jahre | Secure VPN, Sicherheitssoftware mit Virenschutz,Kennwort-Manager, Identit",
                    "Mullvad VPN | VPN 6 Monate für 5 Geräte | Mehr Datenschutz mit einer intuitiven VPN-Software",
                    "Bitdefender Total Security 2025 - 5 Geräte | 1 Jahr Abonnement | PC/Mac | Aktivierungscode per Post",
                    "Tax 2024 (für Steuerjahr 2023) [PC Aktivierungscode per Email]",
                    "Adobe Creative Cloud All Apps|Student&Teacher|1 Jahr|PC/Mac|Digital Download",
                    "Tax 2025 DVD Box (für Steuerjahr 2024)",
                    "Bitdefender Total Security 2025 - 5 Geräte | 2 Jahre Abonnement | PC/Mac/Android/iOS | Aktivierungscode per Post",
                    "Norton 360 Deluxe 2025 2+1 | 3 Geräte | 1 Jahr | Aktivierungscode in Originalverpackung",
                    "Avira Prime | 5 Geräte | Antivirus & Security | 1 Jahr | Aktivierungscode per Email",
                    "Adobe Photoshop Elements 2025 |3-Jahreslizenz | 1 Gerät│1 Benutzer│PC/Mac│ Download",
                    "BILD Steuer 2025, Geld-zurück-Steuersoftware für die Steuererklärung 2024 | Windows-Version | Aktivierungscode per Email",
                    "Kaspersky Premium Total Security 2025 | 10 Geräte | 1 Jahr | Anti-Phishing und Firewall | Unbegrenzter VPN | Passwort-Manager",
                    "McAfee Total Protection (3 Geräte) 2025 | 12 Monate|Secure VPN, Sicherheitssoftware mit Virenschutz, Kennwort-Manager, Identi",
                    "Kaspersky Premium Total Security 2025 | 5 Geräte | 1 Jahr | Anti-Phishing und Firewall | Unbegrenzter VPN | Passwort-Manager ",
                    "Videokassetten Digitalisieren - analog Audio und Video Konverter - VHS Kassetten digitalisieren - von jeder analogen Quelle -",
                    "WISO Steuer 2025 (für Steuerjahr 2024) Für Windows, Mac, Smartphones und Tablets | Digitaler Download | Amazon Exklusiv",
                    "Kaspersky Plus Internet Security 2025 | 5 Geräte | 1 Jahr | Anti-Phishing und Firewall | Unbegrenzter VPN | Passwort-Manager ",
                    "G DATA Internet Security 3 für 1 Sonderversion |3 Geräte - 1 Jahr | Antivirus für PC, Mac, Android, iOS | Made in Germany | z",
                    "CCleaner Pro | 1 Gerät | 1-Jahres-Abonnement | Aktivierungscode per Email",
                    "McAfee Total Protection (10 Geräte) 2025 | 12 Monate|Secure VPN, Sicherheitssoftware mit Virenschutz, Kennwort-Manager, Ident",
                    "WISO Steuer-Start 2022 (für Steuerjahr 2021 | Digitaler Download",
                    "Linux Mint 22.1 - 64 Bit - USB Edition auf USB 3.0 Stick",
                    "Bitdefender Total Security 2025 | 5 Geräte | 1 Jahr | PC/Mac/iOS/Android | Code zur Aktivierung per E-Mail | Automatische Ver",
                    "Norton 360 Advanced 2025 | 10 Geräte | 1 Jahr | Aktivierungscode per Email",
                    "Open Office Spezial-Edition für Windows 11-10-8-7-Vista-XP | PC-Software mit 15.000 Vorlagen, 1.000 Schriften und PDF Handbuc",
                    "Mullvad VPN | VPN 12 Monate für 5 Geräte | Mehr Datenschutz mit einer intuitiven VPN-Software",
                    "Bitdefender Total Security 3 Geräte | 1 Jahr | Android/Windows/Mac/iOS",
                    "QuickSteuer Deluxe 2025 (für Steuerjahr 2024)|Private und gewerbliche Steuererklärung | PC Aktivierungscode per Email",
                    "McAfee Internet Security (1 Geräte) 2025 | 12 Monate| Echtzeitschutz für PCs vor neuen und dynamischen Bedrohungen | Digitale",
                    "Kaspersky Plus Internet Security 2025 | 1 Gerät | 1 Jahr | Anti-Phishing und Firewall | Unbegrenzter VPN | Passwort-Manager |",
                    "NordVPN Komplett, 1 Jahr, VPN- und Cybersicherheitssoftware, Digitaler Code",
                    "Adobe Creative Cloud Foto-Abo 1TB | inkl. Lightroom & Photoshop | 1 Jahr | KI-unterstützte Bildbearbeitung | WIN/MAC|Download",
                    "WinOptimizer 28 - 3 USER Lizenz - Tuning für Windows 11 10 - unbegrenzte Laufzeit - Sicher, Sauber, Schnell",
                    "NordVPN Standard, Amazon Exklusiv, 10 Geräte, 1-Jahr + 1 Extra-Monat, Digitaler Code",
                    "Kaspersky Plus Internet Security 2025 | 1 Gerät | 2 Jahre | Anti-Phishing und Firewall | Unbegrenzter VPN | Passwort-Manager ",
                    "WISO Steuer 2025 (für Steuerjahr 2024)|Für Windows, Mac, Smartphones und Tablets|frustfreie Verpackung | Amazon Exklusiv",
                    "OpenOffice - 2025 USB Edition für PC/Notebook auf USB Stick",
                    "STEUERTIPPS SteuerSparErklärung Plus 2025 (für das Steuerjahr 2024), Für Windows/Mac, Aktivierungscode per Email",
                    "CCleaner Pro Plus | 3 Geräte | 1-Jahres-Abonnement | Aktivierungscode per Email",
                    "AVG Ultimate 2025 | 10 Geräte | 1 Jahr | Aktivierungscode per Email",
                    "Kaspersky Plus Internet Security 2025 | 3 Geräte | 2 Jahre | Anti-Phishing und Firewall | Unbegrenzter VPN | Passwort-Manager",
                    "NordVPN Amazon Essenziell, 10 Geräte, 1 Jahr, VPN & Passwort-Manager, Digital-Code",
                    "StarFinanz: StarMoney 15 Deluxe Jahreslizenz für 3 PC inkl. Premiumsupport",
                    "Tax 2023 (für Steuerjahr 2022) | PC | Digitaler Download",
                    "Norton 360 Deluxe 2025 2plus1 | 3 Geräte| 1 Jahr | Aktivierungscode per Email",
                    "McAfee Total Protection (3 Geräte) 2025 | Secure VPN, Sicherheitssoftware mit Virenschutz,Kennwort-Manager, Identitätsüberwac",
                    "McAfee Total Protection (5 Geräte) 2025 | 12 Monate|Secure VPN, Sicherheitssoftware mit Virenschutz, Kennwort-Manager, Identi",
                    "Kaspersky Standard Anti-Virus 2025 | 3 Geräte | 1 Jahr | Umfassender Schutz | Online-Banking Schutz | Leistungsoptimierung | ",
                    "G DATA Internet Security 2024 | 1 Gerät | 1 Jahr | für PC, Mac, Android, iOS | zukünftige Updates inklusive | Made in Germany",
                    "Kaspersky Internet Security 2022 | 3 Geräte | 1 Jahr | Windows/Mac/Android | Aktivierungscode in Standardverpackung",
                    "MAGIX Retten Sie Ihre Videokassetten! – Videos digitalisieren leicht gemacht | Videokassetten digitalisieren | Videoschnittpr",
                    "NORTON 360 Deluxe 2025 | 5 Geräte | 2 Jahre | Aktivierungscode per Email",
                    "ESET HOME Security Premium 2025 | 1 Gerät | 1 Jahr | inklusive Passwort Manager, Datenverschlüsselung, Browserschutz & Privat",
                    "McAfee Total Protection (4 + 1 Gerät) 2025 | 12 Monate|Secure VPN, Sicherheitssoftware mit Virenschutz, Kennwort-Manager, Ide",
                    "NordVPN Basis, 10 Geräte, 6 Monate, Premium-VPN-Software, Digitaler Code",
                    "McAfee Total Protection (5 Geräte) 2025 | Secure VPN, Sicherheitssoftware mit Virenschutz,Kennwort-Manager, Identitätsüberwac",
                    "Lidl Steuer 2025 für Steuererklärung 2024 ELSTER Nachfolger von 2024! Neu ! Download!",
                    "Bitdefender Internet Security 3 Geräte / 18 Monate (Code in a Box)",
                    "STEUEReasy 2025, clevere Schritt-für-Schritt Steuersoftware für die Steuererklärung 2024 | Windows-Version",
                    "WISO Steuer 2024 (für Steuerjahr 2023), Für Windows, Mac, Smartphones und Tablets, frustfreie Verpackung",
                    "Bitdefender Total Security 2025 | 10 Geräte | 2 Jahre | PC/Mac/iOS/Android | Code zur Aktivierung per E-Mail | Automatische V",
                    "G DATA Internet Security 2024/2025 | 1 Gerät | 1 Jahr | Made in Germany | Virenschutzprogramm | Für PC/Windows, Android, iOS ",
                    "QuickSteuer 2025 (für Steuerjahr 2024) | Minibox | Private und gewerbliche Steuererklärung",
                    "Kaspersky Standard Anti-Virus 2025 | 1 Gerät | 2 Jahre | Umfassender Schutz | Online-Banking Schutz | Leistungsoptimierung | "
                  ],
                  "legendgroup": "DE",
                  "marker": {
                    "color": "#FFA15A",
                    "size": {
                      "bdata": "AAAAAACrzUAAAAAAQL3SQAAAAAAAq81AAAAAAEC90kAAAAAAAJCKQAAAAAAAz7hAAAAAAACgakAAAAAAQL3SQAAAAAAAq81AAAAAAAAOpUAAAAAAAJiCQAAAAAAAib9AAAAAAACks0AAAAAAADiFQAAAAAAAib9AAAAAAADWqkAAAAAAAJi2QAAAAAAAz7hAAAAAAACUm0AAAAAAAFSfQAAAAAAAUIVAAAAAAABgf0AAAAAAALB0QAAAAAAAybFAAAAAAACtwUAAAAAAAAiJQAAAAAAACIlAAAAAAACIj0AAAAAAAOB9QAAAAAAAiI9AAAAAAACrzUAAAAAAAKBwQAAAAAAAybFAAAAAAADJsUAAAAAAAAB+QAAAAAAA8JFAAAAAAADInkAAAAAAAPCNQAAAAAAA4H1AAAAAAADAckAAAAAAAEiIQAAAAAAAz7hAAAAAAAAAbUAAAAAAAABLQAAAAAAAUHpAAAAAAAAgZkAAAAAAAJi2QAAAAAAA6IRAAAAAAADAWEAAAAAAAKvNQAAAAAAAJJNAAAAAAAAAfEAAAAAAAABBQAAAAAAAWJ5AAAAAAAD/skAAAAAAAMBkQAAAAAAASI1AAAAAAACJv0AAAAAAAJiKQAAAAAAA8JFAAAAAAABQe0AAAAAAAKSzQAAAAAAAzJpAAAAAAACQqUAAAAAAAIiPQAAAAAAAAEFAAAAAAAAAEEAAAAAAAIiPQAAAAAAAkKlAAAAAAACrzUAAAAAAAEBjQAAAAAAAQFpAAAAAAACAQkAAAAAAAMB2QAAAAAAADqVAAAAAAACIj0AAAAAAAMBQQAAAAAAAiJNAAAAAAADPuEAAAAAAAABTQAAAAAAA7K5AAAAAAABAUUAAAAAAAKiOQAAAAAAA0JFAAAAAAAAgbEAAAAAAAMmxQAAAAAAAgENAAAAAAAAAU0AAAAAAAIiPQAAAAAAAAChAAAAAAACAXUAAAAAAAABQQAAAAAAAQGRAAAAAAACrzUAAAAAAAABeQAAAAAAAAD5AAAAAAACks0AAAAAAAFCFQA==",
                      "dtype": "f8"
                    },
                    "sizemode": "area",
                    "sizeref": 47.9725,
                    "symbol": "circle"
                  },
                  "mode": "markers",
                  "name": "DE",
                  "orientation": "v",
                  "showlegend": true,
                  "type": "scatter",
                  "x": {
                    "bdata": "AAAAAADqo0AAAAAAgG/HQAAAAAAATqRAAAAAAIBJxUAAAAAAALySQAAAAAAAKJRAAAAAAAAFv0AAAAAAgJnAQAAAAAAAJqRAAAAAAAD+qEAAAAAAAPyYQAAAAAAAVqtAAAAAAADkl0AAAAAAAPyYQAAAAAAAmKJAAAAAAAD0kUAAAAAAADiPQAAAAAAA3JVAAAAAAABup0AAAAAAAD6vQAAAAAAAPJ9AAAAAAAACoEAAAAAAANiIQAAAAAAAiKNAAAAAAACypEAAAAAAAH/MQAAAAACA/8hAAAAAAADGqUAAAAAAQAPiQAAAAAAAdq5AAAAAAABOpEAAAAAAAHSeQAAAAAAArq1AAAAAAACsnUAAAAAAAG6nQAAAAAAAcKdAAAAAAABWq0AAAAAAAPyYQAAAAACAVclAAAAAAAC8kkAAAAAAAGO5QAAAAAAAkJhAAAAAAABWq0AAAAAAAIO8QAAAAAAAGIxAAAAAAACztEAAAAAAANyVQAAAAAAAW7JAAAAAAADGqUAAAAAAAFarQAAAAAAAPq9AAAAAAABop0AAAAAAACiLQAAAAAAA5JdAAAAAAAAcnEAAAAAAACyfQAAAAAAAQK9AAAAAAAAerEAAAAAAAEyUQAAAAAAAqLZAAAAAAADGqUAAAAAAAG6nQAAAAAAAOI9AAAAAAAB7tUAAAAAAgDPCQAAAAADA2NJAAAAAAADepUAAAAAAAJOxQAAAAAAAe7VAAAAAAACkqEAAAAAAABifQAAAAAAAkqFAAAAAAADkkkAAAAAAADyfQAAAAAAAm7hAAAAAAABWq0AAAAAAAOqqQAAAAAAAXJhAAAAAAAAcnEAAAAAAAPyYQAAAAAAAbJdAAAAAAABOpEAAAAAAACiqQAAAAAAAXKdAAAAAAADGqUAAAAAAAD6vQAAAAAAARKtAAAAAAACEk0AAAAAAAIajQAAAAAAAkJpAAAAAAAAAiUAAAAAAAFCuQAAAAAAA3JVAAAAAAADSpkAAAAAAgJPBQAAAAAAAYJNAAAAAAACsnUAAAAAAAD6vQA==",
                    "dtype": "f8"
                  },
                  "xaxis": "x",
                  "y": {
                    "bdata": "MzMzMzMzE0BmZmZmZmYQQDMzMzMzMxNAZmZmZmZmEEBmZmZmZmYSQGZmZmZmZhBAZmZmZmZmEEBmZmZmZmYQQDMzMzMzMxNAZmZmZmZmEkDNzMzMzMwQQM3MzMzMzBBAMzMzMzMzEUDNzMzMzMwQQM3MzMzMzBBAAAAAAAAAEEBmZmZmZmYQQGZmZmZmZhBAMzMzMzMzEUBmZmZmZmYSQAAAAAAAABJAZmZmZmZmEEDNzMzMzMwQQDMzMzMzMxFAzczMzMzMEkBmZmZmZmYOQGZmZmZmZg5AzczMzMzMEEBmZmZmZmYSQM3MzMzMzBBAMzMzMzMzE0DNzMzMzMwQQDMzMzMzMxFAMzMzMzMzEUCamZmZmZkRQDMzMzMzMxNAAAAAAAAAEkBmZmZmZmYSQGZmZmZmZhJAZmZmZmZmEkBmZmZmZmYSQGZmZmZmZhBAzczMzMzMEEBmZmZmZmYKQJqZmZmZmQ1AzczMzMzMEkBmZmZmZmYQQM3MzMzMzBJAAAAAAAAAEEAzMzMzMzMTQGZmZmZmZhJAzczMzMzMEEAAAAAAAAAQQM3MzMzMzBBAAAAAAAAAEkBmZmZmZmYQQAAAAAAAABJAzczMzMzMEEAzMzMzMzMRQDMzMzMzMxNAZmZmZmZmEkAzMzMzMzMRQM3MzMzMzBBAAAAAAAAAEkDNzMzMzMwQQGZmZmZmZg5AAAAAAAAAFEDNzMzMzMwQQAAAAAAAABJAMzMzMzMzE0AzMzMzMzMRQJqZmZmZmRFAZmZmZmZmEkDNzMzMzMwQQGZmZmZmZhJAzczMzMzMEEDNzMzMzMwQQGZmZmZmZhJAZmZmZmZmEEBmZmZmZmYOQM3MzMzMzBBAMzMzMzMzEUAAAAAAAAASQGZmZmZmZhJAZmZmZmZmDkAzMzMzMzMRQJqZmZmZmRFAAAAAAAAAEEDNzMzMzMwQQJqZmZmZmQlAZmZmZmZmEkBmZmZmZmYQQM3MzMzMzAxAMzMzMzMzE0BmZmZmZmYSQDMzMzMzMw9AMzMzMzMzEUAAAAAAAAASQA==",
                    "dtype": "f8"
                  },
                  "yaxis": "y"
                },
                {
                  "hovertemplate": "<b>%{hovertext}</b><br><br>country=FR<br>price_numeric=%{x}<br>star_numeric=%{y}<br>num_ratings_numeric=%{marker.size}<extra></extra>",
                  "hovertext": [
                    "Bitdefender Total Security | 10 appareils | 2 ans | PC/MAC/android | Code envoyé par la poste",
                    "Norton 360 Deluxe |5 appareils | 1 An d'Abonnement en renouvellement automatique |Téléchargement",
                    "Microsoft 365 Famille | 12 mois | 6 utilisateurs | Applications Office avec IA | Jusqu'à 6To de Stockage Onedrive | Abonnemen",
                    "Kaspersky Plus Internet Security 2025 | 1 appareil | 1 an | Anti-Phishing et Pare-feu | VPN illimité | Gestionnaire de mots d",
                    "Adobe Lightroom incl. Lightroom Classic 1 TO | fonctionnalités IA | 1 an |PC/Mac |Téléchargement",
                    "Microsoft 365 Personnel | 12 mois | 1 utilisateur | Applications Office avec IA | 1To de Stockage Onedrive | Abonnement Amazo",
                    "Microsoft Office Famille 2024 | Code d'activation envoyé par email",
                    "Bitdefender Total Security 2025 | 5 Appareils | 2 Ans | PC/Mac/iOS/Android | Code d’activation par email | Renouvellement Aut",
                    "NordVPN Basique, 10 Appareils, 6 Mois, Logiciel VPN Premium, Code Numérique",
                    "Bitdefender Internet Security 2025 | 5 Appareils | 2 Ans | PC | Code d’activation par email | Renouvellement Automatique",
                    "Norton 360 Premium 2024 |10 Appareils | 1 An d'Abonnement | Secure VPN - Password Manager - Dark web monitoring| PC/Mac/iOS/A",
                    "Bitdefender Total Security | 5 appareils | 1 an | PC/Mac/Smartphone | Code envoyé par la poste",
                    "McAfee Total Protection 5 appareils 2025 | 2 ans | VPN sécurisé, logiciel de sécurité avec antivirus, gestionnaire de mots de",
                    "McAfee Total Protection 1 appareil 2025 |12 mois|VPN sécurisé, logiciel de sécurité avec antivirus,gestionnaire de mots de pa",
                    "NordVPN Amazon Essentiel, 10 Appareils, 1 An, VPN et Gestionnaire de Mots de Passe, Code Numérique",
                    "Office Suite 2025 compatible avec Microsoft Office 2024, 2021, 365, 2021, 2016, 2013, alimentée par Apache OpenOffice sur USB",
                    "Kaspersky Premium Total Security 2025 | 3 appareils | 1 an | Anti-Phishing et Pare-feu | VPN illimité | Gestionnaire de mots ",
                    "Bitdefender Total Security 2025 | 3 Appareils | 1 An | PC/Mac/iOS/Android | Code d’activation par email | Renouvellement Auto",
                    "NordVPN Standard, 10 Appareils, 1 an, VPN & Cybersécurité, Code Numérique",
                    "Kaspersky Standard Anti-Virus 2025 | 1 appareil | 1 an | Sécurité Avancée | Protection bancaire | Optimisation des performanc",
                    "Kaspersky Premium Total Security 2025 | 5 appareils | 1 an | Anti-Phishing et Pare-feu | VPN illimité | Gestionnaire de mots ",
                    "Kaspersky Premium Total Security 2025 | 3 appareils | 2 ans | Anti-Phishing et Pare-feu | VPN illimité | Gestionnaire de mots",
                    "McAfee Total Protection 10 appareils 2025 | 15 mois | VPN sécurisé, logiciel de sécurité avec antivirus, gestionnaire de mots",
                    "Bitdefender Antivirus Plus 2025 | 3 Appareils | 2 Ans| PC | Code d’activation par email | Renouvellement Automatique",
                    "Kaspersky Plus Internet Security 2025 | 3 appareils | 1 an | Anti-Phishing et Pare-feu | VPN illimité | Gestionnaire de mots ",
                    "Bitdefender Antivirus Plus 2025 | 1 Appareil | 1 An | PC | Code d’activation par email | Renouvellement Automatique",
                    "NordVPN Essentiel, Exclusivité Amazon, 10 Appareils, 1 An + 1 Mois Extra, Code Numérique",
                    "Bitdefender Total Security 2025 | 5 Appareils | 1 An | PC/Mac/iOS/Android | Code d’activation par email | Renouvellement Auto",
                    "LibreOffice 2025 Édition Familiale et Étudiant 2024 Professionnel Plus Business Compatible avec Microsoft Office Word Excel P",
                    "NordVPN Premium, 1 An, Pack VPN & Logiciel de Cybersécurité, Code Numérique",
                    "McAfee Total Protection 5 appareils 2025 |12 mois |VPN sécurisé, logiciel de sécurité avec antivirus, gestionnaire de mots de",
                    "Norton 360 Deluxe |3 Appareils | 1 An d'Abonnement en renouvellement automatique |Téléchargement",
                    "Bitdefender Total Security 2025 | 10 Appareils | 2 Ans | PC/Mac/iOS/Android | Code d’activation par email | Renouvellement Au",
                    "Adobe Creative Cloud 1TB:Photoshop&Lightroom | 1 an | PC/Mac | Téléchargement",
                    "NordVPN Amazon Essentiel, 10 Appareils, 1 Mois, VPN et Gestionnaire de Mots de Passe, Code Numérique",
                    "Avast Premium Security 2025 | 10 appareils |Antivirus| 1 An | Code d'activation envoi par email",
                    "Norton 360 Standard |1 Appareil | 1 An d'Abonnement en renouvellement automatique |Téléchargement",
                    "McAfee Total Protection 3 appareils 2025 | 15 mois |VPN sécurisé, logiciel de sécurité avec antivirus, gestionnaire de mots d",
                    "Norton 360 Deluxe 2024 | 5 appareils | 24 Mois d'Abonnement en renouvellement automatique| Téléchargement",
                    "Kaspersky Premium Total Security 2025 | 5 appareils | 2 ans | Anti-Phishing et Pare-feu | VPN illimité | Gestionnaire de mots",
                    "Kaspersky Standard Anti-Virus 2025 |3 appareils | 1 an | Sécurité Avancée | Protection bancaire | Optimisation des performanc",
                    "Kaspersky Premium Total Security 2025 | 1 appareil | 2 ans | Anti-Phishing et Pare-feu | VPN illimité | Gestionnaire de mots ",
                    "Bitdefender Total Security, mise à jour possible vers la dernière version| 3 appareils | 1 An | PC/MAC/smartphone",
                    "Hollow Knight",
                    "NordVPN Standard, 10 Appareils, 1 Mois, VPN & Cybersécurité, Code Numérique",
                    "Kaspersky Plus Internet Security 2025 | 5 appareils | 1 an | Anti-Phishing et Pare-feu | VPN illimité | Gestionnaire de mots ",
                    "Bitdefender Total Security 2025 | 10 Appareils | 1 An | PC/Mac/iOS/Android | Code d’activation par email | Renouvellement Aut",
                    "Kaspersky VPN Secure Connection | 5 Appareils | 1 Compte Utilisateur | Abonnement Mensuel | Windows/Mac/Android/iOS | Code d’",
                    "Adobe Creative Cloud All Apps|Étudiants/Enseignants|1 an|PC/Mac|Téléchargement",
                    "ESET HOME Security Premium 2025 | 3 appareils | 1 an | Suite de sécurité, Gestionnaire de mots de passe, Chiffrement renforcé",
                    "Bitdefender Antivirus Plus | 1 appareil | 1 An | PC | Code d'activation envoyé par la poste",
                    "OfficeSuite Home & Business – Licence à vie – Documents, Sheets, Slides, PDF, Mail & Calendar pour 1 PC Windows",
                    "Office Suite 2025 sur CD compatible avec Microsoft Office 2024, 365, 2021, 2019, 2016, 2013, 2010, 2007 Word Excel PowerPoint",
                    "Microsoft 365 Personnel, Office 365 apps, 1 personne, 1 an, PC/MAC, tablette et smartphone, Box",
                    "McAfee Total Protection 5 appareils 2025 |12 mois | VPN sécurisé, logiciel de sécurité avec antivirus, gestionnaire de mots d",
                    "Bitdefender Antivirus Plus | 3 appareils | 2 Ans | PC | Code d'activation envoyé par la poste",
                    "Adobe Photoshop Elements 2025 |Licence 3 ans | 1 appareil |1 Usager|PC/Mac|Téléchargement | Standard | Ajoutez du mouvement g",
                    "Effaceur & formateur de disque dur pour les systèmes d'exploitation Windows 10 / 8 / 7 / Vista / XP (32 & 64 Bit), destructeu",
                    "McAfee Total Protection 5 appareils 2025 | 15 mois |VPN sécurisé, logiciel de sécurité avec antivirus, gestionnaire de mots d",
                    "Kaspersky Standard Anti-Virus 2025 | 1 appareil | 2 ans | Sécurité Avancée | Protection bancaire | Optimisation des performan",
                    "Bitdefender Internet Security 2025 | 1 Appareil | 1 An | PC | Code d’activation par email | Renouvellement Automatique",
                    "Bitdefender Internet Security | 5 appareils | 2 Ans | PC | Code envoyé par la poste",
                    "D-S Systems Clé d’Installation Compatible Avec macOS 10.12 Sierra USB OS X (Clé) d'installation Amorçable Récupération Bootab",
                    "NordVPN Amazon Essentiel, 10 Appareils, 6 Mois, VPN et Gestionnaire de Mots de Passe, Code Numérique",
                    "Adobe Creative Cloud All Apps | 1 an | PC/Mac | Téléchargement",
                    "Norton 360 Standard |1 Appareil | 1 An d'Abonnement en renouvellement automatique | Secure VPN - Password Manager | Sauvegard",
                    "Bitdefender Premium VPN 2025 | 10 appareils | 1 An | PC/Mac/Smartphone | Code d'activation envoyé par la poste",
                    "NordPass Premium, 1 An, Gestionnaire de Mots de Passe, Code Numérique",
                    "Nero MP4 Converter | Video Converter | Convertir DVD en Mp3 | Audio Converter Software | Formats vidéo : MP4, MPEG, VOB, DAT ",
                    "OfficeSuite Personal – Version complète – Documents, Sheets, Slides, PDF, Mail & Calendar pour 1 PC Windows et 2 appareils mo",
                    "MAGIX Music Maker 2025 Premium - MUSIC MADE EASY | Logiciel audio | Programme musical | pour Windows 10/11 | 1 licence complè",
                    "Kaspersky VPN Secure connection 5 Postes/1 An",
                    "Norton 360 Deluxe |3 Appareils | 1 An avec Renouvellement Automatique | Téléchargement",
                    "Adibou : Lecture - Calcul, 4-5 ans / Maternelle 2",
                    "Norton 360 Advanced | 10 appareils | 1 An d'Abonnement en renouvellement automatique | Téléchargement",
                    "D-S Systems Clé d’Installation Compatible avec macOS 10.13 High Sierra USB OS X (Clé) d'installation Amorçable Récupération B",
                    "Kaspersky Premium Total Security 2025 | 1 appareil | 1 an | Anti-Phishing et Pare-feu | VPN illimité | Gestionnaire de mots d",
                    "Norton™ 360 Deluxe 2025 |3 Appareils |12 Mois|Envoi par la poste",
                    "Norton 360 Deluxe Exclusivité Amazon* + 50 Go de sauvegarde cloud supplémentaire |5 Appareils | 1 An d'Abonnement en renouvel",
                    "Windows 10 Pro OEM 64Bit",
                    "GIMP l'éditeur de photos 2025 est un logiciel de retouche d'images professionnel premium sur CD compatible avec Windows 11 10",
                    "Norton 360 Gamers Edition 2025 | 3 Appareils | Téléchargement",
                    "ESET HOME Security Essential 2025 | 1 appareil | 1 an | Suite de sécurité, Protection des paiements, Pare-feu, Protection de ",
                    "McAfee Internet Security 1 appareils 2025 | 12 mois | Protection en temps réel des ordinateurs contre les menaces émergentes ",
                    "Abonnement iFIT | Train 1 an | PC/Mac/Mobile | Code d'activation - envoi par email",
                    "Kaspersky Premium Total Security 2025 | 10 appareils | 2 ans | Anti-Phishing et Pare-feu | VPN illimité | Gestionnaire de mot",
                    "Avast Ultimate 2025 | 1 appareil | Antivirus| 1 An | Code d'activation envoi par email",
                    "Kaspersky VPN Secure Connection | 5 Appareils | 1 Compte Utilisateur | Abonnement Annuel | Windows/Mac/Android/iOS | Code d’a",
                    "Kaspersky Plus Internet Security 2025 | 10 appareils | 1 an | Anti-Phishing et Pare-feu | VPN illimité | Gestionnaire de mots",
                    "Office Famille et Etudiant 2016",
                    "ESET HOME Security Premium 2025 | 5 appareils | 1 an | Suite de sécurité, Gestionnaire de mots de passe, Chiffrement renforcé",
                    "NordVPN Essentiel, 10 Appareils, 2 Ans, VPN & Cybersécurité, Code Numérique",
                    "MAGIX Video deluxe 2026 Plus: Le montage vidéo pour tous | Programme d'édition vidéo | Éditeur vidéo | pour Windows 10/11 PC ",
                    "Corel PaintShop Pro Ultimate, Logiciel de retouche photo, Téléchargement",
                    "AVG Internet Security 2025 | 1 appareil |Antivirus| 1 An | Code d'activation envoi par email",
                    "BRIDGE - Expert 2026 sur clé USB"
                  ],
                  "legendgroup": "FR",
                  "marker": {
                    "color": "#19d3f3",
                    "size": {
                      "bdata": "AAAAAABWokAAAAAAAGCXQAAAAAAAEIpAAAAAAADQf0AAAAAAAMBVQAAAAAAAEIpAAAAAAAAQikAAAAAAALCEQAAAAAAAIGJAAAAAAACQdUAAAAAAAPCUQAAAAAAAVqJAAAAAAAAgY0AAAAAAANiXQAAAAAAAIGJAAAAAAAAATkAAAAAAABiAQAAAAAAAoGNAAAAAAAAgYkAAAAAAALCCQAAAAAAAsIVAAAAAAAAYgEAAAAAAAIBQQAAAAAAAwGtAAAAAAAAQekAAAAAAAGBpQAAAAAAAIGJAAAAAAACwhEAAAAAAACBiQAAAAAAAIGJAAAAAAABkkkAAAAAAAICUQAAAAAAA8IlAAAAAAAAAEEAAAAAAACBiQAAAAAAAQGRAAAAAAACweUAAAAAAAMBmQAAAAAAAYJdAAAAAAACwhUAAAAAAAGBoQAAAAAAAoG1AAAAAAABWokAAAAAAAFCFQAAAAAAAIGJAAAAAAABAZEAAAAAAAPCJQAAAAAAAAEZAAAAAAADAVUAAAAAAAAAUQAAAAAAAgHNAAAAAAACAT0AAAAAAAEB3QAAAAAAAwGBAAAAAAAAACEAAAAAAAKB1QAAAAAAAACJAAAAAAABQdEAAAAAAAEBqQAAAAAAAsIJAAAAAAAAIiEAAAAAAAAiIQAAAAAAAAFJAAAAAAAAgYkAAAAAAAMBVQAAAAAAAsHlAAAAAAAAAYUAAAAAAACBiQAAAAAAAwFVAAAAAAAAAW0AAAAAAAABgQAAAAAAAADJAAAAAAAAAEEAAAAAAAAAIQAAAAAAAAFtAAAAAAADAXUAAAAAAAKBtQAAAAAAAgJRAAAAAAABgl0AAAAAAAGB3QAAAAAAAYGhAAAAAAAAAT0AAAAAAAAAYQAAAAAAAaI1AAAAAAAAAVUAAAAAAAABAQAAAAAAAQGRAAAAAAAAARkAAAAAAAAAgQAAAAAAAQFdAAAAAAAAAAEAAAAAAACBiQAAAAAAAAPA/AAAAAAAAFEAAAAAAAAAyQAAAAAAAAChA",
                      "dtype": "f8"
                    },
                    "sizemode": "area",
                    "sizeref": 47.9725,
                    "symbol": "circle"
                  },
                  "mode": "markers",
                  "name": "FR",
                  "orientation": "v",
                  "showlegend": true,
                  "type": "scatter",
                  "x": {
                    "bdata": "AAAAAACssUAAAAAAABycQAAAAAAArcZAAAAAAACGo0AAAAAAgIfDQAAAAAAAZ8FAAAAAAIAly0AAAAAAADi4QAAAAAAAVqtAAAAAAABNs0AAAAAAAD6gQAAAAAAAbqdAAAAAAABup0AAAAAAAEiOQAAAAAAAh7NAAAAAAAA8n0AAAAAAAFarQAAAAAAAAKlAAAAAAAA+r0AAAAAAAKydQAAAAAAAPq9AAAAAAAAlu0AAAAAAAKydQAAAAAAAaqhAAAAAAABup0AAAAAAAIyaQAAAAAAAV7tAAAAAAABOq0AAAAAAADyfQAAAAACAe8VAAAAAAADYk0AAAAAAAN6lQAAAAAAAXrpAAAAAAMDx0kAAAAAAACyRQAAAAAAAGIxAAAAAAAD4kUAAAAAAAPyYQAAAAAAATK1AAAAAAABLvUAAAAAAAN6lQAAAAAAAb7dAAAAAAAAWpUAAAAAAAG6nQAAAAAAAPJRAAAAAAABWq0AAAAAAACSzQAAAAAAA8HBAAAAAAIA/z0AAAAAAAKe2QAAAAAAAbJdAAAAAAICHw0AAAAAAADyfQAAAAAAAJMNAAAAAAACQmkAAAAAAAG6nQAAAAAAAP8BAAAAAAACcl0AAAAAAABycQAAAAAAA5qxAAAAAAABup0AAAAAAAJOxQAAAAAAAnJ1AAAAAAABWq0AAAAAA4IHkQAAAAAAAZKNAAAAAAABup0AAAAAAAMapQAAAAAAAOqZAAAAAAAA+r0AAAAAAAP6oQAAAAAAAPJ9AAAAAAAAMmEAAAAAAACSVQAAAAAAAHqxAAAAAAACcnUAAAAAAAD6vQAAAAAAATqRAAAAAAABOpEAAAAAAAGrIQAAAAAAAPJ9AAAAAAAAWpUAAAAAAAIyhQAAAAAAAKIJAAAAAAAAgzEAAAAAAgIfDQAAAAAAAdJ5AAAAAAACGo0AAAAAAAD6vQAAAAACAh8NAAAAAAACPukAAAAAAgG/HQAAAAAAAVqtAAAAAAADQtUAAAAAAANyVQAAAAAAAU7tA",
                    "dtype": "f8"
                  },
                  "xaxis": "x",
                  "y": {
                    "bdata": "zczMzMzMEkAAAAAAAAAQQM3MzMzMzAxAMzMzMzMzEUAAAAAAAAAQQM3MzMzMzAxAzczMzMzMDEDNzMzMzMwQQJqZmZmZmQ1AzczMzMzMEEAAAAAAAAAQQM3MzMzMzBJAMzMzMzMzEUAAAAAAAAAQQJqZmZmZmQ1AzczMzMzMDEBmZmZmZmYSQGZmZmZmZg5AmpmZmZmZDUAzMzMzMzMRQGZmZmZmZhJAZmZmZmZmEkAzMzMzMzMRQGZmZmZmZhBAmpmZmZmZEUAAAAAAAAAQQJqZmZmZmQ1AzczMzMzMEEBmZmZmZmYQQJqZmZmZmQ1AmpmZmZmZEUAAAAAAAAAQQAAAAAAAABBAmpmZmZmZE0CamZmZmZkNQGZmZmZmZhBAzczMzMzMDEDNzMzMzMwQQAAAAAAAABBAZmZmZmZmEkAAAAAAAAASQGZmZmZmZhJAzczMzMzMEkBmZmZmZmYSQJqZmZmZmQ1AZmZmZmZmEkAAAAAAAAAQQM3MzMzMzAxAAAAAAAAAEEBmZmZmZmYOQM3MzMzMzBBAMzMzMzMzEUAzMzMzMzMPQM3MzMzMzBBAZmZmZmZmCkCamZmZmZkRQAAAAAAAAAxAZmZmZmZmEEDNzMzMzMwQQDMzMzMzMxFAMzMzMzMzEUAzMzMzMzMRQAAAAAAAABJAmpmZmZmZDUAAAAAAAAAQQM3MzMzMzAxAAAAAAAAAEkCamZmZmZkNQDMzMzMzMwtAzczMzMzMDECamZmZmZkNQDMzMzMzMw9AAAAAAAAAEEAzMzMzMzMLQAAAAAAAABBAZmZmZmZmEkBmZmZmZmYSQAAAAAAAABBAAAAAAAAAEEAzMzMzMzMRQDMzMzMzMw9AzczMzMzMEEAzMzMzMzMHQGZmZmZmZhBAAAAAAAAACEBmZmZmZmYSQGZmZmZmZhBAzczMzMzMDEDNzMzMzMwSQAAAAAAAABBAAAAAAAAAFECamZmZmZkNQAAAAAAAABRAmpmZmZmZDUDNzMzMzMwMQDMzMzMzMwdA",
                    "dtype": "f8"
                  },
                  "yaxis": "y"
                },
                {
                  "hovertemplate": "<b>%{hovertext}</b><br><br>country=IT<br>price_numeric=%{x}<br>star_numeric=%{y}<br>num_ratings_numeric=%{marker.size}<extra></extra>",
                  "hovertext": [
                    "Norton 360 Deluxe 2025| Antivirus 5 dispositivi|15 mesi rinnovo automatico|Digital Download",
                    "Norton 360 Deluxe 2025 + Utilities Ultimate | Antivirus 5 dispositivi | 50 GB backup | 15 mesi rinnovo automatico | 1 Utente ",
                    "McAfee Total Protection 5 dispositivi 2025 15 mesi VPN sicura, software di sicurezza che include antivirus, gestore delle pas",
                    "Microsoft 365 Personal | 12 mesi | 1 persona | App Office con AI | 1TB di Spazio di archiviazione OneDrive | Codice d'attivaz",
                    "Microsoft 365 Family | 12 mesi | 6 persone | App Office con AI | Fino a 6TB di Spazio di archiviazione OneDrive | Codice d'at",
                    "Bitdefender Antivirus Plus 2025 | 1 Dispositivo | 1 Anno | PC | Codice di attivazione via email | Rinnovo automatico",
                    "Norton Utilities Ultimate 2025|10 PC| 12 mesi",
                    "NordVPN Standard, Esclusiva Amazon, 10 Dispositivi, 1-Anno + 1 Mese Extra, Codice Digitale",
                    "McAfee Total Protection 3 dispositivi 2025 15 mesi VPN sicura, Software di sicurezza che include antivirus, gestore delle pas",
                    "Adobe Creative Cloud | Standard | 1 Anno | PC/Mac | Download Digitale",
                    "Adobe Creative Cloud | Student & Teacher | 1 Anno | PC/Mac | Download Digitale",
                    "Adobe Lightroom incl. Lightroom Classic 1TB | Editor foto AI | 1 Anno | PC/Mac |Download Digitale",
                    "NordVPN Base, 10 Dispositivi, 6-Mesi, Software VPN Premium, Codice Digitale",
                    "McAfee Total Protection 1 dispositivo 2025 12 mesi VPN sicura, software di sicurezza che include antivirus, gestore delle pas",
                    "McAfee Total Protection 10 dispositivi 2025 15 mesi VPN sicura, software di sicurezza che include antivirus, gestore delle pa",
                    "Norton 360 Deluxe | Extra Spazio Archiviazione|Esclusiva Amazon *50 GB extra Cloud Backup| Antivirus 5 dispositivi| 1 anno ri",
                    "Microsoft Office Home 2024 | Acquisto una tantum | Word, Excel, Powerpoint | Codice d'attivazione via email",
                    "Creative Cloud Photography plan | Standard 1TB | 1 Anno | PC/Mac |Download Digitale",
                    "Bitdefender Total Security | 3 dispositivi |1 anno | PC/Mac/iOS/Android | Codice di attivazione inviato per posta",
                    "Norton Antivirus Plus 2025| 1 Dispositivo| 1 anno rinnovo automatico|Digital Download",
                    "NordVPN Plus, 1-Anno, VPN e Software Password Manager, Codice Digitale",
                    "NordVPN Amazon Essential, 10 Dispositivi, 1 Anno, VPN & Password Manager, Codice Digitale",
                    "Kaspersky Plus Internet Security 2025 | 1 dispositivo | 1 anno | Con Anti-Phishing e Firewall | VPN illimitata | Password Man",
                    "McAfee Total Protection 2 + 1 dispositivo 2025 12 mesi VPN sicura, software di sicurezza che include antivirus, gestore delle",
                    "Kaspersky Standard Anti-Virus 2025 | 1 dispositivo | 1 anno | Sicurezza avanzata | Protezione delle operazioni bancarie onlin",
                    "NordVPN Standard, 10 Dispositivi, 1-Mese, VPN e Cybersecurity, Codice Digitale",
                    "Norton 360 for Gamers 2025| Antivirus per 3 Dispositivi | Licenza di 1 anno | PC o Mac | Codice di attivazione via email",
                    "Bitdefender Total Security 2025 | 10 Dispositivi | 2 Anni | PC/Mac/iOS/Android | Codice di attivazione via email | Rinnovo au",
                    "Norton 360 Deluxe 2025|Antivirus 5 dispositivi|1 anno|Digital Download",
                    "McAfee Antivirus 2025 12 mesi Protezione in tempo reale del PC dalle minacce nuove e in continua evoluzione Download digitale",
                    "NordVPN Completo, 1-Anno, VPN e Cybersecurity Software, Codice Digitale",
                    "Bitdefender Total Security | 10 dispositivi |2 anni | PC/Mac/iOS/Android | Codice di attivazione inviato per posta",
                    "Surfshark One, VPN, Antiviruse, 6 Mesi, Codice Digitale",
                    "NordVPN Amazon Essential, 10 Dispositivi, 1 Mese, VPN & Password Manager, Codice Digitale",
                    "Norton 360 Premium 2025| Antivirus 10 dispositivi|15 mesi rinnovo automatico|Digital Download",
                    "Norton 360 Premium 2025| Antivirus 10 dispositivi| 1 anno rinnovo automatico|Dgital Download",
                    "Nero VHS to USB Video Grabber Recode Stick incl. software di editing video | editing video | digitalizzazione di cassette vid",
                    "Malwarebytes | Windows/Mac/iOS/Android/Chrome | Premium | 5 Dispositivo | 12 Mesi | Codice d'attivazione via email",
                    "Surfshark Starter, VPN, 6 Mesi, Codice Digitale",
                    "Adobe Acrobat Pro | 1 Anno | PC/Mac |Download Digitale",
                    "McAfee Total Protection 3 dispositivo 2025 12 mesi VPN sicura, software di sicurezza che include antivirus, gestore delle pas",
                    "Windows 11 │ Pro Edition │ Codice d'attivazione per PC via email",
                    "Norton 360 Standard 2025| Antivirus 1 dispositivo|15 mesi rinnovo automatico|Digital Download",
                    "AVG Ultimate 2025 | Per 10 dispositivi | 1 anno | Box | Antivirus | Secure VPN | TuneUp | PC/Mac/Android/iOS",
                    "McAfee Total Protection 4 + 1 dispositivo 2025 12 mesi VPN sicura, software di sicurezza che include antivirus, gestore delle",
                    "McAfee Internet Security 3 dispositivi 2025 12 mesi PC protetto in tempo reale contro le minacce nuove e in evoluzione Downlo",
                    "Bitdefender Internet Security 2025 | 3 dispositivi | 2 anni | PC | Codice di attivazione inviato per posta",
                    "McAfee Total Protection 10 dispositivo 2025 12 mesi VPN sicura, software di sicurezza che include antivirus, gestore delle pa",
                    "Norton 360 Standard 2025|Antivirus 1 dispositivo| 1 anno|Digital Download",
                    "Kaspersky Password Manager │ Dispositivi illimitati │ 1 Anno │ Windows/Mac/Android/iOS | Codice d'attivazione via email",
                    "Microsoft 365 Personal │ 12 meses │ 1 persona │ Apps Office con IA + Norton 360 Standard│1 Dispositivo│15 mesi│Abbonamento co",
                    "HackyPi - Strumento di hacking USB fai-da-te per professionisti della sicurezza e hacker etici, USB programmabile fai-da-te p",
                    "ESET NOD32 2023 | Antivirus Base | 2 dispositivi | Licenza di 1 Anno | Licenza di Rinnovo | Windows o Mac |Codice d'attivazio",
                    "NordPass Premium, Dispositivi Illimitati, 1-Anno, Password Manager, Codice Digitale",
                    "Kaspersky Premium Total Security 2025 | 3 dispositivi | 1 anno | Anti-Phishing e Firewall | VPN illimitata | Password Manager",
                    "Bitdefender Internet Security 2025 | 5 Dispositivi | 1 Anno | PC | Codice di attivazione via email | Rinnovo automatico",
                    "Movavi Video Converter Premium 2022 | Personale | 1 Dispositivo | PC | Codice d'attivazione per PC via email",
                    "OfficeSuite Family | Pacchetto 5-in-1 per l'ufficio | Documents, Sheets, Slides, PDF, Mail e Calendar | Licenza annuale | 1 P",
                    "Kaspersky Plus Internet Security 2025| 3 dispositivi | 1 anno | Con Anti-Phishing e Firewall | VPN illimitata | Password Mana",
                    "McAfee Total Protection 5 dispositivi 2025 2 anni VPN sicura, software di sicurezza che include antivirus, gestore delle pass",
                    "McAfee Total Protection 5 dispositivo 2025 12 mesi VPN sicura, software di sicurezza che include antivirus, gestore delle pas",
                    "Norton 360 Premium| Extra Spazio Archiviazione|Esclusiva Amazon * 75 GB extra Cloud Backup| Antivirus 10 dispositivi |1 anno ",
                    "Kaspersky Standard Anti-Virus 2025 | 3 dispositivi | 1 anno | Sicurezza avanzata | Protezione delle operazioni bancarie onlin",
                    "Norton 360 Advanced 2025 | Antivirus per 10 dispositivi | 200 Gb di backup | Licenza di 1 anno con rinnovo automatico | PC, M",
                    "Bitdefender Total Security 2025 | 5 Dispositivi | 1 Anno | PC/Mac/iOS/Android | Codice di attivazione via email | Rinnovo aut",
                    "Corel Pinnacle Studio 26 Ultimate, Software di video editing, Consegna postale",
                    "Malwarebytes | Windows/Mac/iOS/Android/Chrome | Premium | 2 Dispositivo | 18 Mesi | Codice d'attivazione via email",
                    "Microsoft 365 Business Standard - 1 utente - 5 PC/Mac +5 Tablet + 5 Telefoni cellulari - Abbonamento di 12 mesi",
                    "D-S Systems Installazione USB Compatibile con macOS X 10.12 Sierra su Chiavetta USB Avviabile per L'installazione o L’aggiorn",
                    "NordVPN Base, 10 Dispositivi, 1-Anno, Software VPN Premium, Codice Digitale",
                    "Bitdefender Total Security 2025 | 3 Dispositivi | 1 Anno | PC/Mac/iOS/Android | Codice di attivazione via email | Rinnovo aut",
                    "NordPass Premium, Dispositivi Illimitati, 2-Anni, Password Manager, Codice Digitale",
                    "Nero Burn Express 5 - Masterizzare | Copiare | Rip | Convertire | Backup | Proteggere",
                    "Nero Video Studio 2025 | Creazione e modifica video | Software di editing video per PC | Software video | Licenza illimitata ",
                    "Norton VPN Standard 2025 | 5 Dispositivi| Licenza di 1 anno con rinnovo automatico | PC/Mac/Android/iOS | Codice d'attivazion",
                    "Acronis Cyber Protect Home Office 2023 | Essentials | 3 PC/Mac | 1 Anno | Windows/Mac/Android/iOS | Backup | Codice d'attivaz",
                    "Corel CorelDRAW Graphics Suite 2024, 1 anno, 1 dispositivo, Download digitale",
                    "NordVPN Standard, 10 Dispositivi, 1-Anno, VPN e Cybersecurity, Codice Digitale",
                    "Kaspersky Plus Internet Security 2025| 5 dispositivi | 1 anno | Con Anti-Phishing e Firewall | VPN illimitata | Password Mana",
                    "Windows 11 │ Home Edition │ Codice d'attivazione per PC via email",
                    "Kaspersky Premium Total Security 2025 | 1 dispositivo | 1 anno | Anti-Phishing e Firewall | VPN illimitata | Password Manager",
                    "Norton 360 Deluxe 2025| Antivirus 5 dispositivi|1 anno rinnovo automatico|Digital Download",
                    "Office Suite 2025 compatibile con Microsoft Office 2024, 365, 2021, 2019, 2016, 2013, 2010, Word Excel PowerPoint su CD, alim",
                    "Norton Antivirus Plus 2024, 1 Dispositivo, Licenza di 15 mesi con rinnovo automatico, PC o Mac",
                    "Kaspersky Premium Total Security 2025 | 5 dispositivi | 1 anno | Anti-Phishing e Firewall | VPN illimitata | Password Manager",
                    "Adobe Photoshop Elements 2025 | Licenza triennale | 1 Dispositivo |1 Utente|PC/Mac|Download Digitale",
                    "Norton Antivirus Plus 2025, 1 Dispositivo, Licenza di 1 Anno con Rinnovo Automatico, Pc o Mac",
                    "NordVPN Standard - Software di sicurezza informatica e VPN valido 1 anno | Blocca malware, link pericolosi e pubblicità | Pro",
                    "NordVPN Amazon Essential, 10 Dispositivi, 2 Anni, VPN & Password Manager, Codice Digitale",
                    "Microsoft 365 Family │ 12 mesi │ 6 persone │ Fino a 6 TB di spazio di archiviazione Onedrive │ App Office con AI + Norton 360",
                    "Readiris PDF Business : software 1 Licenza a Vita, PREMIUM PDF Editor Professionale – Modifica, Proteggi, Annota, Converti to",
                    "Norton 360 Premium 2025| Antivirus 10 dispositivi| 1 anno|Digital Download",
                    "Norton 360 Standard 2025, Antivirus per 1 Dispositivo, Licenza di 1 Anno, Pc, Mac, Tablet e Smartphone",
                    "Microsoft 365 Family | 12 mesi | 6 persone | Fino a 6 TB di spazio di archiviazione Onedrive | App Office con AI+ McAfee Tota",
                    "Symantec Norton 360 Deluxe 2020 - Antivirus Software per 5 Dispositivi con Rinnovo Automatico, Licenza di 15 mesi, Secure VPN",
                    "Nero Burning ROM 2025 | L’originale | Masterizzare, copiare, salvare, rippare | Software di masterizzazione CD DVD BluRay | L"
                  ],
                  "legendgroup": "IT",
                  "marker": {
                    "color": "#FF6692",
                    "size": {
                      "bdata": "AAAAAAAyp0AAAAAAAEBSQAAAAAAAUIBAAAAAAABMlEAAAAAAAHiYQAAAAAAAADdAAAAAAACAS0AAAAAAAIByQAAAAAAAOIJAAAAAAAAALEAAAAAAAABaQAAAAAAAAEBAAAAAAACAckAAAAAAAOCfQAAAAAAAgGxAAAAAAADAUkAAAAAAAAA4QAAAAAAAAD5AAAAAAAAclUAAAAAAACSRQAAAAAAAgHJAAAAAAACAckAAAAAAAKSWQAAAAAAA4J9AAAAAAAAogEAAAAAAAIByQAAAAAAAIGhAAAAAAAAASkAAAAAAADKnQAAAAAAAcIdAAAAAAACAckAAAAAAAByVQAAAAAAAACJAAAAAAACAckAAAAAAACCRQAAAAAAAIJFAAAAAAADAaEAAAAAAAAAIQAAAAAAAACJAAAAAAAAAQEAAAAAAAOCfQAAAAAAAAChAAAAAAAAYiEAAAAAAAGBhQAAAAAAAoJBAAAAAAABwh0AAAAAAAGBkQAAAAAAA8HlAAAAAAAAYiEAAAAAAAABFQAAAAAAATJRAAAAAAADAaEAAAAAAAABQQAAAAAAAgHJAAAAAAAA4hUAAAAAAAABBQAAAAAAAAABAAAAAAAAAJEAAAAAAAJCGQAAAAAAAQFxAAAAAAACgkEAAAAAAACCRQAAAAAAA4GdAAAAAAAAgkUAAAAAAAOBpQAAAAAAAQF5AAAAAAAAAKEAAAAAAAAA2QAAAAAAAQGJAAAAAAACAckAAAAAAAIBGQAAAAAAAgHJAAAAAAAAALkAAAAAAAABDQAAAAAAAAPA/AAAAAAAAAEAAAAAAAAAIQAAAAAAAgHJAAAAAAABQdUAAAAAAAABLQAAAAAAAYHtAAAAAAAAyp0AAAAAAABB3QAAAAAAAJJFAAAAAAABIgkAAAAAAAAAQQAAAAAAAJJFAAAAAAAAAS0AAAAAAAIByQAAAAAAAeJhAAAAAAACAUEAAAAAAACCRQAAAAAAAGIhAAAAAAAB4mEAAAAAAAHiSQAAAAAAAwHNA",
                      "dtype": "f8"
                    },
                    "sizemode": "area",
                    "sizeref": 47.9725,
                    "symbol": "circle"
                  },
                  "mode": "markers",
                  "name": "IT",
                  "orientation": "v",
                  "showlegend": true,
                  "type": "scatter",
                  "x": {
                    "bdata": "AAAAAACom0AAAAAAAMCiQAAAAAAAPJ9AAAAAAABnwUAAAAAAAK3GQAAAAAAAPJ9AAAAAAAAYoEAAAAAAAKGyQAAAAAAAIJxAAAAAAODf5UAAAAAAAIHQQAAAAACAgcRAAAAAAACypEAAAAAAAIyaQAAAAAAAkqFAAAAAAACmpkAAAAAAABrNQAAAAADAPNNAAAAAAAAWpUAAAAAAAGSTQAAAAAAAs7RAAAAAAAD6rEAAAAAAAHu1QAAAAAAAbJdAAAAAAABWq0AAAAAAABSTQAAAAAAAhqNAAAAAAAB7tUAAAAAAAHauQAAAAAAAPJRAAAAAAADFtkAAAAAAAG+3QAAAAAAAk7FAAAAAAAAskUAAAAAAADijQAAAAAAABbBAAAAAAACDs0AAAAAAAD6vQAAAAAAAPq9AAAAAAIBXy0AAAAAAABycQAAAAAAAS9lAAAAAAAA8n0AAAAAAAD6vQAAAAAAALJ9AAAAAAAA8lEAAAAAAAD6vQAAAAAAAkqFAAAAAAAA2qEAAAAAAANyVQAAAAACAEctAAAAAAADMsEAAAAAAAHSzQAAAAAAAjqBAAAAAAICTwUAAAAAAAFarQAAAAAAAY7BAAAAAAABvt0AAAAAAAFe7QAAAAAAAh7NAAAAAAADonEAAAAAAAB6sQAAAAAAAh7NAAAAAAAAsqkAAAAAAAD6vQAAAAACA+8JAAAAAAABup0AAAAAAgO7KQAAAAAAALJ9AAAAAAACTsUAAAAAAAFarQAAAAAAA+qxAAAAAAABmp0AAAAAAAIOzQAAAAAAAPKtAAAAAAAA/v0AAAAAAAAnVQAAAAAAAC7NAAAAAAAA/v0AAAAAAAFLMQAAAAAAAP79AAAAAAACGo0AAAAAAAGyXQAAAAAAAjJpAAAAAAICHw0AAAAAAAD/AQAAAAAAAbqdAAAAAAAB1s0AAAAAAgKrDQAAAAACA2NJAAAAAAAD0ukAAAAAAABe1QAAAAAAAUJ5AAAAAAIDY0kAAAAAAAG6tQAAAAAAAg7NA",
                    "dtype": "f8"
                  },
                  "xaxis": "x",
                  "y": {
                    "bdata": "zczMzMzMEECamZmZmZkRQGZmZmZmZhJAMzMzMzMzEUAAAAAAAAASQM3MzMzMzBBAMzMzMzMzEUCamZmZmZkRQDMzMzMzMxFAMzMzMzMzEUAzMzMzMzMTQDMzMzMzMw9AmpmZmZmZEUCamZmZmZkRQAAAAAAAABJAzczMzMzMEEBmZmZmZmYQQGZmZmZmZg5AMzMzMzMzE0DNzMzMzMwQQJqZmZmZmRFAmpmZmZmZEUBmZmZmZmYSQJqZmZmZmRFAAAAAAAAAEkCamZmZmZkRQGZmZmZmZhJAMzMzMzMzEUDNzMzMzMwQQDMzMzMzMxFAmpmZmZmZEUAzMzMzMzMTQJqZmZmZmQlAmpmZmZmZEUBmZmZmZmYSQGZmZmZmZhJAzczMzMzMDEBmZmZmZmYOQJqZmZmZmQlAAAAAAAAAEkCamZmZmZkRQJqZmZmZmQ1AzczMzMzMEECamZmZmZkRQDMzMzMzMxFAMzMzMzMzEUCamZmZmZkRQM3MzMzMzBBAzczMzMzMEEDNzMzMzMwMQDMzMzMzMxFAAAAAAAAAEEAAAAAAAAAQQJqZmZmZmRFAzczMzMzMEkAAAAAAAAAQQAAAAAAAABRAZmZmZmZmCkBmZmZmZmYSQGZmZmZmZhJAMzMzMzMzEUBmZmZmZmYSQGZmZmZmZhJAZmZmZmZmEkAAAAAAAAAQQAAAAAAAABBAzczMzMzMEkBmZmZmZmb+PwAAAAAAABJAmpmZmZmZEUAzMzMzMzMRQJqZmZmZmRFAMzMzMzMzD0BmZmZmZmYGQAAAAAAAAAhAMzMzMzMzD0AAAAAAAAAQQJqZmZmZmRFAZmZmZmZmEkAAAAAAAAAMQM3MzMzMzBJAzczMzMzMEEAzMzMzMzMPQM3MzMzMzBBAZmZmZmZmEkAAAAAAAAAIQM3MzMzMzBBAzczMzMzMEkCamZmZmZkRQAAAAAAAABJAZmZmZmZmDkBmZmZmZmYSQM3MzMzMzBBAAAAAAAAAEkAAAAAAAAASQGZmZmZmZg5A",
                    "dtype": "f8"
                  },
                  "yaxis": "y"
                },
                {
                  "hovertemplate": "<b>%{hovertext}</b><br><br>country=ES<br>price_numeric=%{x}<br>star_numeric=%{y}<br>num_ratings_numeric=%{marker.size}<extra></extra>",
                  "hovertext": [
                    "Bitdefender Antivirus Plus 2025 | 1 Dispositivo | 1 Año | PC | Código de activación por email | Renovación automática",
                    "McAfee Total Protection para 10 dispositivos 2025 |15-Meses | VPN segura,el software de seguridad incluye antivirus, gestor d",
                    "Norton 360 Deluxe 2025 |Antivirus 5 Dispositivos|15 meses con renovación automática| Descarga digital",
                    "Kaspersky Plus Internet Security 2025 | 3 Dispositivos | 1 año | Anti-Phishing y Firewall| VPN ilimitada | Gestor de contrase",
                    "McAfee Total Protection para 3 dispositivos, 2025 |15 meses | VPN segura, el software de seguridad incluye antivirus, gestor ",
                    "Microsoft 365 Familia | 12 meses | 6 personas | Apps Office con IA | Hasta 6TB de Almacenamiento OneDrive | Código de activac",
                    "Kaspersky Premium Total Security 2025 | 5 Dispositivos | 1 año | Anti-Phishing y Firewall | VPN ilimitada | Gestor de contras",
                    "Norton 360 Deluxe Exclusivo Amazon*|Antivirus 5 Dispositivos|1 año con renovación automática| Descarga digital",
                    "Microsoft 365 Personal | 12 meses | 1 persona | Apps Office con IA | 1TB de Almacenamiento OneDrive | Código de activación en",
                    "Windows 11 Pro - Licencia digital - Descarga",
                    "NordVPN Básico, 10 Dispositivos, 6 Meses, Software VPN Premium, Código Digital",
                    "McAfee Total Protection para 5 dispositivos, 2025 |12 meses | VPN segura, el software de seguridad incluye antivirus, gestor ",
                    "McAfee Total Protection para 5 dispositivos, 2025 |15 meses |VPN segura, el software de seguridad incluye antivirus, gestor d",
                    "Norton 360 Premium 2024 - Antivirus software para 10 Dispositivos 15 meses de suscripción - Secure VPN y Gestor de contraseña",
                    "NordVPN Amazon Esencial, 10 dispositivos, 1 año, VPN y gestor de contraseñas, código",
                    "Bitdefender Total Security | 5 dispositivos | 1 año | PC/MAC/iOS/Android | Código de activación enviado por correo postal",
                    "Adobe Creative Cloud | Student Version | 1 Año | PC/Mac | Descarga Digital",
                    "Norton 360 Premium+Utilities 2025|Antivírus 10 Dispositivos|1 año con renovación automática| Descarga digital",
                    "NordVPN Estándar, Exclusivo de Amazon, 10 Dispositivos, 1 Año + 1 Mes Extra, Código Digital",
                    "Adobe Lightroom and Lightroom Classic 1TB | Código de activación enviado por email",
                    "McAfee Total Protection para 3 dispositivos, 2025 |12 meses | VPN segura, el software de seguridad incluye antivirus, gestor ",
                    "NordVPN Completo, 1 Año, VPN y Software de Ciberseguridad, Código Digital",
                    "NordVPN Básico, 10 Dispositivos, 1 Año, Software VPN Premium, Código Digital",
                    "Creative Cloud Photography plan | with 1TB | 1 Año | PC/Mac | Código de activación enviado por email",
                    "NordPass Premium, Dispositivos Ilimitados, 1 Año, Gestor de Contraseñas, Código Digital",
                    "Surfshark One, VPN, Antivirus, 12 Meses, Código Digital",
                    "NordVPN Plus, 1 Año, Software VPN y Administrador de Contraseñas, Código Digital",
                    "McAfee Total Protection para 10 dispositivos, 2025 |12 meses | VPN segura, el software de seguridad incluye antivirus, gestor",
                    "Avast Ultimate 2025 - Antivirus Avast Premium Security con Avast SecureLine VPN, Avast Cleanup Premium y Avast AntiTrack | 10",
                    "Adobe Acrobat Pro | 1 Año | PC/Mac |Descarga Digital",
                    "Bitdefender Internet Security | 3 dispositivos | 2 años | PC | Código de activación enviado por correo postal",
                    "Norton 360 Advanced 2025 │ 10 Dispositivos │ 15 meses renovación automática │ Social Media, Dark Web Monitoring y VPN │ Códig",
                    "Norton 360 Premium Exclusivo Amazon*|Antivirus 10 Dispositivos|15 meses| Descarga digital",
                    "Norton 360 Premium 2025| Antivírus 10 Dispositivos|1 año con renovación automática| Descarga digital",
                    "Panda Dome Advanced 2025 – Antivirus Cloud VPN, Control Parental (5 dispositivos)",
                    "Kaspersky Standard Anti-Virus 2025 | 1 dispositivo | 1 año | Seguridad Avanzada | Protección Bancaria en línea | Optimización",
                    "NordVPN Estándar, 10 dispositivos, 1 Mes, VPN y Ciberseguridad, Código Digital",
                    "Norton 360 Deluxe 2025 |Antivirus 2+1 Dispositivos|15 meses con renovación automática| Descarga digital",
                    "NordVPN Básico, 10 Dispositivos, 1 Mes, Software VPN Premium, Código Digital",
                    "Laplink PCmover Professional 11 con High Speed Cable (1 Uso) - ¡La forma más fácil de transferir su información a una nueva P",
                    "Nero Video Maker 2025 | El original | Editor de vídeo | Edición de vídeo | Licencia ilimitada | 1 PC | Windows 11 / 10 / 8 / ",
                    "LibreOffice Office Suite 2025 en USB | Compatible con Microsoft Office Word, Excel y PowerPoint Professional Home & Business ",
                    "Bitdefender Total Security 2025 | 5 Dispositivos | 1 Año | PC/Mac/iOS/Android | Código de activación por email | Renovación a",
                    "Windows 11 | Home Edition | Código de activación PC enviado por email",
                    "Bitdefender Total Security | 10 dispositivos | 2 años | PC/MAC/Móvil | Código de activación enviado por correo postal",
                    "Microsoft 365 Empresa Estándar - 1 usuario - 5 PC/Mac + 5 Tabletas +5 móviles - Suscripción 12 meses",
                    "Panda Dome Advanced 2025 – Antivirus Cloud, VPN, Control Parental (1 dispositivo)",
                    "Norton 360 for Gamers 2025 |Antivirus 3 Dispositivos| 1 año| Descarga digital",
                    "Bitdefender Total Security 2025 | 3 Dispositivos | 1 Año | PC/Mac/iOS/Android | Código de activación por email | Renovación a",
                    "Norton 360 Premium 2025| Antivírus 10 Dispositivos| 15 meses con renovación automática| Descarga digital",
                    "Norton 360 Estándar 2025|Antivirus 1 Dispositivo|1 año con renovación automática| Descarga digital",
                    "Norton 360 Premium 2025| Antivírus 10 Dispositivos| 15 meses com renovação automática| Descarga digital",
                    "Movavi Video Converter Premium 2022 | Personal | 1 Dispositivo | PC | Código de activación PC enviado por email",
                    "Norton VPN Standard 2025 | 1 Dispositivo| 1 año de suscripción con renovación automática | PC/Mac/Android/iOS | Código de act",
                    "Norton 360 Deluxe 2024 - Antivirus software para 5 Dispositivos y 15 meses de suscripción con renovación automática, Secure V",
                    "Office Suite 2025 Compatible con Microsoft Office 2024, 365, 2021, 2019, 2016, 2013, 2010, 2007 Word Excel PowerPoint en CD i",
                    "Microsoft Office Hogar 2024 |Código de activación enviado por email",
                    "McAfee Total Protection para 1 dispositivo 2025 |12- meses | VPN segura, el software de seguridad incluye antivirus, gestor d",
                    "Kaspersky VPN Secure Connection | 5 Dispositivos | 1 Usuario | 1 Año | PC/Mac | Código de activación enviado por email",
                    "Norton 360 Deluxe Exclusivo Amazon*|Antivirus 3 Dispositivos|1 año con renovación automática| Descarga digital",
                    "Kaspersky Premium Total Security 2025 | 3 Dispositivos | 1 año | Anti-Phishing y Firewall | VPN ilimitada | Gestor de contras",
                    "NERO Video cassette rescue - muy fácil sin conocimientos previos | S-VHS | Hi8 | Super 8 | DVD a PC | 1 PC | Software de edic",
                    "Norton 360 for Mobile 2025|1 Dispositivo|1 año con renovación automática| Descarga digital",
                    "Bitdefender Total Security 2025 | 10 Dispositivos | 1 Año | PC/Mac/iOS/Android | Código de activación por email | Renovación ",
                    "Avast Ultimate 2025 | Antivirus 10 Dispositivos | 1 Año | Descarga digital",
                    "Microsoft 365 Familia│12 meses│6 personas│ Hasta 6 TB de almacenamiento Onedrive│Apps Office con IA + Norton 360 Deluxe│5 Dis",
                    "Parallels Desktop 20 para Mac | Software para ejecutar Windows en máquinas virtuales | Perpetuo | 1 Dispositivo | Mac | Códig",
                    "Kaspersky Plus Internet Security 2025 | 1 Dispositivo | 1 año | Anti-Phishing y Firewall| VPN ilimitada | Gestor de contraseñ",
                    "Microsoft 365 Familia | 12 meses | 6 personas | Hasta 6 TB de almacenamiento Onedrive | Apps Office con IA + McAfee Total Pro",
                    "Norton 360 Premium Exclusivo Amazon*|Antivirus 10 Dispositivos|1 año con renovación automática| Descarga digital",
                    "Panda Dome Advanced 2025 – Antivirus Cloud VPN, Control Parental ( 3 dispositivos)",
                    "McAfee+ Premium Familiar para dispositivos ilimitados 2025 |12 meses|VPN segura, incluye antivirus, gestor de contraseñas, su",
                    "Bitdefender Premium VPN 2024 | 10 Dispositivos| 1 año | PC/Mac/Móvil | Código de activación enviado por email",
                    "Nero Burn Express 5 - Grabar | Copiar | Ripear | Convertir | Copia de seguridad | Proteger para películas, fotos, música y da",
                    "Corel Pinnacle Studio 26 Ultimate, Software de edición vídeo, Entrega por correo",
                    "Panda Dome Complete 2025 – Antivirus Cloud y VPN, Gestor de contraseñas (5 dispositivos)",
                    "Norton 360 Platinum 2025| Antivírus 20 Dispositivos| 15 meses con renovación automática| Descarga digital",
                    "OpenOffice Premium Edition for Windows 10-8-7-Vista-XP | PC Software and 1.000 New Fonts and Free Email Support | Alternative",
                    "F-Secure Total | 1 Años | 5 Dispositivos | PC/Mac/Mobile | Código de activación enviado por email",
                    "NordVPN Estándar, 10 dispositivos, 1 Año, VPN y Ciberseguridad, Código Digital",
                    "Microsoft Sistema operativo Windows Home FPP 11 64-bit Español 1 Licencia",
                    "Kaspersky Premium Total Security 2025 | 10 Dispositivos | 1 año | Anti-Phishing y Firewall | VPN ilimitada | Gestor de contra",
                    "Norton 360 Deluxe+Norton AntiTrack 2025|Antivírus 5 Dispositivos| 15 meses com renovação automática| Descarga digital",
                    "Norton 360 Estándar 2024 - Antivirus software para 1 Dispositivo y 1 año de suscripción con renovación automática, Secure VPN",
                    "Bitdefender Internet Security 2025 | 5 Dispositivos | 1 Año | PC | Código de activación por email | Renovación automática",
                    "Kaspersky Premium Total Security 2025 | 1 Dispositivo | 1 año | Anti-Phishing y Firewall | VPN ilimitada | Gestor de contrase",
                    "Norton 360 Deluxe 2025 |Antivirus 5 Dispositivos|15 meses| Descarga digital",
                    "NordVPN Amazon Esencial, 10 dispositivos, 1 mes, VPN & gestor de Contraseñas, código",
                    "Nero Burning ROM 2025 | El original | Programa de grabación | Grabación de CD DVD Bluray | Copiado | Windows 11 / 10 / 8 / 7 ",
                    "Kaspersky Plus Internet Security 2025 | 5 Dispositivos | 1 año | Anti-Phishing y Firewall| VPN ilimitada | Gestor de contrase",
                    "ESET HOME Security Premium 2025 | 1 dispositivo | 1 año | gestor de contraseñas, cifrado de datos, privacidad y seguridad del",
                    "NordVPN Estándar - 1 año de VPN y software de ciberseguridad - Bloquea malware, enlaces y anuncios maliciosos, protege tu inf",
                    "Norton 360 Deluxe 2025|Antivírus 5 Dispositivos| 15 meses com renovação automática| Descarga digital",
                    "Kaspersky Password Manager | Sin límite de dispositivos | 1 Año | Windows/Mac/Android/iOS | Código de activación enviado por ",
                    "Avast Premium Security 2025 | Antivirus 10 Dispositivos | 1 Año | Descarga digital",
                    "Norton Antivirus Plus 2024 - Antivirus software para 1 Dispositivo y 1 año de suscripción con renovación automática, para PC ",
                    "AVG Ultimate 2025 | Antivirus 10 Dispositivos | 1 Año | Descarga digital"
                  ],
                  "legendgroup": "ES",
                  "marker": {
                    "color": "#B6E880",
                    "size": {
                      "bdata": "AAAAAACAQkAAAAAAAABxQAAAAAAAiJFAAAAAAADIhkAAAAAAAPCBQAAAAAAA/JBAAAAAAADghUAAAAAAAIiRQAAAAAAAMIpAAAAAAAAAVkAAAAAAAMBeQAAAAAAAKIpAAAAAAADAVUAAAAAAAEBqQAAAAAAAwF5AAAAAAACklEAAAAAAAAA4QAAAAAAAAFxAAAAAAADAXkAAAAAAAAAQQAAAAAAAMINAAAAAAADAXkAAAAAAAMBeQAAAAAAAADFAAAAAAADAXkAAAAAAAAAcQAAAAAAAwF5AAAAAAADgf0AAAAAAAMBSQAAAAAAAAC5AAAAAAACAZEAAAAAAACCAQAAAAAAAAFxAAAAAAAAggEAAAAAAAABmQAAAAAAAoGtAAAAAAADAXkAAAAAAAABhQAAAAAAAwF5AAAAAAACAdUAAAAAAAEBVQAAAAAAAQGFAAAAAAADga0AAAAAAAABCQAAAAAAApJRAAAAAAAAAJEAAAAAAAABmQAAAAAAAQFVAAAAAAAAATUAAAAAAACCAQAAAAAAAYHRAAAAAAADAUkAAAAAAAAAAQAAAAAAAAABAAAAAAAAQhEAAAAAAAMB2QAAAAAAAACZAAAAAAAAwg0AAAAAAAIBSQAAAAAAAAGFAAAAAAADgdUAAAAAAAABfQAAAAAAAAChAAAAAAABAVEAAAAAAAABiQAAAAAAA/JBAAAAAAAAAFEAAAAAAAHBwQAAAAAAA/JBAAAAAAAAAXEAAAAAAAABmQAAAAAAAAAhAAAAAAAAALEAAAAAAAAAuQAAAAAAAgF5AAAAAAABgZkAAAAAAAABGQAAAAAAAYG1AAAAAAAAAJkAAAAAAAMBeQAAAAAAAwFNAAAAAAAAATUAAAAAAAIiRQAAAAAAAYHRAAAAAAAAAM0AAAAAAACBsQAAAAAAAiJFAAAAAAADAXkAAAAAAAOBoQAAAAAAAgGhAAAAAAAAAAEAAAAAAAMBeQAAAAAAAwFJAAAAAAACAQEAAAAAAAABiQAAAAAAAYHRAAAAAAAAAQ0A=",
                      "dtype": "f8"
                    },
                    "sizemode": "area",
                    "sizeref": 47.9725,
                    "symbol": "circle"
                  },
                  "mode": "markers",
                  "name": "ES",
                  "orientation": "v",
                  "showlegend": true,
                  "type": "scatter",
                  "x": {
                    "bdata": "AAAAAAA8n0AAAAAAAH6jQAAAAAAAhJ9AAAAAAABWq0AAAAAAAIagQAAAAAAArcZAAAAAAADLsEAAAAAAAFibQAAAAAAAZ8FAAAAAAADHsEAAAAAAAFarQAAAAAAALJ9AAAAAAACGoEAAAAAAAHSjQAAAAAAAh7NAAAAAAABup0AAAAAAwIDQQAAAAAAAPq9AAAAAAABXu0AAAAAAgIfDQAAAAAAALJ9AAAAAAIB7xUAAAAAAAIezQAAAAADAI9NAAAAAAADGqUAAAAAAAP+4QAAAAACAk8FAAAAAAAB+o0AAAAAAAAu3QAAAAACAV8tAAAAAAAA+r0AAAAAAAP6oQAAAAAAAZ7BAAAAAAADKp0AAAAAAALqrQAAAAAAAVqtAAAAAAAA8lEAAAAAAADaoQAAAAAAAvJJAAAAAAAC7skAAAAAAAIOzQAAAAAAAPJ9AAAAAAAA+r0AAAAAAgFHMQAAAAAAAb7dAAAAAAAAazUAAAAAAAFqiQAAAAAAAbqdAAAAAAABWq0AAAAAAAD6vQAAAAAAAoH9AAAAAAABWq0AAAAAAAGOwQAAAAAAAAJ5AAAAAAACsnUAAAAAAADyfQAAAAACAS81AAAAAAAAsn0AAAAAAAG6nQAAAAAAAxqlAAAAAAICTwUAAAAAAAMewQAAAAAAAkIpAAAAAAABvt0AAAAAAADaoQAAAAAAAQ9JAAAAAAADXyUAAAAAAAHu1QAAAAACA2NJAAAAAAABnsEAAAAAAAHCnQAAAAAAAPq9AAAAAAABXu0AAAAAAAGanQAAAAAAA3L5AAAAAAABhtEAAAAAAAIezQAAAAAAAmJxAAAAAAAA2v0AAAAAAAE67QAAAAAAAYsFAAAAAAIBdykAAAAAAAD6vQAAAAAAA/qFAAAAAAABWq0AAAAAAAD+/QAAAAAAAVqtAAAAAAAAskUAAAAAAAIOzQAAAAAAAP79AAAAAAACHs0AAAAAAAO2yQAAAAAAAbqdAAAAAAADclUAAAAAAAD6vQAAAAAAANJlAAAAAAADepUA=",
                    "dtype": "f8"
                  },
                  "xaxis": "x",
                  "y": {
                    "bdata": "ZmZmZmZmCkAzMzMzMzMRQGZmZmZmZg5AZmZmZmZmEkDNzMzMzMwQQJqZmZmZmRFAZmZmZmZmEkBmZmZmZmYOQJqZmZmZmRFAMzMzMzMzEUBmZmZmZmYOQM3MzMzMzBBAMzMzMzMzD0BmZmZmZmYQQGZmZmZmZg5AZmZmZmZmEkDNzMzMzMwSQGZmZmZmZhBAZmZmZmZmDkBmZmZmZmYOQDMzMzMzMxFAZmZmZmZmDkBmZmZmZmYOQAAAAAAAAAxAZmZmZmZmDkBmZmZmZmYQQGZmZmZmZg5AMzMzMzMzEUAAAAAAAAAQQGZmZmZmZhJAzczMzMzMEEAAAAAAAAAQQGZmZmZmZhBAAAAAAAAAEEDNzMzMzMwQQGZmZmZmZhBAZmZmZmZmDkAAAAAAAAAQQGZmZmZmZg5AZmZmZmZmDkAzMzMzMzMHQGZmZmZmZhBAAAAAAAAAEEBmZmZmZmYOQGZmZmZmZhJAZmZmZmZmBkDNzMzMzMwQQJqZmZmZmRFAmpmZmZmZBUAAAAAAAAAQQAAAAAAAAAxAzczMzMzMEEAAAAAAAAAUQDMzMzMzMwdAZmZmZmZmEEAzMzMzMzMPQDMzMzMzMwtAMzMzMzMzEUBmZmZmZmYQQAAAAAAAABBAZmZmZmZmEkAAAAAAAAAMQAAAAAAAAAhAMzMzMzMzC0AAAAAAAAAQQJqZmZmZmRFAMzMzMzMzD0CamZmZmZkRQJqZmZmZmRFAZmZmZmZmEEDNzMzMzMwQQJqZmZmZmQ1AMzMzMzMzB0AzMzMzMzMPQGZmZmZmZhBAAAAAAAAAEkAAAAAAAAAQQDMzMzMzMxFAMzMzMzMzD0BmZmZmZmYOQM3MzMzMzBBAZmZmZmZmEkBmZmZmZmYOQAAAAAAAAAxAMzMzMzMzB0AAAAAAAAASQGZmZmZmZg5AZmZmZmZmDkAAAAAAAAAQQAAAAAAAABJAAAAAAAAAEkBmZmZmZmYOQM3MzMzMzBBAMzMzMzMzC0AAAAAAAAAQQAAAAAAAAAxAZmZmZmZmCkA=",
                    "dtype": "f8"
                  },
                  "yaxis": "y"
                },
                {
                  "hovertemplate": "<b>%{hovertext}</b><br><br>country=JP<br>price_numeric=%{x}<br>star_numeric=%{y}<br>num_ratings_numeric=%{marker.size}<extra></extra>",
                  "hovertext": [
                    "Windows版 | Minecraft (マインクラフト): Java & Bedrock Edition | オンラインコード版",
                    "Microsoft Office Home 2024(最新 永続版)|オンラインコード版|Windows11、10/mac対応|PC2台",
                    "Windows 11 Home 日本語版",
                    "Microsoft Office Home & Business 2024(最新 永続版)|オンラインコード版|Windows11、10/mac対応|PC2台",
                    "ソースネクスト ｜ ZERO ウイルスセキュリティ 1台版（無期限） ｜ ウイルス対策・セキュリティソフト ｜ Windows/Mac/Android/iOS対応",
                    "【DL版】【初期費用3,300円が無料 ※1契約者1回線/年に限り】IIJmioえらべるSIMカード エントリーパッケージ 月額利用(音声SIM/SMS)[ドコモ・au回線]・(データ/eSIM/プリペイド)[ドコモ回線]IM-B327",
                    "マカフィー リブセーフ 3年用 [パッケージ版] Win/Mac/iOS/Android対応",
                    "Microsoft Office Home & Business 2024(最新 永続版)|カード版|Windows11、10/mac対応|PC2台",
                    "Microsoft Office Home 2024(最新 永続版)|カード版|Windows11、10/mac対応|PC2台",
                    "ファイナルファンタジーXIV コンプリートパック【新生エオルゼア~黄金のレガシー】【Amazon.co.jp限定】オリジナル壁紙 ※有効期限切れのため入手不可・使用不可 |Win対応|ダウンロード版",
                    "Xbox Game Pass Ultimate 1 ヶ月(Xbox Series X|S、Xbox One、Windows PC)|オンラインコード版",
                    "Windows 11 Pro 日本語版",
                    "Microsoft 365 Personal 1年版|オンラインコード版|Win/Mac/iPad|インストール台数無制限(同時使用可能台数5台)",
                    "ZERO ウイルスセキュリティ 1台 (最新)|ダウンロード版",
                    "【ダウンロード版】契約事務手数料が無料になるmineoエントリーパッケージ docomo/au/SoftBankの3回線が選べる格安SIMカード",
                    "Microsoft Excel 2024(最新 永続版)|オンラインコード版|Windows11、10/mac対応|PC2台",
                    "ソースネクスト ｜ ZERO スーパーセキュリティ 1台用 特別版（Windows専用） ｜ ウイルス対策・セキュリティソフト ｜ Windows対応",
                    "ファイナルファンタジーXIV: 黄金のレガシー【Amazon.co.jp限定】オリジナル壁紙 ※有効期限切れのため入手不可・使用不可|Win対応|オンラインコード版",
                    "【Adobe公式】Creative Cloud コンプリート 生成AI Firefly搭載 動画 / 写真 / イラスト 編集ソフト（最新）| 12ヵ月 | オンラインコード版 Win / Mac / iPad /アプリ 対応 | 動画 8K 4K ",
                    "ESET HOME セキュリティ エッセンシャル| 5台3年 |オンラインコード版|ウイルス対策|Win/Mac/Android対応|オンラインコード版",
                    "【自動更新】Microsoft 365 Personal AI機能搭載 1年版 サブスクリプション | Win/Mac/iPad|インストール台数無制限(同時使用可能台数5台)",
                    "ドラゴンクエストX　オンライン　オールインワンパッケージ　version 1-7 【購入特典】ゲーム内アイテム「黄金の花びら×10個」【Amazon.co.jp限定】ゲーム内で使える「超元気玉5個+ふくびき券10枚」が手に入るアイテムコード ※有効期",
                    "【Amazon.co.jp限定】ノートン セキュリティ デラックス(最新版)|3台・月額版|サブスクリプション(定期更新)|iOS/Windows/Android/Macintosh対応【PC/スマホ対応】",
                    "Office 2019 Home&Business｜カード版｜永続ライセンス｜Win11/10対応｜2台までインストール可｜手動認証（所要時間約5～10分）｜インストール手順をよくお読みください",
                    "Microsoft Access 2024(最新 永続版)|カード版|Windows11、10|PC2台",
                    "ESET HOME セキュリティ エッセンシャル(最新)| 1台3年 |オンラインコード版|ウイルス対策|Win/Mac/Android対応|オンラインコード版",
                    "【Adobe公式】Illustrator(イラストレーター) 生成AI Firefly搭載デザインソフト(最新)|12ヵ月| オンラインコード版 Win / Mac 対応 | イラスト ロゴ イラレ|オンラインコード版",
                    "AOSデータ AOSデータ ファイナルパソコン引越し Win11対応版 専用USBリンクケーブル付",
                    "ESET HOME セキュリティ エッセンシャル| 5台3年 |カード版|ウイルス対策|Win/Mac/Android対応",
                    "トレンドマイクロ ウイルスバスター トータルセキュリティ スタンダード 3年版 PKG",
                    "ソースネクスト ｜ Polaris Office｜ オフィスソフト ｜ Microsoft Office と高い 互換 性 Excel PowerPoint Word PDF Windows 対応 永続版|ダウンロード版",
                    "Microsoft Excel 2024(最新 永続版)|カード版|Windows11、10/mac対応|PC2台",
                    "【Windows11 Pro】 DSPライセンス日本語版(インストールUSB付)",
                    "ダウンロード販売用 Windows 11 Home|オンラインコード版",
                    "Xbox Game Pass Ultimate 3 ヶ月(Xbox Series X|S、Xbox One、Windows PC)|オンラインコード版",
                    "ウイルスバスターマルチデバイス(最新)|月額版|定期購入(サブスクリプション)|Win/Mac/Android対応",
                    "HD革命/CopyDrive Ver.8|ダウンロード版",
                    "【トレンドマイクロ公式】セキュリティソフト|ウイルスバスター クラウド(最新)| 3年 3台版 | カード版 | Win/Mac/iOS/Android対応【PC/スマホ対応】",
                    "筆ぐるめ 32 2025年版 | ジャングル | 年賀状・住所録・宛名印刷| Win対応|パッケージ版(DVD-ROM付き)",
                    "Microsoft 365 Family 1年版|オンラインコード版|Win/Mac/iPad|利用可能人数最大6人",
                    "【Windows11 Home】 DSPライセンス日本語版(インストールUSB付)",
                    "AOSデータ ターミネータ10 plus データ完全抹消 BIOS/UEFI版【パソコンの廃棄・リサイクル時にHDDやSSDのデータを丸ごと消去する情報漏洩対策ソフト】",
                    "【トレンドマイクロ公式】セキュリティソフト|ウイルスバスター クラウド(最新)| 3年 3台版 | オンラインコード版 | Win/Mac/iOS/Android対応【PC/スマホ対応】",
                    "ジャングル 完全ハードディスク抹消18 | データ消去| パッケージ版",
                    "ダウンロード販売用 Windows 11 Professional|オンラインコード版",
                    "PC Game Pass 3 ヶ月|オンラインコード版",
                    "弥生会計 25 スタンダード 通常版＜インボイス制度・電子帳簿保存法対応＞",
                    "【公式】マカフィー トータルプロテクション 3年5台版 2025 | セキュリティ対策ソフトウェア、アンチウイルス、セキュアVPN、パスワードマネージャー、IDモニタリング | オンラインコード版",
                    "一太郎2025 通常版",
                    "ソースネクスト | ZERO ウイルスセキュリティ 1台(CD-ROM版) | ウイルス対策・セキュリティソフト |",
                    "筆ぐるめ 32 2025年版 select|ダウンロード版",
                    "ソースネクスト ｜ ZERO スーパーセキュリティ 3台用 特別版（Windows専用） ｜ ウイルス対策・セキュリティソフト ｜ Windows対応",
                    "AHS Synthesizer V Studio 2 Pro スターターパック",
                    "ZEUS PLAYER ～ ブルーレイ・DVD・4Kビデオ・ハイレゾ音源再生 | ボックス版 | Win or Mac対応",
                    "アーク情報システム 【最新版】HD革命/CopyDrive_Ver.8_通常版 ハードディスク SSD 入れ替え 交換 まるごとコピーソフト コピードライブ",
                    "DocuWorks 9.1 ライセンス認証版 / 1ライセンス",
                    "ソースネクスト | Polaris Office| オフィスソフト | Microsoft Office と高い 互換 性 Excel PowerPoint Word PDF Windows 対応 永続版",
                    "ノートンライフロック ノートン 360 プレミアム/アンチトラック 3年5台版",
                    "Fate/Grand Order material XVII【書籍】",
                    "ジャングル PDF-XChange Editor(最新版)|PDF作成・編集・変換ソフト",
                    "ノートン 360 デラックス セキュリティソフト(最新)|3年3台版|オンラインコード版|Win/Mac/iOS/Android対応【PC/スマホ対応】",
                    "Microsoft Access 2024(最新 永続版)|オンラインコード版|Windows11、10|PC2台",
                    "DocuWorks 10 ライセンス認証版 基本パッケージ / 1ライセンス",
                    "Microsoft Word 2024(最新 永続版)|オンラインコード版|Windows11、10/mac対応|PC2台",
                    "やよいの青色申告 25 通常版＜令和6年分確定申告対応＞",
                    "CLIP STUDIO TABMATE(クリップ スタジオ タブメイト)",
                    "【2025年版】筆まめ Ver.35 （ 最新版 ）| ソースネクスト | 年賀状・ハガキ作成・住所録・宛名印刷ソフト| Win対応 (通常版)",
                    "【自動更新】Microsoft 365 Family AI機能搭載 1年版 サブスクリプション | Win/Mac/iPad|利用可能人数最大6人",
                    "【トレンドマイクロ公式】セキュリティソフト|ウイルスバスター トータルセキュリティ スタンダード (最新)| 3年 6台版| Win/Mac/iOS/Android対応【PC/スマホ対応】|オンラインコード版",
                    "ソースネクスト | いきなりPDF Ver.12 STANDARD 　(最新版) | PDF作成・編集・変換ソフト | Windows対応",
                    "ロード・エルメロイII世の冒険 9巻「星冠密議(1)」【書籍】",
                    "PowerDVD 23 Pro 通常版 | 動画再生 DVD再生 ブルーレイ再生 | 永続ライセンス|",
                    "<アドビ公式>Adobe Photoshop Elements 2025 (最新) パッケージ版|写真/画像編集ソフト|通常版|Windows|Mac対応|3年版|画像 写真 編集 AI 動画",
                    "ソースネクスト ｜Polaris Office Lite｜ オフィスソフト ｜ Microsoft Office と高い 互換 性 Excel Word PDF Windows 対応",
                    "【公式】マカフィー トータルプロテクション 3年5台版 2025 | セキュリティ対策ソフトウェア、アンチウイルス、セキュアVPN、パスワードマネージャー、IDモニタリング | カード版",
                    "【Adobe公式】Acrobat Pro 純正PDF編集ソフト（最新）| 12ヵ月 | パッケージコード版 | Win/Mac/iPad/スマホアプリ/ブラウザ対応 | PDF 変換 アドビ",
                    "ZERO スーパーセキュリティ 1台 (最新)|ダウンロード版",
                    "ノートン 360 デラックス セキュリティソフト(最新)|1年3台版|オンラインコード版|Win/Mac/iOS/Android対応【PC/スマホ対応】",
                    "【Windows11 Pro】 DSPライセンス日本語版",
                    "初音ミク V4X (incl. ENGLISH)",
                    "Fate/Grand Order material XVI【書籍】",
                    "筆ぐるめ 32 2025年版 特別キャンペーン版 | ジャングル | 年賀状・住所録・宛名印刷| Win対応|パッケージ版(DVD-ROM付き)",
                    "PowerDVD 24 Ultra 通常版 | 動画再生 DVD再生 ブルーレイ再生 | 永続ライセンス",
                    "ESET HOME セキュリティ プレミアム| 5台3年 |カード版|ウイルス対策|Win/Mac/Android/iOS対応",
                    "ソースネクスト | いきなりPDF Ver.12 COMPLETE 　(最新版) | PDF作成・編集・変換ソフト | Windows対応",
                    "PowerDirector 2025 Ultimate Suite 通常版 | 動画編集+色彩編集+オーディオ編集ソフト | AI機能搭載 | 永続ライセンス | Windows対応",
                    "ドラゴンクエストX　未来への扉とまどろみの少女　オンライン 【Amazon.co.jp限定】ゲーム内で使える「超元気玉5個+ふくびき券10枚」が手に入るアイテムコード ※有効期限切れのため入手不可・使用不可- Win対応|ダウンロード版",
                    "Microsoft PowerPoint 2024(最新 永続版)|オンラインコード版|Windows11、10/mac対応|PC2台",
                    "ESET HOME セキュリティ プレミアム(最新)| 1台3年 |オンラインコード版|ウイルス対策|Win/Mac/Android/iOS対応|オンラインコード版",
                    "【最新版】Wondershare Filmora14 動画編集ソフト（Windows版） 使いやすいビデオ・音楽編集ソフト｜AI搭載｜永続ライセンス｜DVDパッケージ版"
                  ],
                  "legendgroup": "JP",
                  "marker": {
                    "color": "#FF97FF",
                    "size": {
                      "bdata": "AAAAAAAKrEAAAAAAAPB4QAAAAAAAKJ9AAAAAAACgbUAAAAAAAJiHQAAAAAAAAqNAAAAAAAA2oUAAAAAAAABJQAAAAAAAgFlAAAAAAAAAQ0AAAAAAAJSSQAAAAAAAcIRAAAAAAABgfkAAAAAAABSfQAAAAAAAbK9AAAAAAACAXUAAAAAAAOB0QAAAAAAAgHpAAAAAAAD0kkAAAAAAAIBpQAAAAAAAYH5AAAAAAABAWkAAAAAAAABXQAAAAAAAAC5AAAAAAAAAMUAAAAAAAMBcQAAAAAAAAAhAAAAAAAAAbUAAAAAAAIBgQAAAAAAAAFtAAAAAAACAVEAAAAAAAAA9QAAAAAAAkHVAAAAAAABgbEAAAAAAAJSSQAAAAAAAgElAAAAAAAAAgkAAAAAAADahQAAAAAAAgF9AAAAAAABAWEAAAAAAAJB1QAAAAAAA0IFAAAAAAAA2oUAAAAAAAEBVQAAAAAAAgFxAAAAAAACUkkAAAAAAAIBDQAAAAAAAgFlAAAAAAAAAOkAAAAAAAKBgQAAAAAAAACJAAAAAAAAAZUAAAAAAAAA1QAAAAAAAwGpAAAAAAACwiUAAAAAAAHB0QAAAAAAAAExAAAAAAADAV0AAAAAAAAAzQAAAAAAAgEhAAAAAAABsl0AAAAAAAAA3QAAAAAAAAPA/AAAAAAAANUAAAAAAAIBNQAAAAAAAYH1AAAAAAADAU0AAAAAAAEBYQAAAAAAANqFAAAAAAADAUkAAAAAAAAA3QAAAAAAAIGBAAAAAAAAAQUAAAAAAAABXQAAAAAAAgF9AAAAAAAAAMEAAAAAAAMBzQAAAAAAAQHBAAAAAAACQdUAAAAAAAAA4QAAAAAAAADFAAAAAAABAYEAAAAAAAAA0QAAAAAAAwGRAAAAAAADAVEAAAAAAAABNQAAAAAAA8HFAAAAAAAAAMUAAAAAAAABFQAAAAAAAsIdA",
                      "dtype": "f8"
                    },
                    "sizemode": "area",
                    "sizeref": 47.9725,
                    "symbol": "circle"
                  },
                  "mode": "markers",
                  "name": "JP",
                  "orientation": "v",
                  "showlegend": true,
                  "type": "scatter",
                  "x": {
                    "bdata": "AAAAAADYq0AAAAAAwEveQAAAAAAAhMxAAAAAAMBT40AAAAAAADSnQAAAAAAA4HVAAAAAAAAEr0AAAAAAwLTiQAAAAACAudtAAAAAAADorUAAAAAAAKiWQAAAAAAAY9VAAAAAAADp0kAAAAAAAOKkQAAAAAAA4HVAAAAAAADc00AAAAAAAK6qQAAAAAAAsKNAAAAAAAAX80AAAAAAAJTBQAAAAAAAzdRAAAAAAAA0t0AAAAAAAKCEQAAAAACAxMBAAAAAAIDw0UAAAAAAAPS6QAAAAAAAyt5AAAAAAAAqtUAAAAAAAJTBQAAAAACAvspAAAAAAADwrkAAAAAAAOjRQAAAAAAACMZAAAAAAAAE0UAAAAAAAP6wQAAAAAAA4HxAAAAAAABSqEAAAAAAAAzHQAAAAAAA8KRAAAAAAEBT2EAAAAAAAA7FQAAAAAAA2KpAAAAAAACQykAAAAAAAL6oQAAAAAAAMtlAAAAAAAA0p0AAAAAAAODlQAAAAAAA4LpAAAAAAADD2UAAAAAAABilQAAAAAAAmKJAAAAAAACrtEAAAAAAQPvUQAAAAAAAUKRAAAAAAAA7sEAAAAAAAATQQAAAAAAANKpAAAAAAAAAxEAAAAAAAFSZQAAAAAAAX8BAAAAAAADky0AAAAAAQKnTQAAAAAAAwtpAAAAAAADc00AAAAAAAFLJQAAAAAAAq7RAAAAAAABauUAAAAAAAMLaQAAAAAAAFM5AAAAAAAAYr0AAAAAAAISSQAAAAAAA67pAAAAAAADczkAAAAAAADSnQAAAAAAA4LpAAAAAAMBQ1kAAAAAAAGexQAAAAAAARLtAAAAAAAAUxEAAAAAAgODLQAAAAAAATJ5AAAAAAADQoUAAAAAAgKzGQAAAAAAAashAAAAAAABWw0AAAAAAQFHQQAAAAAAAVrNAAAAAAECp00AAAAAAAFzCQAAAAAAAhMJA",
                    "dtype": "f8"
                  },
                  "xaxis": "x",
                  "y": {
                    "bdata": "AAAAAAAAEkAAAAAAAAAQQGZmZmZmZhBAZmZmZmZmEEAzMzMzMzMPQGZmZmZmZhBAzczMzMzMEEAzMzMzMzMPQAAAAAAAABBAmpmZmZmZEUAAAAAAAAASQDMzMzMzMw9AZmZmZmZmDkCamZmZmZkNQAAAAAAAABBAMzMzMzMzD0AzMzMzMzMPQM3MzMzMzAxAmpmZmZmZEUAzMzMzMzMRQGZmZmZmZg5AzczMzMzMEEBmZmZmZmYOQJqZmZmZmRFAmpmZmZmZDUAzMzMzMzMRQM3MzMzMzBBAMzMzMzMzC0DNzMzMzMwQQAAAAAAAABBAMzMzMzMzC0AAAAAAAAAQQDMzMzMzMw9AMzMzMzMzD0AAAAAAAAASQAAAAAAAAAhAzczMzMzMEEBmZmZmZmYQQGZmZmZmZhBAAAAAAAAAEEAzMzMzMzMPQM3MzMzMzAxAZmZmZmZmEEBmZmZmZmYOQGZmZmZmZhBAAAAAAAAAEkAAAAAAAAAMQAAAAAAAABBAZmZmZmZmDkAzMzMzMzMRQAAAAAAAAAxAMzMzMzMzD0BmZmZmZmYSQDMzMzMzMwtAzczMzMzMEECamZmZmZkRQM3MzMzMzAxAmpmZmZmZDUDNzMzMzMwSQAAAAAAAABBAAAAAAAAAEEDNzMzMzMwMQAAAAAAAABRAzczMzMzMDEAzMzMzMzMPQAAAAAAAABBAmpmZmZmZDUAAAAAAAAAQQGZmZmZmZhBAMzMzMzMzC0AzMzMzMzMTQJqZmZmZmQ1AZmZmZmZmCkDNzMzMzMwMQGZmZmZmZg5AZmZmZmZmEEBmZmZmZmYQQAAAAAAAABBAMzMzMzMzD0BmZmZmZmYQQJqZmZmZmRNAZmZmZmZmDkCamZmZmZkRQM3MzMzMzBBAzczMzMzMCEBmZmZmZmYOQDMzMzMzMxFAzczMzMzMDEDNzMzMzMwQQGZmZmZmZg5A",
                    "dtype": "f8"
                  },
                  "yaxis": "y"
                },
                {
                  "hovertemplate": "<b>%{hovertext}</b><br><br>country=MX<br>price_numeric=%{x}<br>star_numeric=%{y}<br>num_ratings_numeric=%{marker.size}<extra></extra>",
                  "hovertext": [
                    "Microsoft 365 Familia (12 Meses) - Standard - 6 Usuarios - PC/Mac | [Código Digital]",
                    "Microsoft 365 Personal (12 Meses) - Standard - 1 Usuario - PC/Mac | [Código Digital]",
                    "Microsoft Office Home 2024 | Apps clásicas: Word, Excel, PowerPoint, OneNote | Compra única para 1 PC/MAC | Descarga instantá",
                    "Microsoft 365 Personal | Suscripción anual | Para 1 PC o Mac, 1 tableta incluyendo iPad, Android, o Windows, además de 1 telé",
                    "Corel PaintShop Pro 2023 Ultimate | Potente software de edición de fotos y diseño gráfico + Creative Suite [tarjeta de llave ",
                    "Mezclador Digital Estéreo de 4 Canales Y Mezclador Mono de 8 Canales Consola de Mezcla de Sonido Mezclador de Audio para Tran",
                    "Office Suite 2022 Home & Student Premium | Open Word Processor, Spreadsheet, Presentation and Professional Software for Mac &",
                    "Moho Pro 13.5 | The all-in-one animation tool for professionals and digital artists | Software for PC and Mac OS",
                    "CLIP STUDIO PAINT EX - Version 1 - for Microsoft Windows and MacOS",
                    "Norton 360 Gamers - Software Antivirus para 3 Dispositivos [Windows, MacOS, Android, iOS] [Edición de América Latina y Caribe",
                    "Microsoft 365 Familia | Suscripción anual | Para 6 PCs o Macs, 6 tabletas incluyendo iPad, Android, o Windows, además de 6 te",
                    "Microsoft OEM System Builder | Windоws 11 Pro | Intended use for new systems | Authorized by Microsoft",
                    "Behringer Virtualizer 3D FX2000 procesador de efectos multimotor 3D de alto rendimiento",
                    "CLIP STUDIO TABMATE (versión internacional)",
                    "Corel PDF Fusion Document Management Suite [PC Disc]",
                    "LibreOffice 2025 compatible con Microsoft Office 2024 365 Professional Plus 2021 Home and Student Family Word, Excel, PowerPo",
                    "Yamaha AG 08 Mezclador de transmisión en vivo de 8 canales",
                    "Microsoft System Builder | Windоws 11 Home | Intended use for new systems | Install on a new PC | Branded by Microsoft",
                    "Office Suite 2025 compatible con Microsoft Office 2024, 2021, 365, 2019, 2016, 2013, impulsada por Apache OpenOffice en USB c",
                    "Audio-Technica AT-UMX3 Livestreaming USB Mezclador de audio",
                    "Shure MVX2U Interfaz de audio digital, conexión directa de micrófono a ordenador (XLR a USB)",
                    "CorelDRAW Essentials 2021 | Graphics Design Software for Occasional Users | Illustration, Layout, and Photo Editing [PC Disc]",
                    "CLIP STUDIO PAINT PRO - Version 4 | Perpetual License | for Windows and macOS",
                    "Tascam MiniStudio Creator Interfaz USB de transmisión de podcasting (US-42_BLACK_NM_BR)",
                    "Software Punto de Venta Sistema",
                    "PC-TECH USB Windows 11 Compatible With professional64 Bit With Key and USB. Factory Fresh, Recover, Repair and Restore. Key I",
                    "Miller's Crossing",
                    "Microsoft 365 Familia 2021 | Suscripción anual | Para 6 personas | Para PCs o Macs, tabletas incluyendo iPad, Android, o Wind",
                    "Microsoft 365 Personal 2021 | Suscripción anual | Caja con código de descarga",
                    "Office Suite 2025 Compatible con Microsoft Office 2024, 365, 2021, 2019, 2016, 2013, 2010, 2007 Word Excel PowerPoint en CD i",
                    "Microsoft 365 Family for 6 Users, 12-Month/1 year Subscription (Windows/Mac/iOS/Android)(Activation Key Card)",
                    "The Crew™ Motorfest - Limited Edition, Xbox Series X",
                    "CLIP STUDIO TABMATE",
                    "Synology IP Camera License Pack for 1 (CLP1)",
                    "Licencia Digital Unlock Tool Oficial por 3 meses para Un Usuario",
                    "Módulo del controlador del generador, DC10G Módulo generador del panel de control de arranque manual y automático para arranc",
                    "Hirens Boot CD 15.2 Tool to Fix & Repair All PC Problems",
                    "Dazzle DVD Recorder HD VHS to DVD Converter for Windows PC",
                    "Vikye Programador USB, Programador TL866II Plus USB EEPROM Flash BIOS Circuitos lógicos programables 8051 AVR MCU GAL PIC con",
                    "CLIP STUDIO PAINT PRO - Version 2 | Perpetual License | for Microsoft Windows and macOS",
                    "ELSKY Alfombrilla de mouse de oficina para computadora o portátil, Gmaing Mouse Protector/Teclado Protector de escritorio / T",
                    "Mezcladora de Audio: Mezclador Digital Estéreo de 4 Canales Y Mezclador Mezclador con Interfaz de Micrófono Streaming - USB M",
                    "インターネット Synthesizer V AI Megpoid",
                    "Efecto de distorsión de guitarra Efecto de distorsión eléctrico de 3 niveles y 3 niveles para accesorios de efecto único de t",
                    "Microsoft 365 Empresa (12 Meses) - Standard - 300 usuarios - PC/Mac | [Código Digital]",
                    "Microsoft Windows 10 Pro - Sistemas operativos (Delivery Service Partner (DSP), Full packaged product (FPP), 1 usuario(s), 20",
                    "Pinnacle Studio 26 | Value-Packed Video Editing & Screen Recording Software [PC Key Card]",
                    "One Hour Photo [Blu-ray]",
                    "Pedal de Guitarra de Distorsión Pedal para Guitarra Efecto de Distorsión de Guitarra Eléctrica de 3 Niveles para Accesorios d",
                    "Arturia DrumBrute Impact 1984 - Máquina de tambor analógica, color blanco",
                    "Malwarebytes Latest Version Antivirus Software | Amazon Exclusive | 18 Months, 2 Devices (PC, Mac, Android) [software_key_car",
                    "Quicken Classic Deluxe, Personal Finance Software - Take control of your finances - 1 Year Subscription (Windows/Mac) [Key Ca",
                    "Roxio Easy CD & DVD Burning 2 - Disc Burner & Video Capture",
                    "Oumij Restaurante de Llamadas de Paginación de Invitados con 1 Transmisor + 20 Localizadores Receptores -107dBm de Llamada de",
                    "ZWIZX - Unidad flash de arranque para restablecer contraseña USB, compatible con Windows 11, 10, 8.1, 7, Vista, XP | Recupera",
                    "Music Software Bundle for Recording, Editing, Beat Making & Production - DAW, VST Audio Plugins, Sounds for Mac & Windows PC",
                    "初音ミク V4X (incl. ENGLISH)",
                    "Wondershare Filmora 12 | WIN | 1 Gerät | (Product Keycard) Lebenslange Lizenz | Aktivierungscode per Post",
                    "Laplink PCmover Ultimate 11 - Migration of your Applications, Files and Settings from an Old PC to a New PC - Data Transfer S",
                    "Tech-Shop-pro Reinstall USB with key For Windows 11 Pro Version 32/64 bit. Recover, Restore, Repair Boot Disc, and Install to",
                    "GIMP Editor de Fotos 2025: Software de edición de imágenes Premium y profesional en CD compatible con Windows 11, 10, 8, 7, V",
                    "Spectrasonics Omnisphere 2 - Software de edición de audio/música",
                    "The Crew Motorfest - Standard Edition, Xbox One",
                    "AudioDeluxe Bundle FL Studio 21 Producer Edition and Waves Musicians 2",
                    "IBM SPSS Statistics Grad Pack Premium V29.0 12 Month License for 2 Computers",
                    "Microsoft Office Home and Business 2024 | Compra única | Antes Office Home & Bussiness 2021 [Código Digital]",
                    "Server 2022 Standard 64 bit | 16 core",
                    "GIMP Photo Editor 2025 Compatible con Adobe Photoshop Elements CC CS6 CS5 15. Software de edición de imágenes Premium y profe",
                    "TP-LINK CPE210 - Punto de Acceso (300 Megabit por Segundo, 2.4 Gigahertz, 300 Megabit por Segundo, TDMA, 2 Texto, 128-bit WEP",
                    "PDF Pro 4 - incl. OCR - sign PDFs - create forms - edit, convert, comment, create - for Win 11, 10, 8.1, 7",
                    "PDF Pro 3 - PDF editor to create, edit and convert PDFs - 100% Compatible with Adobe Acrobat – software for Windows 11, 10, 8",
                    "Yamaha AG 08 Mezclador de transmisión en vivo de 8 canales",
                    "ClearClick VHS to DVD Wizard Software with USB Video Capture Device",
                    "Moho Debut 14 | Animation software for PC and macOS",
                    "CLIP STUDIO PAINT PRO - Version 3 | Perpetual License | for Windows and macOS",
                    "Photoshop Elements 2024 and Premiere Elements 2024 | Box with Download Code",
                    "Microsoft Office Hogar y Empresa 2021",
                    "Corel WordPerfect Office Home & Student 2021 | Office Suite of Word Processor, Spreadsheets & Presentation Software [PC Disc]"
                  ],
                  "legendgroup": "MX",
                  "marker": {
                    "color": "#FECB52",
                    "size": {
                      "bdata": "AAAAAABQfUAAAAAAAHB9QAAAAAAAADZAAAAAAACYjUAAAAAAAKBjQAAAAAAAABRAAAAAAAD4gUAAAAAAAEBQQAAAAAAAMHFAAAAAAAAAQkAAAAAAANSRQAAAAAAAeIhAAAAAAADghEAAAAAAAMBUQAAAAAAAYG5AAAAAAABohEAAAAAAAAAiQAAAAAAAWJJAAAAAAADAb0AAAAAAAMBoQAAAAAAAzJFAAAAAAADAUkAAAAAAAAAAQAAAAAAAAFNAAAAAAAAAAEAAAAAAAABgQAAAAAAAIItAAAAAAABgYkAAAAAAAIBWQAAAAAAAXKJAAAAAAABgZEAAAAAAACBkQAAAAAAAoHdAAAAAAACUkkAAAAAAAADwPwAAAAAAACpAAAAAAAAAQ0AAAAAAAPCYQAAAAAAAgEdAAAAAAACAVUAAAAAAANSVQAAAAAAAAPA/AAAAAAAAIkAAAAAAAAAQQAAAAAAAAPA/AAAAAAAckkAAAAAAAAAxQAAAAAAA8JJAAAAAAAAAFEAAAAAAAAAgQAAAAAAA4IxAAAAAAADAbkAAAAAAAMSeQAAAAAAAABRAAAAAAACAi0AAAAAAAHiGQAAAAAAAADhAAAAAAAAANEAAAAAAAAAiQAAAAAAAgF9AAAAAAAAIiEAAAAAAAEBrQAAAAAAAQFpAAAAAAAAAT0AAAAAAAAAQQAAAAAAAAPA/AAAAAAAAKkAAAAAAAEBaQAAAAAAAABhAAAAAAAAAGEAAAAAAAMBlQAAAAAAAACJAAAAAAAB0lUAAAAAAAABMQAAAAAAAAC5AAAAAAACAVEAAAAAAAAAoQAAAAAAAOIdA",
                      "dtype": "f8"
                    },
                    "sizemode": "area",
                    "sizeref": 47.9725,
                    "symbol": "circle"
                  },
                  "mode": "markers",
                  "name": "MX",
                  "orientation": "v",
                  "showlegend": true,
                  "type": "scatter",
                  "x": {
                    "bdata": "AAAAAAAknkAAAAAAAISYQAAAAAAAsqRAAAAAAACom0AzMzMzs1uhQAAAAAAAkIRAAAAAAACQdUAAAAAAgKemQGZmZmZmUJdAAAAAAAC4gkAAAAAAAPahQAAAAAAARKtAXI/C9aiPqUD2KFyPwtiSQK5H4XoUM5hApHA9Ctf/eEAAAAAAgOHIQKRwPQpXhqZApHA9Ctf/eEAAAAAAABOsQAAAAAAAYqpAmpmZmRl1oUCamZmZmUaWQB+F61G4r5JAAAAAAACQhUBcj8L1KCScQHE9CtejDH9AAAAAAAD2oUAAAAAAAJScQKRwPQrX/3hAAAAAAACUoUA9CtejcCV/QFyPwvUos5lAzczMzMxQj0AAAAAAANCEQAAAAAAAMI1A4XoUrkdVdkDXo3A9Cg2SQAAAAAAAnJVAuB6F61FQkEDXo3A9Cu2DQAAAAAAAkHVA4XoUrkcenUAAAAAAALiOQAAAAAAA2q5AAAAAAAC+okApXI/C9SCHQMP1KFyPQndAAAAAAAAIkUCamZmZ2We6QD0K16NwGYtA16NwPQozn0DD9Shcj9yAQAAAAAAArKdAXI/C9SiMjED2KFyPwoWBQI/C9ShcIKVAmpmZmZkpn0BxPQrXoxadQMP1KFyPepNApHA9Ctf/eEDXo3A9SiHFQIXrUbgexYdAZmZmZqYOsECuR+F6lDevQAAAAAAAy7pAmpmZmZkbo0CkcD0K1/94QArXo3A9doxApHA9Ctd4lkA9CtejcHSRQBSuR+EaUchAmpmZmZl/hkApXI/C9RGUQIXrUbgeVJZAZmZmZub2p0AAAAAAAG+3QEjhehSu4YtA",
                    "dtype": "f8"
                  },
                  "xaxis": "x",
                  "y": {
                    "bdata": "ZmZmZmZmEkBmZmZmZmYSQJqZmZmZmRFAzczMzMzMEkAAAAAAAAAQQAAAAAAAABRAAAAAAAAAEEDNzMzMzMwSQJqZmZmZmRFAmpmZmZmZEUAzMzMzMzMTQGZmZmZmZhBAmpmZmZmZEUDNzMzMzMwQQGZmZmZmZgpAZmZmZmZmEEAzMzMzMzMLQAAAAAAAABBAMzMzMzMzD0DNzMzMzMwQQAAAAAAAABJAZmZmZmZmDkAAAAAAAAAUQGZmZmZmZhBAAAAAAAAAEkBmZmZmZmYQQGZmZmZmZhJAmpmZmZmZE0AzMzMzMzMTQAAAAAAAABBAZmZmZmZmEEDNzMzMzMwSQDMzMzMzMw9AzczMzMzMEkAAAAAAAAAUQDMzMzMzMxFAmpmZmZmZDUCamZmZmZkNQAAAAAAAABBAmpmZmZmZEUAzMzMzMzMRQAAAAAAAABRAmpmZmZmZE0DNzMzMzMwSQAAAAAAAAPA/MzMzMzMzD0BmZmZmZmYKQGZmZmZmZhJAAAAAAAAACEAzMzMzMzMRQJqZmZmZmRFAMzMzMzMzEUAAAAAAAAAQQAAAAAAAABRAAAAAAAAAEEBmZmZmZmYOQGZmZmZmZhBAmpmZmZmZEUAAAAAAAAAUQAAAAAAAABBAMzMzMzMzC0DNzMzMzMwSQAAAAAAAABJAZmZmZmZmEkCamZmZmZkJQAAAAAAAAPA/ZmZmZmZmEkAAAAAAAAAMQJqZmZmZmRFAZmZmZmZmBkAAAAAAAAAMQDMzMzMzMwtAAAAAAAAAEEBmZmZmZmYQQJqZmZmZmRNAAAAAAAAAEECamZmZmZkTQDMzMzMzMxFA",
                    "dtype": "f8"
                  },
                  "yaxis": "y"
                }
              ],
              "layout": {
                "height": 400,
                "legend": {
                  "itemsizing": "constant",
                  "title": {
                    "text": "country"
                  },
                  "tracegroupgap": 0
                },
                "template": {
                  "data": {
                    "bar": [
                      {
                        "error_x": {
                          "color": "#2a3f5f"
                        },
                        "error_y": {
                          "color": "#2a3f5f"
                        },
                        "marker": {
                          "line": {
                            "color": "#E5ECF6",
                            "width": 0.5
                          },
                          "pattern": {
                            "fillmode": "overlay",
                            "size": 10,
                            "solidity": 0.2
                          }
                        },
                        "type": "bar"
                      }
                    ],
                    "barpolar": [
                      {
                        "marker": {
                          "line": {
                            "color": "#E5ECF6",
                            "width": 0.5
                          },
                          "pattern": {
                            "fillmode": "overlay",
                            "size": 10,
                            "solidity": 0.2
                          }
                        },
                        "type": "barpolar"
                      }
                    ],
                    "carpet": [
                      {
                        "aaxis": {
                          "endlinecolor": "#2a3f5f",
                          "gridcolor": "white",
                          "linecolor": "white",
                          "minorgridcolor": "white",
                          "startlinecolor": "#2a3f5f"
                        },
                        "baxis": {
                          "endlinecolor": "#2a3f5f",
                          "gridcolor": "white",
                          "linecolor": "white",
                          "minorgridcolor": "white",
                          "startlinecolor": "#2a3f5f"
                        },
                        "type": "carpet"
                      }
                    ],
                    "choropleth": [
                      {
                        "colorbar": {
                          "outlinewidth": 0,
                          "ticks": ""
                        },
                        "type": "choropleth"
                      }
                    ],
                    "contour": [
                      {
                        "colorbar": {
                          "outlinewidth": 0,
                          "ticks": ""
                        },
                        "colorscale": [
                          [
                            0,
                            "#0d0887"
                          ],
                          [
                            0.1111111111111111,
                            "#46039f"
                          ],
                          [
                            0.2222222222222222,
                            "#7201a8"
                          ],
                          [
                            0.3333333333333333,
                            "#9c179e"
                          ],
                          [
                            0.4444444444444444,
                            "#bd3786"
                          ],
                          [
                            0.5555555555555556,
                            "#d8576b"
                          ],
                          [
                            0.6666666666666666,
                            "#ed7953"
                          ],
                          [
                            0.7777777777777778,
                            "#fb9f3a"
                          ],
                          [
                            0.8888888888888888,
                            "#fdca26"
                          ],
                          [
                            1,
                            "#f0f921"
                          ]
                        ],
                        "type": "contour"
                      }
                    ],
                    "contourcarpet": [
                      {
                        "colorbar": {
                          "outlinewidth": 0,
                          "ticks": ""
                        },
                        "type": "contourcarpet"
                      }
                    ],
                    "heatmap": [
                      {
                        "colorbar": {
                          "outlinewidth": 0,
                          "ticks": ""
                        },
                        "colorscale": [
                          [
                            0,
                            "#0d0887"
                          ],
                          [
                            0.1111111111111111,
                            "#46039f"
                          ],
                          [
                            0.2222222222222222,
                            "#7201a8"
                          ],
                          [
                            0.3333333333333333,
                            "#9c179e"
                          ],
                          [
                            0.4444444444444444,
                            "#bd3786"
                          ],
                          [
                            0.5555555555555556,
                            "#d8576b"
                          ],
                          [
                            0.6666666666666666,
                            "#ed7953"
                          ],
                          [
                            0.7777777777777778,
                            "#fb9f3a"
                          ],
                          [
                            0.8888888888888888,
                            "#fdca26"
                          ],
                          [
                            1,
                            "#f0f921"
                          ]
                        ],
                        "type": "heatmap"
                      }
                    ],
                    "histogram": [
                      {
                        "marker": {
                          "pattern": {
                            "fillmode": "overlay",
                            "size": 10,
                            "solidity": 0.2
                          }
                        },
                        "type": "histogram"
                      }
                    ],
                    "histogram2d": [
                      {
                        "colorbar": {
                          "outlinewidth": 0,
                          "ticks": ""
                        },
                        "colorscale": [
                          [
                            0,
                            "#0d0887"
                          ],
                          [
                            0.1111111111111111,
                            "#46039f"
                          ],
                          [
                            0.2222222222222222,
                            "#7201a8"
                          ],
                          [
                            0.3333333333333333,
                            "#9c179e"
                          ],
                          [
                            0.4444444444444444,
                            "#bd3786"
                          ],
                          [
                            0.5555555555555556,
                            "#d8576b"
                          ],
                          [
                            0.6666666666666666,
                            "#ed7953"
                          ],
                          [
                            0.7777777777777778,
                            "#fb9f3a"
                          ],
                          [
                            0.8888888888888888,
                            "#fdca26"
                          ],
                          [
                            1,
                            "#f0f921"
                          ]
                        ],
                        "type": "histogram2d"
                      }
                    ],
                    "histogram2dcontour": [
                      {
                        "colorbar": {
                          "outlinewidth": 0,
                          "ticks": ""
                        },
                        "colorscale": [
                          [
                            0,
                            "#0d0887"
                          ],
                          [
                            0.1111111111111111,
                            "#46039f"
                          ],
                          [
                            0.2222222222222222,
                            "#7201a8"
                          ],
                          [
                            0.3333333333333333,
                            "#9c179e"
                          ],
                          [
                            0.4444444444444444,
                            "#bd3786"
                          ],
                          [
                            0.5555555555555556,
                            "#d8576b"
                          ],
                          [
                            0.6666666666666666,
                            "#ed7953"
                          ],
                          [
                            0.7777777777777778,
                            "#fb9f3a"
                          ],
                          [
                            0.8888888888888888,
                            "#fdca26"
                          ],
                          [
                            1,
                            "#f0f921"
                          ]
                        ],
                        "type": "histogram2dcontour"
                      }
                    ],
                    "mesh3d": [
                      {
                        "colorbar": {
                          "outlinewidth": 0,
                          "ticks": ""
                        },
                        "type": "mesh3d"
                      }
                    ],
                    "parcoords": [
                      {
                        "line": {
                          "colorbar": {
                            "outlinewidth": 0,
                            "ticks": ""
                          }
                        },
                        "type": "parcoords"
                      }
                    ],
                    "pie": [
                      {
                        "automargin": true,
                        "type": "pie"
                      }
                    ],
                    "scatter": [
                      {
                        "fillpattern": {
                          "fillmode": "overlay",
                          "size": 10,
                          "solidity": 0.2
                        },
                        "type": "scatter"
                      }
                    ],
                    "scatter3d": [
                      {
                        "line": {
                          "colorbar": {
                            "outlinewidth": 0,
                            "ticks": ""
                          }
                        },
                        "marker": {
                          "colorbar": {
                            "outlinewidth": 0,
                            "ticks": ""
                          }
                        },
                        "type": "scatter3d"
                      }
                    ],
                    "scattercarpet": [
                      {
                        "marker": {
                          "colorbar": {
                            "outlinewidth": 0,
                            "ticks": ""
                          }
                        },
                        "type": "scattercarpet"
                      }
                    ],
                    "scattergeo": [
                      {
                        "marker": {
                          "colorbar": {
                            "outlinewidth": 0,
                            "ticks": ""
                          }
                        },
                        "type": "scattergeo"
                      }
                    ],
                    "scattergl": [
                      {
                        "marker": {
                          "colorbar": {
                            "outlinewidth": 0,
                            "ticks": ""
                          }
                        },
                        "type": "scattergl"
                      }
                    ],
                    "scattermap": [
                      {
                        "marker": {
                          "colorbar": {
                            "outlinewidth": 0,
                            "ticks": ""
                          }
                        },
                        "type": "scattermap"
                      }
                    ],
                    "scattermapbox": [
                      {
                        "marker": {
                          "colorbar": {
                            "outlinewidth": 0,
                            "ticks": ""
                          }
                        },
                        "type": "scattermapbox"
                      }
                    ],
                    "scatterpolar": [
                      {
                        "marker": {
                          "colorbar": {
                            "outlinewidth": 0,
                            "ticks": ""
                          }
                        },
                        "type": "scatterpolar"
                      }
                    ],
                    "scatterpolargl": [
                      {
                        "marker": {
                          "colorbar": {
                            "outlinewidth": 0,
                            "ticks": ""
                          }
                        },
                        "type": "scatterpolargl"
                      }
                    ],
                    "scatterternary": [
                      {
                        "marker": {
                          "colorbar": {
                            "outlinewidth": 0,
                            "ticks": ""
                          }
                        },
                        "type": "scatterternary"
                      }
                    ],
                    "surface": [
                      {
                        "colorbar": {
                          "outlinewidth": 0,
                          "ticks": ""
                        },
                        "colorscale": [
                          [
                            0,
                            "#0d0887"
                          ],
                          [
                            0.1111111111111111,
                            "#46039f"
                          ],
                          [
                            0.2222222222222222,
                            "#7201a8"
                          ],
                          [
                            0.3333333333333333,
                            "#9c179e"
                          ],
                          [
                            0.4444444444444444,
                            "#bd3786"
                          ],
                          [
                            0.5555555555555556,
                            "#d8576b"
                          ],
                          [
                            0.6666666666666666,
                            "#ed7953"
                          ],
                          [
                            0.7777777777777778,
                            "#fb9f3a"
                          ],
                          [
                            0.8888888888888888,
                            "#fdca26"
                          ],
                          [
                            1,
                            "#f0f921"
                          ]
                        ],
                        "type": "surface"
                      }
                    ],
                    "table": [
                      {
                        "cells": {
                          "fill": {
                            "color": "#EBF0F8"
                          },
                          "line": {
                            "color": "white"
                          }
                        },
                        "header": {
                          "fill": {
                            "color": "#C8D4E3"
                          },
                          "line": {
                            "color": "white"
                          }
                        },
                        "type": "table"
                      }
                    ]
                  },
                  "layout": {
                    "annotationdefaults": {
                      "arrowcolor": "#2a3f5f",
                      "arrowhead": 0,
                      "arrowwidth": 1
                    },
                    "autotypenumbers": "strict",
                    "coloraxis": {
                      "colorbar": {
                        "outlinewidth": 0,
                        "ticks": ""
                      }
                    },
                    "colorscale": {
                      "diverging": [
                        [
                          0,
                          "#8e0152"
                        ],
                        [
                          0.1,
                          "#c51b7d"
                        ],
                        [
                          0.2,
                          "#de77ae"
                        ],
                        [
                          0.3,
                          "#f1b6da"
                        ],
                        [
                          0.4,
                          "#fde0ef"
                        ],
                        [
                          0.5,
                          "#f7f7f7"
                        ],
                        [
                          0.6,
                          "#e6f5d0"
                        ],
                        [
                          0.7,
                          "#b8e186"
                        ],
                        [
                          0.8,
                          "#7fbc41"
                        ],
                        [
                          0.9,
                          "#4d9221"
                        ],
                        [
                          1,
                          "#276419"
                        ]
                      ],
                      "sequential": [
                        [
                          0,
                          "#0d0887"
                        ],
                        [
                          0.1111111111111111,
                          "#46039f"
                        ],
                        [
                          0.2222222222222222,
                          "#7201a8"
                        ],
                        [
                          0.3333333333333333,
                          "#9c179e"
                        ],
                        [
                          0.4444444444444444,
                          "#bd3786"
                        ],
                        [
                          0.5555555555555556,
                          "#d8576b"
                        ],
                        [
                          0.6666666666666666,
                          "#ed7953"
                        ],
                        [
                          0.7777777777777778,
                          "#fb9f3a"
                        ],
                        [
                          0.8888888888888888,
                          "#fdca26"
                        ],
                        [
                          1,
                          "#f0f921"
                        ]
                      ],
                      "sequentialminus": [
                        [
                          0,
                          "#0d0887"
                        ],
                        [
                          0.1111111111111111,
                          "#46039f"
                        ],
                        [
                          0.2222222222222222,
                          "#7201a8"
                        ],
                        [
                          0.3333333333333333,
                          "#9c179e"
                        ],
                        [
                          0.4444444444444444,
                          "#bd3786"
                        ],
                        [
                          0.5555555555555556,
                          "#d8576b"
                        ],
                        [
                          0.6666666666666666,
                          "#ed7953"
                        ],
                        [
                          0.7777777777777778,
                          "#fb9f3a"
                        ],
                        [
                          0.8888888888888888,
                          "#fdca26"
                        ],
                        [
                          1,
                          "#f0f921"
                        ]
                      ]
                    },
                    "colorway": [
                      "#636efa",
                      "#EF553B",
                      "#00cc96",
                      "#ab63fa",
                      "#FFA15A",
                      "#19d3f3",
                      "#FF6692",
                      "#B6E880",
                      "#FF97FF",
                      "#FECB52"
                    ],
                    "font": {
                      "color": "#2a3f5f"
                    },
                    "geo": {
                      "bgcolor": "white",
                      "lakecolor": "white",
                      "landcolor": "#E5ECF6",
                      "showlakes": true,
                      "showland": true,
                      "subunitcolor": "white"
                    },
                    "hoverlabel": {
                      "align": "left"
                    },
                    "hovermode": "closest",
                    "mapbox": {
                      "style": "light"
                    },
                    "paper_bgcolor": "white",
                    "plot_bgcolor": "#E5ECF6",
                    "polar": {
                      "angularaxis": {
                        "gridcolor": "white",
                        "linecolor": "white",
                        "ticks": ""
                      },
                      "bgcolor": "#E5ECF6",
                      "radialaxis": {
                        "gridcolor": "white",
                        "linecolor": "white",
                        "ticks": ""
                      }
                    },
                    "scene": {
                      "xaxis": {
                        "backgroundcolor": "#E5ECF6",
                        "gridcolor": "white",
                        "gridwidth": 2,
                        "linecolor": "white",
                        "showbackground": true,
                        "ticks": "",
                        "zerolinecolor": "white"
                      },
                      "yaxis": {
                        "backgroundcolor": "#E5ECF6",
                        "gridcolor": "white",
                        "gridwidth": 2,
                        "linecolor": "white",
                        "showbackground": true,
                        "ticks": "",
                        "zerolinecolor": "white"
                      },
                      "zaxis": {
                        "backgroundcolor": "#E5ECF6",
                        "gridcolor": "white",
                        "gridwidth": 2,
                        "linecolor": "white",
                        "showbackground": true,
                        "ticks": "",
                        "zerolinecolor": "white"
                      }
                    },
                    "shapedefaults": {
                      "line": {
                        "color": "#2a3f5f"
                      }
                    },
                    "ternary": {
                      "aaxis": {
                        "gridcolor": "white",
                        "linecolor": "white",
                        "ticks": ""
                      },
                      "baxis": {
                        "gridcolor": "white",
                        "linecolor": "white",
                        "ticks": ""
                      },
                      "bgcolor": "#E5ECF6",
                      "caxis": {
                        "gridcolor": "white",
                        "linecolor": "white",
                        "ticks": ""
                      }
                    },
                    "title": {
                      "x": 0.05
                    },
                    "xaxis": {
                      "automargin": true,
                      "gridcolor": "white",
                      "linecolor": "white",
                      "ticks": "",
                      "title": {
                        "standoff": 15
                      },
                      "zerolinecolor": "white",
                      "zerolinewidth": 2
                    },
                    "yaxis": {
                      "automargin": true,
                      "gridcolor": "white",
                      "linecolor": "white",
                      "ticks": "",
                      "title": {
                        "standoff": 15
                      },
                      "zerolinecolor": "white",
                      "zerolinewidth": 2
                    }
                  }
                },
                "title": {
                  "text": "Price vs Rating (hover for title, size = #reviews)"
                },
                "xaxis": {
                  "anchor": "y",
                  "domain": [
                    0,
                    1
                  ],
                  "title": {
                    "text": "price_numeric"
                  },
                  "type": "log"
                },
                "yaxis": {
                  "anchor": "x",
                  "domain": [
                    0,
                    1
                  ],
                  "title": {
                    "text": "star_numeric"
                  }
                }
              }
            }
          },
          "metadata": {},
          "output_type": "display_data"
        }
      ],
      "source": [
        "# %% Cell – Interactive scatter (NaN-safe)\n",
        "clean = df_bestsellers_2025.dropna(\n",
        "    subset=['price_numeric', 'star_numeric', 'num_ratings_numeric']\n",
        ")\n",
        "\n",
        "fig = px.scatter(\n",
        "    clean,\n",
        "    x='price_numeric',\n",
        "    y='star_numeric',\n",
        "    color='country',\n",
        "    hover_name='product_title',\n",
        "    size='num_ratings_numeric',\n",
        "    log_x=True,\n",
        "    title='Price vs Rating (hover for title, size = #reviews)'\n",
        ")\n",
        "fig.update_layout(height=400)\n",
        "fig.show()"
      ]
    },
    {
      "cell_type": "code",
      "execution_count": null,
      "id": "2f0a14c3",
      "metadata": {},
      "outputs": [
        {
          "data": {
            "image/png": "[encoded data removed]",
            "text/plain": [
              "<Figure size 1000x500 with 1 Axes>"
            ]
          },
          "metadata": {},
          "output_type": "display_data"
        }
      ],
      "source": [
        "\n",
        "plt.figure(figsize=(10,5))\n",
        "sns.scatterplot(data=df_bestsellers_2025, x='num_ratings_numeric', y='star_numeric', hue='country', alpha=0.9)\n",
        "plt.title('Number of Ratings vs Star Rating')\n",
        "plt.xlabel('Number of Ratings')\n",
        "plt.ylabel('Star Rating')\n",
        "plt.xscale('log')\n",
        "plt.tight_layout()\n",
        "plt.show()"
      ]
    }
  ],
  "metadata": {
    "kernelspec": {
      "display_name": "jupyter_venv",
      "language": "python",
      "name": "jupyter_venv"
    },
    "language_info": {
      "codemirror_mode": {
        "name": "ipython",
        "version": 3
      },
      "file_extension": ".py",
      "mimetype": "text/x-python",
      "name": "python",
      "nbconvert_exporter": "python",
      "pygments_lexer": "ipython3",
      "version": "3.13.5"
    }
  },
  "nbformat": 4,
  "nbformat_minor": 5
}
